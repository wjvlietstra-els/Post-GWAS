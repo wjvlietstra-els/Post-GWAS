{
 "cells": [
  {
   "cell_type": "markdown",
   "metadata": {},
   "source": [
    "# Create metapath-based features"
   ]
  },
  {
   "cell_type": "code",
   "execution_count": 1,
   "metadata": {},
   "outputs": [],
   "source": [
    "# Load the required packages\n",
    "import pandas as pd\n",
    "pd.set_option('display.max_columns', None)\n",
    "pd.set_option('display.max_rows', None)\n",
    "pd.set_option('display.max_colwidth', 2000)"
   ]
  },
  {
   "cell_type": "code",
   "execution_count": 5,
   "metadata": {},
   "outputs": [],
   "source": [
    "# Set the cutoff for minimal expression\n",
    "min_expression = 21\n",
    "FC_cutoff = 1.5\n",
    "FDR_cutoff = 0.0001\n",
    "include_gene_expression = False"
   ]
  },
  {
   "cell_type": "code",
   "execution_count": 3,
   "metadata": {},
   "outputs": [],
   "source": [
    "# Load the protein-protein interactions\n",
    "PPI = pd.read_csv(\"/Users/vlietstraw/git/Post-GWAS/Complete set of protein-protein interactions extracted from PathwayStudio.csv\")"
   ]
  },
  {
   "cell_type": "code",
   "execution_count": 6,
   "metadata": {},
   "outputs": [],
   "source": [
    "# Read in the differential expression calculations\n",
    "dex = pd.read_csv(\"../Input sets/Gene expression data/Galaxy37-[edgeR_DGE_on_2__design_matrix_prostate_unpaired.txt_-_differentially_expressed_genes].tabular.annotated.txt\", \n",
    "                  delimiter = \"\\t\", index_col = 0, names = [\"ENSEMBL\", \"gene\", \"logFC\", \"logCPM\", \"LR\", \"pValue\", \"FDR\"], header = 0)\n",
    "dex[\"ENSEMBL\"].replace(\"(\\.\\d+)\", \"\", regex = True, inplace = True)\n",
    "# We know that the logFC is a 2 log. However, I prefer absolute values rather than logs\n",
    "dex[\"FC\"] = 2**dex[\"logFC\"]\n",
    "\n",
    "# Assign differential expression to the genes based on the previously set parameters\n",
    "if include_gene_expression:\n",
    "    dex[\"Diff expression\"] = \"Unchanged\"\n",
    "    dex.loc[(dex[\"FDR\"] <= FDR_cutoff) & (dex[\"FC\"] <= 1/FC_cutoff), \"Diff expression\"] = \"Underexpressed\"\n",
    "    dex.loc[(dex[\"FDR\"] <= FDR_cutoff) & (dex[\"FC\"] >= FC_cutoff), \"Diff expression\"] = \"Overexpressed\""
   ]
  },
  {
   "cell_type": "code",
   "execution_count": 7,
   "metadata": {},
   "outputs": [],
   "source": [
    "# Create features based on direct paths\n",
    "if include_gene_expression:\n",
    "    PPI = PPI.merge(dex[[\"ENSEMBL\", \"Diff expression\"]], left_on = \"ENSEMBL1\", right_on = \"ENSEMBL\", how = \"inner\")\n",
    "    PPI = PPI.merge(dex[[\"ENSEMBL\", \"Diff expression\"]], left_on = \"ENSEMBL2\", right_on = \"ENSEMBL\", how = \"inner\", suffixes = [\" start\", \" end\"])\n",
    "\n",
    "# Create the types of paths\n",
    "if include_gene_expression:\n",
    "    PPI[\"direct_incoming\"] = PPI[\"Diff expression start\"] + \"_\" + PPI[\"predicate\"]\n",
    "    PPI[\"direct_outgoing\"] = PPI[\"predicate\"] + \"_\" + PPI[\"Diff expression end\"]\n",
    "\n",
    "    # Count the frequencies of the types of paths\n",
    "    direct_incoming = PPI.groupby([\"ENSEMBL end\", \"direct_incoming\"])[\"ENSEMBL start\"].nunique().unstack(level = 1, fill_value = 0)\n",
    "    direct_outgoing = PPI.groupby([\"ENSEMBL start\", \"direct_outgoing\"])[\"ENSEMBL end\"].nunique().unstack(level = 1, fill_value = 0)\n",
    "    \n",
    "else:\n",
    "    direct_incoming = PPI.groupby([\"ENSEMBL2\", \"predicate\"])[\"ENSEMBL1\"].nunique().unstack(level = 1, fill_value = 0)\n",
    "    direct_outgoing = PPI.groupby([\"ENSEMBL1\", \"predicate\"])[\"ENSEMBL2\"].nunique().unstack(level = 1, fill_value = 0)\n",
    "    direct_incoming.columns = [x + \"_direct_incoming\" for x in list(direct_incoming)]\n",
    "    direct_outgoing.columns = [x + \"_direct_outgoing\" for x in list(direct_outgoing)]"
   ]
  },
  {
   "cell_type": "code",
   "execution_count": null,
   "metadata": {},
   "outputs": [],
   "source": [
    "#f = direct_incoming.merge(direct_outgoing, how = \"outer\")"
   ]
  },
  {
   "cell_type": "code",
   "execution_count": null,
   "metadata": {},
   "outputs": [],
   "source": [
    "# Create the indirect outgoing paths\n",
    "if include_gene_expression:\n",
    "    indirect_outgoing = PPI[[\"ENSEMBL1\", \"ENSEMBL2\", \"direct_outgoing\"]].merge(\n",
    "        PPI[[\"ENSEMBL1\", \"predicate\", \"ENSEMBL2\", \"direct_outgoing\"]],\n",
    "        left_on = \"ENSEMBL2\", right_on = \"ENSEMBL1\", how = \"inner\", suffixes = [\" start\", \" end\"])\n",
    "else:\n",
    "    indirect_outgoing = PPI[[\"ENSEMBL1\", \"ENSEMBL2\", \"predicate\"]].merge(\n",
    "        PPI[[\"ENSEMBL1\", \"predicate\", \"ENSEMBL2\"]],\n",
    "        left_on = \"ENSEMBL2\", right_on = \"ENSEMBL1\", how = \"inner\", suffixes = [\" start\", \" end\"])\n",
    "    \n",
    "# Remove circular paths and duplicates\n",
    "indirect_outgoing = indirect_outgoing[indirect_outgoing[\"ENSEMBL1 start\"] != indirect_outgoing[\"ENSEMBL2 end\"]]\n",
    "indirect_outgoing.drop_duplicates(inplace = True)\n",
    "\n",
    "# Create the feature\n",
    "if include_gene_expression:\n",
    "    indirect_outgoing[\"indirect_outgoing\"] = indirect_outgoing[\"direct_outgoing start\"] + \"_\" + indirect_outgoing[\"direct_outgoing end\"]\n",
    "else:\n",
    "    indirect_outgoing[\"indirect_outgoing\"] = \"indirect_outgoing_\" + indirect_outgoing[\"predicate start\"] + \"_\" + indirect_outgoing[\"predicate end\"]\n",
    "indirect_outgoing = indirect_outgoing.groupby([\"ENSEMBL1 start\", \"indirect_outgoing\"])[\"ENSEMBL2 end\"].nunique().unstack(level = 1, fill_value = 0)"
   ]
  },
  {
   "cell_type": "code",
   "execution_count": null,
   "metadata": {},
   "outputs": [],
   "source": [
    "#f = f.merge(indirect_outgoing, how = \"outer\")\n",
    "outgoing = direct_outgoing.merge(indirect_outgoing, how = \"outer\")"
   ]
  },
  {
   "cell_type": "code",
   "execution_count": null,
   "metadata": {},
   "outputs": [],
   "source": [
    "# Create the indirect incoming paths\n",
    "if include_gene_expression:\n",
    "    indirect_incoming = PPI[PPI[\"ENSEMBL2\"].isin(PPI[\"ENSEMBL1\"][PPI[\"ENSEMBL2\"].isin(f[\"gene_ids\"])])][[\"ENSEMBL1\", \"ENSEMBL2\", \"direct_incoming\"]].merge(\n",
    "                    PPI[PPI[\"ENSEMBL2\"].isin(f[\"gene_ids\"])][[\"ENSEMBL1\", \"ENSEMBL2\", \"direct_incoming\"]], how = \"inner\", left_on = \"ENSEMBL2\", right_on = \"ENSEMBL1\",\n",
    "                    suffixes = [\" start\", \" end\"])\n",
    "else:\n",
    "    indirect_incoming = PPI[PPI[\"ENSEMBL2\"].isin(PPI[\"ENSEMBL1\"][PPI[\"ENSEMBL2\"].isin(f[\"gene_ids\"])])][[\"ENSEMBL1\", \"predicate\", \"ENSEMBL2\"]].merge(\n",
    "                    PPI[PPI[\"ENSEMBL2\"].isin(f[\"gene_ids\"])][[\"ENSEMBL1\", \"predicate\", \"ENSEMBL2\"]], how = \"inner\", left_on = \"ENSEMBL2\", right_on = \"ENSEMBL1\",\n",
    "                    suffixes = [\" start\", \" end\"])\n",
    "    \n",
    "# Remove circular paths and duplicates\n",
    "indirect_incoming = indirect_incoming[indirect_incoming[\"ENSEMBL1 start\"] != indirect_incoming[\"ENSEMBL2 end\"]]\n",
    "indirect_incoming.drop_duplicates(inplace = True)\n",
    "\n",
    "# Create the feature\n",
    "if include_gene_expression:\n",
    "    indirect_incoming[\"indirect_incoming\"] = indirect_incoming[\"direct_incoming start\"] + \"_\" + indirect_incoming[\"direct_incoming end\"]\n",
    "else:\n",
    "    indirect_incoming[\"indirect_incoming\"] = \"indirect_incoming_\" + indirect_incoming[\"predicate start\"] + \"_\" + indirect_incoming[\"predicate end\"]\n",
    "indirect_incoming = indirect_incoming.groupby([\"ENSEMBL2 end\", \"indirect_incoming\"])[\"ENSEMBL1 start\"].nunique().unstack(level = 1, fill_value = 0)"
   ]
  },
  {
   "cell_type": "code",
   "execution_count": null,
   "metadata": {},
   "outputs": [],
   "source": [
    "f = f.merge(indirect_incoming, how = \"outer\")"
   ]
  },
  {
   "cell_type": "code",
   "execution_count": null,
   "metadata": {},
   "outputs": [],
   "source": [
    "# Make all NA values 0\n",
    "f = f.fillna(0)\n",
    "# Write away the data\n",
    "f.to_csv(\"/Users/vlietstraw/git/Post-GWAS/Predicates/PathwayStudio predicate features PPI.csv\")"
   ]
  }
 ],
 "metadata": {
  "kernelspec": {
   "display_name": "Python 3",
   "language": "python",
   "name": "python3"
  },
  "language_info": {
   "codemirror_mode": {
    "name": "ipython",
    "version": 3
   },
   "file_extension": ".py",
   "mimetype": "text/x-python",
   "name": "python",
   "nbconvert_exporter": "python",
   "pygments_lexer": "ipython3",
   "version": "3.7.9"
  }
 },
 "nbformat": 4,
 "nbformat_minor": 4
}
