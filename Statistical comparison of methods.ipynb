{
 "cells": [
  {
   "cell_type": "markdown",
   "id": "87d5032a-58da-4e11-8cc4-ea48018474e8",
   "metadata": {},
   "source": [
    "# Statistical comparison of classifiers"
   ]
  },
  {
   "cell_type": "code",
   "execution_count": 2,
   "id": "7280a628-e2b5-4575-9534-a9112952c9e3",
   "metadata": {},
   "outputs": [],
   "source": [
    "import pandas as pd\n",
    "import scipy.stats\n",
    "import scikit_posthocs as sp"
   ]
  },
  {
   "cell_type": "code",
   "execution_count": 3,
   "id": "fe96f25d-f308-4a64-8a1b-0743bae3089a",
   "metadata": {},
   "outputs": [],
   "source": [
    "# Re-calculate the p-value according to the Iman-Davenport formula descibed by Demsar\n",
    "def Iman(ChiSquare, k, N, p):\n",
    "    import scipy.stats\n",
    "    Ff = ((N-1)*ChiSquare) / ((N*(k-1))-ChiSquare)\n",
    "    test_stat = scipy.stats.f.ppf(1-p, k-1, (k-1)*(N-1))\n",
    "    return [Ff, test_stat]"
   ]
  },
  {
   "cell_type": "markdown",
   "id": "d22bf93c-0786-4204-8b91-daf378beafa7",
   "metadata": {},
   "source": [
    "## ROC-AUC dataset level"
   ]
  },
  {
   "cell_type": "markdown",
   "id": "2330556e-f07c-4f4d-85b5-9c80f2418bf5",
   "metadata": {},
   "source": [
    "First we look at the ROC AUCs on the dataset level (so for every reference set a single entry)"
   ]
  },
  {
   "cell_type": "code",
   "execution_count": 4,
   "id": "07fa67d1-0b02-45aa-98d2-81172b620b7c",
   "metadata": {},
   "outputs": [],
   "source": [
    "# Load the data\n",
    "out4 = pd.read_excel(\"~/Desktop/AUCs per refset p-values as in manuscript (also for DEPICT and genetic distance).xlsx\")"
   ]
  },
  {
   "cell_type": "code",
   "execution_count": 5,
   "id": "a62b50c1-7b09-4ee9-ac38-3e9dc71bd9e1",
   "metadata": {},
   "outputs": [
    {
     "data": {
      "text/html": [
       "<div>\n",
       "<style scoped>\n",
       "    .dataframe tbody tr th:only-of-type {\n",
       "        vertical-align: middle;\n",
       "    }\n",
       "\n",
       "    .dataframe tbody tr th {\n",
       "        vertical-align: top;\n",
       "    }\n",
       "\n",
       "    .dataframe thead th {\n",
       "        text-align: right;\n",
       "    }\n",
       "</style>\n",
       "<table border=\"1\" class=\"dataframe\">\n",
       "  <thead>\n",
       "    <tr style=\"text-align: right;\">\n",
       "      <th></th>\n",
       "      <th>Unnamed: 0</th>\n",
       "      <th>Ensemble ranks</th>\n",
       "      <th>Ensemble scores</th>\n",
       "      <th>Ensemble combo</th>\n",
       "      <th>Genetic distance AUC</th>\n",
       "      <th>DEPICT For SNP AUC</th>\n",
       "      <th>network distance AUC</th>\n",
       "      <th>EVOKE AUC</th>\n",
       "      <th>node2vec normal AUC</th>\n",
       "      <th>node2vec graphlet AUC</th>\n",
       "      <th>node2vec autoencode AUC</th>\n",
       "      <th>node2vec combi AUC</th>\n",
       "      <th>predicates AUC</th>\n",
       "      <th>rdf2vec AUC</th>\n",
       "    </tr>\n",
       "  </thead>\n",
       "  <tbody>\n",
       "    <tr>\n",
       "      <th>0</th>\n",
       "      <td>Farashi</td>\n",
       "      <td>0.820062</td>\n",
       "      <td>0.807431</td>\n",
       "      <td>0.818250</td>\n",
       "      <td>0.792803</td>\n",
       "      <td>0.767</td>\n",
       "      <td>0.729054</td>\n",
       "      <td>0.740110</td>\n",
       "      <td>0.795185</td>\n",
       "      <td>0.758276</td>\n",
       "      <td>0.766899</td>\n",
       "      <td>0.790697</td>\n",
       "      <td>0.788767</td>\n",
       "      <td>0.770638</td>\n",
       "    </tr>\n",
       "    <tr>\n",
       "      <th>1</th>\n",
       "      <td>Farashi p-value cutoff</td>\n",
       "      <td>0.884146</td>\n",
       "      <td>0.831301</td>\n",
       "      <td>0.879065</td>\n",
       "      <td>0.720471</td>\n",
       "      <td>0.759</td>\n",
       "      <td>0.798780</td>\n",
       "      <td>0.729675</td>\n",
       "      <td>0.718496</td>\n",
       "      <td>0.717480</td>\n",
       "      <td>0.737805</td>\n",
       "      <td>0.775407</td>\n",
       "      <td>0.786585</td>\n",
       "      <td>0.807927</td>\n",
       "    </tr>\n",
       "    <tr>\n",
       "      <th>2</th>\n",
       "      <td>DeRycke</td>\n",
       "      <td>0.803143</td>\n",
       "      <td>0.813558</td>\n",
       "      <td>0.794343</td>\n",
       "      <td>0.735147</td>\n",
       "      <td>0.795</td>\n",
       "      <td>0.752676</td>\n",
       "      <td>0.760850</td>\n",
       "      <td>0.749031</td>\n",
       "      <td>0.757152</td>\n",
       "      <td>0.723883</td>\n",
       "      <td>0.720357</td>\n",
       "      <td>0.676884</td>\n",
       "      <td>0.771588</td>\n",
       "    </tr>\n",
       "    <tr>\n",
       "      <th>3</th>\n",
       "      <td>Teslovich</td>\n",
       "      <td>0.886757</td>\n",
       "      <td>0.882255</td>\n",
       "      <td>0.888415</td>\n",
       "      <td>0.778547</td>\n",
       "      <td>0.862</td>\n",
       "      <td>0.811157</td>\n",
       "      <td>0.793154</td>\n",
       "      <td>0.739616</td>\n",
       "      <td>0.741394</td>\n",
       "      <td>0.780768</td>\n",
       "      <td>0.791850</td>\n",
       "      <td>0.902737</td>\n",
       "      <td>0.833387</td>\n",
       "    </tr>\n",
       "  </tbody>\n",
       "</table>\n",
       "</div>"
      ],
      "text/plain": [
       "               Unnamed: 0  Ensemble ranks  Ensemble scores  Ensemble combo  \\\n",
       "0                 Farashi        0.820062         0.807431        0.818250   \n",
       "1  Farashi p-value cutoff        0.884146         0.831301        0.879065   \n",
       "2                 DeRycke        0.803143         0.813558        0.794343   \n",
       "3               Teslovich        0.886757         0.882255        0.888415   \n",
       "\n",
       "   Genetic distance AUC  DEPICT For SNP AUC  network distance AUC  EVOKE AUC  \\\n",
       "0              0.792803               0.767              0.729054   0.740110   \n",
       "1              0.720471               0.759              0.798780   0.729675   \n",
       "2              0.735147               0.795              0.752676   0.760850   \n",
       "3              0.778547               0.862              0.811157   0.793154   \n",
       "\n",
       "   node2vec normal AUC  node2vec graphlet AUC  node2vec autoencode AUC  \\\n",
       "0             0.795185               0.758276                 0.766899   \n",
       "1             0.718496               0.717480                 0.737805   \n",
       "2             0.749031               0.757152                 0.723883   \n",
       "3             0.739616               0.741394                 0.780768   \n",
       "\n",
       "   node2vec combi AUC  predicates AUC  rdf2vec AUC  \n",
       "0            0.790697        0.788767     0.770638  \n",
       "1            0.775407        0.786585     0.807927  \n",
       "2            0.720357        0.676884     0.771588  \n",
       "3            0.791850        0.902737     0.833387  "
      ]
     },
     "execution_count": 5,
     "metadata": {},
     "output_type": "execute_result"
    }
   ],
   "source": [
    "out4"
   ]
  },
  {
   "cell_type": "code",
   "execution_count": 6,
   "id": "8b4a025f-98f7-4ab8-b3a7-5d4c741cafc1",
   "metadata": {},
   "outputs": [],
   "source": [
    "ranks_hist = out4.assign(**out4.iloc[:, 1:].rank(axis = 1, ascending = True).astype(int))"
   ]
  },
  {
   "cell_type": "code",
   "execution_count": 7,
   "id": "acd8820e-eb2d-4d34-ab75-76970349fed3",
   "metadata": {},
   "outputs": [
    {
     "data": {
      "text/html": [
       "<div>\n",
       "<style scoped>\n",
       "    .dataframe tbody tr th:only-of-type {\n",
       "        vertical-align: middle;\n",
       "    }\n",
       "\n",
       "    .dataframe tbody tr th {\n",
       "        vertical-align: top;\n",
       "    }\n",
       "\n",
       "    .dataframe thead th {\n",
       "        text-align: right;\n",
       "    }\n",
       "</style>\n",
       "<table border=\"1\" class=\"dataframe\">\n",
       "  <thead>\n",
       "    <tr style=\"text-align: right;\">\n",
       "      <th></th>\n",
       "      <th>Unnamed: 0</th>\n",
       "      <th>Ensemble ranks</th>\n",
       "      <th>Ensemble scores</th>\n",
       "      <th>Ensemble combo</th>\n",
       "      <th>Genetic distance AUC</th>\n",
       "      <th>DEPICT For SNP AUC</th>\n",
       "      <th>network distance AUC</th>\n",
       "      <th>EVOKE AUC</th>\n",
       "      <th>node2vec normal AUC</th>\n",
       "      <th>node2vec graphlet AUC</th>\n",
       "      <th>node2vec autoencode AUC</th>\n",
       "      <th>node2vec combi AUC</th>\n",
       "      <th>predicates AUC</th>\n",
       "      <th>rdf2vec AUC</th>\n",
       "    </tr>\n",
       "  </thead>\n",
       "  <tbody>\n",
       "    <tr>\n",
       "      <th>0</th>\n",
       "      <td>Farashi</td>\n",
       "      <td>13</td>\n",
       "      <td>11</td>\n",
       "      <td>12</td>\n",
       "      <td>9</td>\n",
       "      <td>5</td>\n",
       "      <td>1</td>\n",
       "      <td>2</td>\n",
       "      <td>10</td>\n",
       "      <td>3</td>\n",
       "      <td>4</td>\n",
       "      <td>8</td>\n",
       "      <td>7</td>\n",
       "      <td>6</td>\n",
       "    </tr>\n",
       "    <tr>\n",
       "      <th>1</th>\n",
       "      <td>Farashi p-value cutoff</td>\n",
       "      <td>13</td>\n",
       "      <td>11</td>\n",
       "      <td>12</td>\n",
       "      <td>3</td>\n",
       "      <td>6</td>\n",
       "      <td>9</td>\n",
       "      <td>4</td>\n",
       "      <td>2</td>\n",
       "      <td>1</td>\n",
       "      <td>5</td>\n",
       "      <td>7</td>\n",
       "      <td>8</td>\n",
       "      <td>10</td>\n",
       "    </tr>\n",
       "    <tr>\n",
       "      <th>2</th>\n",
       "      <td>DeRycke</td>\n",
       "      <td>12</td>\n",
       "      <td>13</td>\n",
       "      <td>10</td>\n",
       "      <td>4</td>\n",
       "      <td>11</td>\n",
       "      <td>6</td>\n",
       "      <td>8</td>\n",
       "      <td>5</td>\n",
       "      <td>7</td>\n",
       "      <td>3</td>\n",
       "      <td>2</td>\n",
       "      <td>1</td>\n",
       "      <td>9</td>\n",
       "    </tr>\n",
       "    <tr>\n",
       "      <th>3</th>\n",
       "      <td>Teslovich</td>\n",
       "      <td>11</td>\n",
       "      <td>10</td>\n",
       "      <td>12</td>\n",
       "      <td>3</td>\n",
       "      <td>9</td>\n",
       "      <td>7</td>\n",
       "      <td>6</td>\n",
       "      <td>1</td>\n",
       "      <td>2</td>\n",
       "      <td>4</td>\n",
       "      <td>5</td>\n",
       "      <td>13</td>\n",
       "      <td>8</td>\n",
       "    </tr>\n",
       "  </tbody>\n",
       "</table>\n",
       "</div>"
      ],
      "text/plain": [
       "               Unnamed: 0  Ensemble ranks  Ensemble scores  Ensemble combo  \\\n",
       "0                 Farashi              13               11              12   \n",
       "1  Farashi p-value cutoff              13               11              12   \n",
       "2                 DeRycke              12               13              10   \n",
       "3               Teslovich              11               10              12   \n",
       "\n",
       "   Genetic distance AUC  DEPICT For SNP AUC  network distance AUC  EVOKE AUC  \\\n",
       "0                     9                   5                     1          2   \n",
       "1                     3                   6                     9          4   \n",
       "2                     4                  11                     6          8   \n",
       "3                     3                   9                     7          6   \n",
       "\n",
       "   node2vec normal AUC  node2vec graphlet AUC  node2vec autoencode AUC  \\\n",
       "0                   10                      3                        4   \n",
       "1                    2                      1                        5   \n",
       "2                    5                      7                        3   \n",
       "3                    1                      2                        4   \n",
       "\n",
       "   node2vec combi AUC  predicates AUC  rdf2vec AUC  \n",
       "0                   8               7            6  \n",
       "1                   7               8           10  \n",
       "2                   2               1            9  \n",
       "3                   5              13            8  "
      ]
     },
     "execution_count": 7,
     "metadata": {},
     "output_type": "execute_result"
    }
   ],
   "source": [
    "ranks_hist"
   ]
  },
  {
   "cell_type": "code",
   "execution_count": 8,
   "id": "920905a0-9645-44fc-8060-d3b118d5c5f2",
   "metadata": {},
   "outputs": [
    {
     "data": {
      "text/plain": [
       "Ensemble ranks             12.25\n",
       "Ensemble scores            11.25\n",
       "Ensemble combo             11.50\n",
       "Genetic distance AUC        4.75\n",
       "DEPICT For SNP AUC          7.75\n",
       "network distance AUC        5.75\n",
       "EVOKE AUC                   5.00\n",
       "node2vec normal AUC         4.50\n",
       "node2vec graphlet AUC       3.25\n",
       "node2vec autoencode AUC     4.00\n",
       "node2vec combi AUC          5.50\n",
       "predicates AUC              7.25\n",
       "rdf2vec AUC                 8.25\n",
       "dtype: float64"
      ]
     },
     "execution_count": 8,
     "metadata": {},
     "output_type": "execute_result"
    }
   ],
   "source": [
    "ranks_hist.mean(numeric_only = True)"
   ]
  },
  {
   "cell_type": "markdown",
   "id": "94f07905-216e-47d9-828b-4555ce969faa",
   "metadata": {},
   "source": [
    "### All Friedman (also with combined methods)"
   ]
  },
  {
   "cell_type": "code",
   "execution_count": 10,
   "id": "8ea6a161-770a-4d87-abc4-e2e0ff642035",
   "metadata": {},
   "outputs": [],
   "source": [
    "all_together = scipy.stats.friedmanchisquare(out4[\"Ensemble ranks\"],\n",
    "                                               out4[\"Ensemble scores\"],\n",
    "                                               out4[\"Ensemble combo\"],\n",
    "                                               out4[\"Genetic distance AUC\"], \n",
    "                                               out4[\"DEPICT For SNP AUC\"], \n",
    "                                               out4[\"EVOKE AUC\"], \n",
    "                                               out4[\"network distance AUC\"], \n",
    "                                               out4[\"node2vec normal AUC\"], \n",
    "                                               out4[\"node2vec graphlet AUC\"], \n",
    "                                               out4[\"node2vec autoencode AUC\"], \n",
    "                                               out4[\"node2vec combi AUC\"], \n",
    "                                               out4[\"predicates AUC\"], \n",
    "                                               out4[\"rdf2vec AUC\"])"
   ]
  },
  {
   "cell_type": "code",
   "execution_count": 11,
   "id": "6743866c-1741-41db-b7d1-ceb07de6c3f1",
   "metadata": {},
   "outputs": [
    {
     "name": "stdout",
     "output_type": "stream",
     "text": [
      "0.0038\n"
     ]
    }
   ],
   "source": [
    "print(round(all_together[1],4))"
   ]
  },
  {
   "cell_type": "code",
   "execution_count": 22,
   "id": "3fa6fcfb-e64f-42fc-aba5-df5ac2c2d200",
   "metadata": {},
   "outputs": [
    {
     "data": {
      "text/plain": [
       "[4.609756097560982, 4.5915961537520165]"
      ]
     },
     "execution_count": 22,
     "metadata": {},
     "output_type": "execute_result"
    }
   ],
   "source": [
    "# Iman-Davenport for manuscript numbers\n",
    "Iman(all_together[0], 13, 4, 0.00018)"
   ]
  },
  {
   "cell_type": "markdown",
   "id": "58d405c7-92e8-45f5-a0c4-e88c9db7dfe1",
   "metadata": {},
   "source": [
    "### Friedman test individual methods"
   ]
  },
  {
   "cell_type": "code",
   "execution_count": 8,
   "id": "ecfe5f16-dea6-44ba-8b8f-e3b3feb39065",
   "metadata": {},
   "outputs": [],
   "source": [
    "all_individual = scipy.stats.friedmanchisquare(out4[\"Genetic distance AUC\"], \n",
    "                                               out4[\"DEPICT For SNP AUC\"], \n",
    "                                               out4[\"EVOKE AUC\"], \n",
    "                                               out4[\"network distance AUC\"], \n",
    "                                               out4[\"node2vec normal AUC\"], \n",
    "                                               out4[\"node2vec graphlet AUC\"], \n",
    "                                               out4[\"node2vec autoencode AUC\"], \n",
    "                                               out4[\"node2vec combi AUC\"], \n",
    "                                               out4[\"predicates AUC\"], \n",
    "                                               out4[\"rdf2vec AUC\"])"
   ]
  },
  {
   "cell_type": "markdown",
   "id": "00aa1e9c-966f-49bf-bec2-a37af82195d9",
   "metadata": {},
   "source": [
    "Original p-value:"
   ]
  },
  {
   "cell_type": "code",
   "execution_count": 9,
   "id": "af2e396e-389f-4a7c-88f8-6e982ff01209",
   "metadata": {},
   "outputs": [
    {
     "name": "stdout",
     "output_type": "stream",
     "text": [
      "0.3932\n"
     ]
    }
   ],
   "source": [
    "print(round(all_individual[1],4))"
   ]
  },
  {
   "cell_type": "code",
   "execution_count": 10,
   "id": "aff1841f-0a3f-45c0-9a87-417d69506942",
   "metadata": {},
   "outputs": [
    {
     "data": {
      "text/plain": [
       "[1.074074074074071, 1.0626035808540077]"
      ]
     },
     "execution_count": 10,
     "metadata": {},
     "output_type": "execute_result"
    }
   ],
   "source": [
    "# Iman-Davenport for manuscript numbers\n",
    "Iman(all_individual[0], 10, 4, 0.42)"
   ]
  },
  {
   "cell_type": "code",
   "execution_count": 11,
   "id": "afaba22b-c082-45f2-baac-4b0fdde152c6",
   "metadata": {},
   "outputs": [
    {
     "data": {
      "text/plain": [
       "[1.074074074074071, 2.7552846946535015]"
      ]
     },
     "execution_count": 11,
     "metadata": {},
     "output_type": "execute_result"
    }
   ],
   "source": [
    "# Iman-Davenport for DEPICT & Genetic distance aligned numbers\n",
    "Iman(all_individual[0], 10, 4, 0.02)"
   ]
  },
  {
   "cell_type": "markdown",
   "id": "e8e7fa10-835c-4d1e-8bc4-38af5cb8a47e",
   "metadata": {},
   "source": [
    "### Nemeyi post-hoc analysis individual methods"
   ]
  },
  {
   "cell_type": "code",
   "execution_count": 12,
   "id": "4c04590e-552b-42ef-9872-d3ac4bd4bb28",
   "metadata": {},
   "outputs": [
    {
     "data": {
      "text/html": [
       "<div>\n",
       "<style scoped>\n",
       "    .dataframe tbody tr th:only-of-type {\n",
       "        vertical-align: middle;\n",
       "    }\n",
       "\n",
       "    .dataframe tbody tr th {\n",
       "        vertical-align: top;\n",
       "    }\n",
       "\n",
       "    .dataframe thead th {\n",
       "        text-align: right;\n",
       "    }\n",
       "</style>\n",
       "<table border=\"1\" class=\"dataframe\">\n",
       "  <thead>\n",
       "    <tr style=\"text-align: right;\">\n",
       "      <th></th>\n",
       "      <th>Genetic distance AUC</th>\n",
       "      <th>DEPICT For SNP AUC</th>\n",
       "      <th>EVOKE AUC</th>\n",
       "      <th>network distance AUC</th>\n",
       "      <th>node2vec normal AUC</th>\n",
       "      <th>node2vec graphlet AUC</th>\n",
       "      <th>node2vec autoencode AUC</th>\n",
       "      <th>node2vec combi AUC</th>\n",
       "      <th>predicates AUC</th>\n",
       "      <th>rdf2vec AUC</th>\n",
       "    </tr>\n",
       "  </thead>\n",
       "  <tbody>\n",
       "    <tr>\n",
       "      <th>Genetic distance AUC</th>\n",
       "      <td>NaN</td>\n",
       "      <td>NaN</td>\n",
       "      <td>NaN</td>\n",
       "      <td>NaN</td>\n",
       "      <td>NaN</td>\n",
       "      <td>NaN</td>\n",
       "      <td>NaN</td>\n",
       "      <td>NaN</td>\n",
       "      <td>NaN</td>\n",
       "      <td>NaN</td>\n",
       "    </tr>\n",
       "    <tr>\n",
       "      <th>DEPICT For SNP AUC</th>\n",
       "      <td>NaN</td>\n",
       "      <td>NaN</td>\n",
       "      <td>NaN</td>\n",
       "      <td>NaN</td>\n",
       "      <td>NaN</td>\n",
       "      <td>NaN</td>\n",
       "      <td>NaN</td>\n",
       "      <td>NaN</td>\n",
       "      <td>NaN</td>\n",
       "      <td>NaN</td>\n",
       "    </tr>\n",
       "    <tr>\n",
       "      <th>EVOKE AUC</th>\n",
       "      <td>NaN</td>\n",
       "      <td>NaN</td>\n",
       "      <td>NaN</td>\n",
       "      <td>NaN</td>\n",
       "      <td>NaN</td>\n",
       "      <td>NaN</td>\n",
       "      <td>NaN</td>\n",
       "      <td>NaN</td>\n",
       "      <td>NaN</td>\n",
       "      <td>NaN</td>\n",
       "    </tr>\n",
       "    <tr>\n",
       "      <th>network distance AUC</th>\n",
       "      <td>NaN</td>\n",
       "      <td>NaN</td>\n",
       "      <td>NaN</td>\n",
       "      <td>NaN</td>\n",
       "      <td>NaN</td>\n",
       "      <td>NaN</td>\n",
       "      <td>NaN</td>\n",
       "      <td>NaN</td>\n",
       "      <td>NaN</td>\n",
       "      <td>NaN</td>\n",
       "    </tr>\n",
       "    <tr>\n",
       "      <th>node2vec normal AUC</th>\n",
       "      <td>NaN</td>\n",
       "      <td>NaN</td>\n",
       "      <td>NaN</td>\n",
       "      <td>NaN</td>\n",
       "      <td>NaN</td>\n",
       "      <td>NaN</td>\n",
       "      <td>NaN</td>\n",
       "      <td>NaN</td>\n",
       "      <td>NaN</td>\n",
       "      <td>NaN</td>\n",
       "    </tr>\n",
       "    <tr>\n",
       "      <th>node2vec graphlet AUC</th>\n",
       "      <td>NaN</td>\n",
       "      <td>NaN</td>\n",
       "      <td>NaN</td>\n",
       "      <td>NaN</td>\n",
       "      <td>NaN</td>\n",
       "      <td>NaN</td>\n",
       "      <td>NaN</td>\n",
       "      <td>NaN</td>\n",
       "      <td>NaN</td>\n",
       "      <td>NaN</td>\n",
       "    </tr>\n",
       "    <tr>\n",
       "      <th>node2vec autoencode AUC</th>\n",
       "      <td>NaN</td>\n",
       "      <td>NaN</td>\n",
       "      <td>NaN</td>\n",
       "      <td>NaN</td>\n",
       "      <td>NaN</td>\n",
       "      <td>NaN</td>\n",
       "      <td>NaN</td>\n",
       "      <td>NaN</td>\n",
       "      <td>NaN</td>\n",
       "      <td>NaN</td>\n",
       "    </tr>\n",
       "    <tr>\n",
       "      <th>node2vec combi AUC</th>\n",
       "      <td>NaN</td>\n",
       "      <td>NaN</td>\n",
       "      <td>NaN</td>\n",
       "      <td>NaN</td>\n",
       "      <td>NaN</td>\n",
       "      <td>NaN</td>\n",
       "      <td>NaN</td>\n",
       "      <td>NaN</td>\n",
       "      <td>NaN</td>\n",
       "      <td>NaN</td>\n",
       "    </tr>\n",
       "    <tr>\n",
       "      <th>predicates AUC</th>\n",
       "      <td>NaN</td>\n",
       "      <td>NaN</td>\n",
       "      <td>NaN</td>\n",
       "      <td>NaN</td>\n",
       "      <td>NaN</td>\n",
       "      <td>NaN</td>\n",
       "      <td>NaN</td>\n",
       "      <td>NaN</td>\n",
       "      <td>NaN</td>\n",
       "      <td>NaN</td>\n",
       "    </tr>\n",
       "    <tr>\n",
       "      <th>rdf2vec AUC</th>\n",
       "      <td>NaN</td>\n",
       "      <td>NaN</td>\n",
       "      <td>NaN</td>\n",
       "      <td>NaN</td>\n",
       "      <td>NaN</td>\n",
       "      <td>NaN</td>\n",
       "      <td>NaN</td>\n",
       "      <td>NaN</td>\n",
       "      <td>NaN</td>\n",
       "      <td>NaN</td>\n",
       "    </tr>\n",
       "  </tbody>\n",
       "</table>\n",
       "</div>"
      ],
      "text/plain": [
       "                         Genetic distance AUC  DEPICT For SNP AUC  EVOKE AUC  \\\n",
       "Genetic distance AUC                      NaN                 NaN        NaN   \n",
       "DEPICT For SNP AUC                        NaN                 NaN        NaN   \n",
       "EVOKE AUC                                 NaN                 NaN        NaN   \n",
       "network distance AUC                      NaN                 NaN        NaN   \n",
       "node2vec normal AUC                       NaN                 NaN        NaN   \n",
       "node2vec graphlet AUC                     NaN                 NaN        NaN   \n",
       "node2vec autoencode AUC                   NaN                 NaN        NaN   \n",
       "node2vec combi AUC                        NaN                 NaN        NaN   \n",
       "predicates AUC                            NaN                 NaN        NaN   \n",
       "rdf2vec AUC                               NaN                 NaN        NaN   \n",
       "\n",
       "                         network distance AUC  node2vec normal AUC  \\\n",
       "Genetic distance AUC                      NaN                  NaN   \n",
       "DEPICT For SNP AUC                        NaN                  NaN   \n",
       "EVOKE AUC                                 NaN                  NaN   \n",
       "network distance AUC                      NaN                  NaN   \n",
       "node2vec normal AUC                       NaN                  NaN   \n",
       "node2vec graphlet AUC                     NaN                  NaN   \n",
       "node2vec autoencode AUC                   NaN                  NaN   \n",
       "node2vec combi AUC                        NaN                  NaN   \n",
       "predicates AUC                            NaN                  NaN   \n",
       "rdf2vec AUC                               NaN                  NaN   \n",
       "\n",
       "                         node2vec graphlet AUC  node2vec autoencode AUC  \\\n",
       "Genetic distance AUC                       NaN                      NaN   \n",
       "DEPICT For SNP AUC                         NaN                      NaN   \n",
       "EVOKE AUC                                  NaN                      NaN   \n",
       "network distance AUC                       NaN                      NaN   \n",
       "node2vec normal AUC                        NaN                      NaN   \n",
       "node2vec graphlet AUC                      NaN                      NaN   \n",
       "node2vec autoencode AUC                    NaN                      NaN   \n",
       "node2vec combi AUC                         NaN                      NaN   \n",
       "predicates AUC                             NaN                      NaN   \n",
       "rdf2vec AUC                                NaN                      NaN   \n",
       "\n",
       "                         node2vec combi AUC  predicates AUC  rdf2vec AUC  \n",
       "Genetic distance AUC                    NaN             NaN          NaN  \n",
       "DEPICT For SNP AUC                      NaN             NaN          NaN  \n",
       "EVOKE AUC                               NaN             NaN          NaN  \n",
       "network distance AUC                    NaN             NaN          NaN  \n",
       "node2vec normal AUC                     NaN             NaN          NaN  \n",
       "node2vec graphlet AUC                   NaN             NaN          NaN  \n",
       "node2vec autoencode AUC                 NaN             NaN          NaN  \n",
       "node2vec combi AUC                      NaN             NaN          NaN  \n",
       "predicates AUC                          NaN             NaN          NaN  \n",
       "rdf2vec AUC                             NaN             NaN          NaN  "
      ]
     },
     "execution_count": 12,
     "metadata": {},
     "output_type": "execute_result"
    }
   ],
   "source": [
    "# Nemenyi for an all-vs-all comparison\n",
    "nemeyi = sp.posthoc_nemenyi_friedman(out4[[\"Genetic distance AUC\", \"DEPICT For SNP AUC\", \"EVOKE AUC\", \"network distance AUC\", \"node2vec normal AUC\", \"node2vec graphlet AUC\", \"node2vec autoencode AUC\", \"node2vec combi AUC\", \"predicates AUC\",\"rdf2vec AUC\"]])\n",
    "nemeyi[nemeyi < 0.05]"
   ]
  },
  {
   "cell_type": "markdown",
   "id": "35ad2033-38ac-4aff-8ac6-ef789e54c232",
   "metadata": {},
   "source": [
    "What happens if we remove DEPICT?"
   ]
  },
  {
   "cell_type": "code",
   "execution_count": 13,
   "id": "467af910-1dfe-4a22-97a5-b34d054db337",
   "metadata": {},
   "outputs": [],
   "source": [
    "all_individual = scipy.stats.friedmanchisquare(out4[\"Genetic distance AUC\"], \n",
    "                                               out4[\"EVOKE AUC\"], \n",
    "                                               out4[\"network distance AUC\"], \n",
    "                                               out4[\"node2vec normal AUC\"], \n",
    "                                               out4[\"node2vec graphlet AUC\"], \n",
    "                                               out4[\"node2vec autoencode AUC\"], \n",
    "                                               out4[\"node2vec combi AUC\"], \n",
    "                                               out4[\"predicates AUC\"], \n",
    "                                               out4[\"rdf2vec AUC\"])"
   ]
  },
  {
   "cell_type": "code",
   "execution_count": 14,
   "id": "98de8fca-30d9-4806-b3b6-21faf9f0c8b8",
   "metadata": {},
   "outputs": [
    {
     "name": "stdout",
     "output_type": "stream",
     "text": [
      "0.5295\n"
     ]
    }
   ],
   "source": [
    "print(round(all_individual[1],4))"
   ]
  },
  {
   "cell_type": "code",
   "execution_count": 15,
   "id": "a018bb1a-6aab-4fc2-bec0-ce4e51a3ab94",
   "metadata": {},
   "outputs": [
    {
     "data": {
      "text/plain": [
       "[0.8502673796791438, 2.355081494846207]"
      ]
     },
     "execution_count": 15,
     "metadata": {},
     "output_type": "execute_result"
    }
   ],
   "source": [
    "# DEPICT & Genetic distance aligned numbers\n",
    "Iman(all_individual[0], 9, 4, 0.05)"
   ]
  },
  {
   "cell_type": "markdown",
   "id": "ba001c61-5a4c-417f-998c-00d2e4896103",
   "metadata": {},
   "source": [
    "No significant results, so no need to further examine"
   ]
  },
  {
   "cell_type": "markdown",
   "id": "1a15432e-2e95-40b4-a262-d7f8abc99eea",
   "metadata": {},
   "source": [
    "## Combination methods & individual methods that are part of it"
   ]
  },
  {
   "cell_type": "markdown",
   "id": "1e7c0108-76d7-4096-8027-9faedfc60ebc",
   "metadata": {
    "tags": []
   },
   "source": [
    "### Ranks"
   ]
  },
  {
   "cell_type": "code",
   "execution_count": 16,
   "id": "61a4d68c-da63-4cfc-aa8c-fc07755b6085",
   "metadata": {},
   "outputs": [],
   "source": [
    "combi_and_parts = scipy.stats.friedmanchisquare(out4[\"Ensemble ranks\"],\n",
    "                                                out4[\"DEPICT For SNP AUC\"], \n",
    "                                                out4[\"EVOKE AUC\"], \n",
    "                                                out4[\"network distance AUC\"], \n",
    "                                                out4[\"node2vec normal AUC\"], \n",
    "                                                out4[\"predicates AUC\"], \n",
    "                                                out4[\"rdf2vec AUC\"])"
   ]
  },
  {
   "cell_type": "code",
   "execution_count": 17,
   "id": "c7b1889a-8752-4374-939f-7b959c35d312",
   "metadata": {},
   "outputs": [
    {
     "name": "stdout",
     "output_type": "stream",
     "text": [
      "0.0669\n"
     ]
    }
   ],
   "source": [
    "print(round(combi_and_parts[1],4))"
   ]
  },
  {
   "cell_type": "code",
   "execution_count": 18,
   "id": "f1c84ce8-71ec-4d52-9961-f501d87a2c0b",
   "metadata": {},
   "outputs": [
    {
     "data": {
      "text/plain": [
       "[2.8947368421052593, 2.838056021222002]"
      ]
     },
     "execution_count": 18,
     "metadata": {},
     "output_type": "execute_result"
    }
   ],
   "source": [
    "Iman(combi_and_parts[0], 7, 4, 0.04)"
   ]
  },
  {
   "cell_type": "code",
   "execution_count": 19,
   "id": "abc36ac3-3da9-46b2-9e80-dd7b85163fec",
   "metadata": {},
   "outputs": [],
   "source": [
    "Dunn = sp.posthoc_dunn([\n",
    "                 out4[\"Ensemble ranks\"],\n",
    "                 out4[\"DEPICT For SNP AUC\"], \n",
    "                 out4[\"EVOKE AUC\"], \n",
    "                 out4[\"network distance AUC\"], \n",
    "                 out4[\"node2vec normal AUC\"], \n",
    "                 out4[\"predicates AUC\"], \n",
    "                 out4[\"rdf2vec AUC\"]])"
   ]
  },
  {
   "cell_type": "code",
   "execution_count": 20,
   "id": "89ce9574-b947-4190-80a8-98e772426334",
   "metadata": {},
   "outputs": [
    {
     "data": {
      "text/html": [
       "<div>\n",
       "<style scoped>\n",
       "    .dataframe tbody tr th:only-of-type {\n",
       "        vertical-align: middle;\n",
       "    }\n",
       "\n",
       "    .dataframe tbody tr th {\n",
       "        vertical-align: top;\n",
       "    }\n",
       "\n",
       "    .dataframe thead th {\n",
       "        text-align: right;\n",
       "    }\n",
       "</style>\n",
       "<table border=\"1\" class=\"dataframe\">\n",
       "  <thead>\n",
       "    <tr style=\"text-align: right;\">\n",
       "      <th></th>\n",
       "      <th>1</th>\n",
       "      <th>2</th>\n",
       "      <th>3</th>\n",
       "      <th>4</th>\n",
       "      <th>5</th>\n",
       "      <th>6</th>\n",
       "      <th>7</th>\n",
       "    </tr>\n",
       "  </thead>\n",
       "  <tbody>\n",
       "    <tr>\n",
       "      <th>1</th>\n",
       "      <td>1.000000</td>\n",
       "      <td>0.143927</td>\n",
       "      <td>0.009914</td>\n",
       "      <td>0.058608</td>\n",
       "      <td>0.005946</td>\n",
       "      <td>0.102418</td>\n",
       "      <td>0.263788</td>\n",
       "    </tr>\n",
       "    <tr>\n",
       "      <th>2</th>\n",
       "      <td>0.143927</td>\n",
       "      <td>1.000000</td>\n",
       "      <td>0.263788</td>\n",
       "      <td>0.667340</td>\n",
       "      <td>0.197258</td>\n",
       "      <td>0.863500</td>\n",
       "      <td>0.730966</td>\n",
       "    </tr>\n",
       "    <tr>\n",
       "      <th>3</th>\n",
       "      <td>0.009914</td>\n",
       "      <td>0.263788</td>\n",
       "      <td>1.000000</td>\n",
       "      <td>0.491653</td>\n",
       "      <td>0.863500</td>\n",
       "      <td>0.344372</td>\n",
       "      <td>0.143927</td>\n",
       "    </tr>\n",
       "    <tr>\n",
       "      <th>4</th>\n",
       "      <td>0.058608</td>\n",
       "      <td>0.667340</td>\n",
       "      <td>0.491653</td>\n",
       "      <td>1.000000</td>\n",
       "      <td>0.390008</td>\n",
       "      <td>0.796499</td>\n",
       "      <td>0.439142</td>\n",
       "    </tr>\n",
       "    <tr>\n",
       "      <th>5</th>\n",
       "      <td>0.005946</td>\n",
       "      <td>0.197258</td>\n",
       "      <td>0.863500</td>\n",
       "      <td>0.390008</td>\n",
       "      <td>1.000000</td>\n",
       "      <td>0.263788</td>\n",
       "      <td>0.102418</td>\n",
       "    </tr>\n",
       "    <tr>\n",
       "      <th>6</th>\n",
       "      <td>0.102418</td>\n",
       "      <td>0.863500</td>\n",
       "      <td>0.344372</td>\n",
       "      <td>0.796499</td>\n",
       "      <td>0.263788</td>\n",
       "      <td>1.000000</td>\n",
       "      <td>0.606021</td>\n",
       "    </tr>\n",
       "    <tr>\n",
       "      <th>7</th>\n",
       "      <td>0.263788</td>\n",
       "      <td>0.730966</td>\n",
       "      <td>0.143927</td>\n",
       "      <td>0.439142</td>\n",
       "      <td>0.102418</td>\n",
       "      <td>0.606021</td>\n",
       "      <td>1.000000</td>\n",
       "    </tr>\n",
       "  </tbody>\n",
       "</table>\n",
       "</div>"
      ],
      "text/plain": [
       "          1         2         3         4         5         6         7\n",
       "1  1.000000  0.143927  0.009914  0.058608  0.005946  0.102418  0.263788\n",
       "2  0.143927  1.000000  0.263788  0.667340  0.197258  0.863500  0.730966\n",
       "3  0.009914  0.263788  1.000000  0.491653  0.863500  0.344372  0.143927\n",
       "4  0.058608  0.667340  0.491653  1.000000  0.390008  0.796499  0.439142\n",
       "5  0.005946  0.197258  0.863500  0.390008  1.000000  0.263788  0.102418\n",
       "6  0.102418  0.863500  0.344372  0.796499  0.263788  1.000000  0.606021\n",
       "7  0.263788  0.730966  0.143927  0.439142  0.102418  0.606021  1.000000"
      ]
     },
     "execution_count": 20,
     "metadata": {},
     "output_type": "execute_result"
    }
   ],
   "source": [
    "Dunn"
   ]
  },
  {
   "cell_type": "code",
   "execution_count": 21,
   "id": "d934dfb5-5ee9-442a-81a5-71eeb1f13d84",
   "metadata": {},
   "outputs": [
    {
     "name": "stdout",
     "output_type": "stream",
     "text": [
      "   original  Sequence      Holm  significant\n",
      "5  0.005946         1  0.008333         True\n",
      "3  0.009914         2  0.010000         True\n",
      "4  0.058608         3  0.012500        False\n",
      "6  0.102418         4  0.016667        False\n",
      "2  0.143927         5  0.025000        False\n",
      "7  0.263788         6  0.050000        False\n",
      "1  1.000000         7       inf         True\n"
     ]
    }
   ],
   "source": [
    "# Holm alpha correction as in Demsar\n",
    "p_values = pd.DataFrame({\"original\" : Dunn[1].sort_values()})\n",
    "p_values[\"Sequence\"] = range(1, len(Dunn) + 1)\n",
    "p_values[\"Holm\"] = 0.05 / (len(Dunn) - p_values[\"Sequence\"])\n",
    "p_values[\"significant\"] = p_values[\"original\"] < p_values[\"Holm\"]\n",
    "print(p_values)"
   ]
  },
  {
   "cell_type": "markdown",
   "id": "ea378d4b-af76-46f3-86d2-b7be9599b153",
   "metadata": {},
   "source": [
    "### Scores"
   ]
  },
  {
   "cell_type": "code",
   "execution_count": 22,
   "id": "0cf686df-6d68-46bd-9118-a923de15547b",
   "metadata": {},
   "outputs": [],
   "source": [
    "combi_and_parts = scipy.stats.friedmanchisquare(out4[\"Ensemble scores\"],\n",
    "                                                out4[\"DEPICT For SNP AUC\"], \n",
    "                                                out4[\"EVOKE AUC\"], \n",
    "                                                out4[\"node2vec normal AUC\"], \n",
    "                                                out4[\"node2vec graphlet AUC\"], \n",
    "                                                out4[\"predicates AUC\"], )"
   ]
  },
  {
   "cell_type": "code",
   "execution_count": 23,
   "id": "ab7abb4d-fa76-4f5f-8875-b5f13f9f173e",
   "metadata": {},
   "outputs": [
    {
     "name": "stdout",
     "output_type": "stream",
     "text": [
      "0.0573\n"
     ]
    }
   ],
   "source": [
    "print(round(combi_and_parts[1],4))"
   ]
  },
  {
   "cell_type": "code",
   "execution_count": 24,
   "id": "f76388cb-d5af-4957-9d5d-0047dc8d0685",
   "metadata": {},
   "outputs": [
    {
     "data": {
      "text/plain": [
       "[3.4615384615384572, 3.3937762400724214]"
      ]
     },
     "execution_count": 24,
     "metadata": {},
     "output_type": "execute_result"
    }
   ],
   "source": [
    "Iman(combi_and_parts[0], 6, 4, 0.03)"
   ]
  },
  {
   "cell_type": "code",
   "execution_count": 25,
   "id": "0d363045-7ab7-4b7f-8cea-b2e314ad2153",
   "metadata": {},
   "outputs": [],
   "source": [
    "Dunn = sp.posthoc_dunn([\n",
    "                 out4[\"Ensemble scores\"],\n",
    "                 out4[\"DEPICT For SNP AUC\"], \n",
    "                 out4[\"EVOKE AUC\"], \n",
    "                 out4[\"node2vec normal AUC\"], \n",
    "                 out4[\"node2vec graphlet AUC\"], \n",
    "                 out4[\"predicates AUC\"]])"
   ]
  },
  {
   "cell_type": "code",
   "execution_count": 26,
   "id": "d95b3b96-7ee4-422d-a708-3378f94a1e90",
   "metadata": {},
   "outputs": [
    {
     "data": {
      "text/html": [
       "<div>\n",
       "<style scoped>\n",
       "    .dataframe tbody tr th:only-of-type {\n",
       "        vertical-align: middle;\n",
       "    }\n",
       "\n",
       "    .dataframe tbody tr th {\n",
       "        vertical-align: top;\n",
       "    }\n",
       "\n",
       "    .dataframe thead th {\n",
       "        text-align: right;\n",
       "    }\n",
       "</style>\n",
       "<table border=\"1\" class=\"dataframe\">\n",
       "  <thead>\n",
       "    <tr style=\"text-align: right;\">\n",
       "      <th></th>\n",
       "      <th>1</th>\n",
       "      <th>2</th>\n",
       "      <th>3</th>\n",
       "      <th>4</th>\n",
       "      <th>5</th>\n",
       "      <th>6</th>\n",
       "    </tr>\n",
       "  </thead>\n",
       "  <tbody>\n",
       "    <tr>\n",
       "      <th>1</th>\n",
       "      <td>1.000000</td>\n",
       "      <td>0.317311</td>\n",
       "      <td>0.024449</td>\n",
       "      <td>0.014286</td>\n",
       "      <td>0.005960</td>\n",
       "      <td>0.147059</td>\n",
       "    </tr>\n",
       "    <tr>\n",
       "      <th>2</th>\n",
       "      <td>0.317311</td>\n",
       "      <td>1.000000</td>\n",
       "      <td>0.211300</td>\n",
       "      <td>0.147059</td>\n",
       "      <td>0.080118</td>\n",
       "      <td>0.652710</td>\n",
       "    </tr>\n",
       "    <tr>\n",
       "      <th>3</th>\n",
       "      <td>0.024449</td>\n",
       "      <td>0.211300</td>\n",
       "      <td>1.000000</td>\n",
       "      <td>0.841481</td>\n",
       "      <td>0.617075</td>\n",
       "      <td>0.423711</td>\n",
       "    </tr>\n",
       "    <tr>\n",
       "      <th>4</th>\n",
       "      <td>0.014286</td>\n",
       "      <td>0.147059</td>\n",
       "      <td>0.841481</td>\n",
       "      <td>1.000000</td>\n",
       "      <td>0.764177</td>\n",
       "      <td>0.317311</td>\n",
       "    </tr>\n",
       "    <tr>\n",
       "      <th>5</th>\n",
       "      <td>0.005960</td>\n",
       "      <td>0.080118</td>\n",
       "      <td>0.617075</td>\n",
       "      <td>0.764177</td>\n",
       "      <td>1.000000</td>\n",
       "      <td>0.193601</td>\n",
       "    </tr>\n",
       "    <tr>\n",
       "      <th>6</th>\n",
       "      <td>0.147059</td>\n",
       "      <td>0.652710</td>\n",
       "      <td>0.423711</td>\n",
       "      <td>0.317311</td>\n",
       "      <td>0.193601</td>\n",
       "      <td>1.000000</td>\n",
       "    </tr>\n",
       "  </tbody>\n",
       "</table>\n",
       "</div>"
      ],
      "text/plain": [
       "          1         2         3         4         5         6\n",
       "1  1.000000  0.317311  0.024449  0.014286  0.005960  0.147059\n",
       "2  0.317311  1.000000  0.211300  0.147059  0.080118  0.652710\n",
       "3  0.024449  0.211300  1.000000  0.841481  0.617075  0.423711\n",
       "4  0.014286  0.147059  0.841481  1.000000  0.764177  0.317311\n",
       "5  0.005960  0.080118  0.617075  0.764177  1.000000  0.193601\n",
       "6  0.147059  0.652710  0.423711  0.317311  0.193601  1.000000"
      ]
     },
     "execution_count": 26,
     "metadata": {},
     "output_type": "execute_result"
    }
   ],
   "source": [
    "Dunn"
   ]
  },
  {
   "cell_type": "code",
   "execution_count": 27,
   "id": "3ce19d9f-17ce-42cd-989f-cd0012f3aadf",
   "metadata": {},
   "outputs": [
    {
     "name": "stdout",
     "output_type": "stream",
     "text": [
      "   original  Sequence      Holm  significant\n",
      "5  0.005960         1  0.010000         True\n",
      "4  0.014286         2  0.012500        False\n",
      "3  0.024449         3  0.016667        False\n",
      "6  0.147059         4  0.025000        False\n",
      "2  0.317311         5  0.050000        False\n",
      "1  1.000000         6       inf         True\n"
     ]
    }
   ],
   "source": [
    "# Holm alpha correction as in Demsar\n",
    "p_values = pd.DataFrame({\"original\" : Dunn[1].sort_values()})\n",
    "p_values[\"Sequence\"] = range(1, len(Dunn) + 1)\n",
    "p_values[\"Holm\"] = 0.05 / (len(Dunn) - p_values[\"Sequence\"])\n",
    "p_values[\"significant\"] = p_values[\"original\"] < p_values[\"Holm\"]\n",
    "print(p_values)"
   ]
  },
  {
   "cell_type": "markdown",
   "id": "814b8bfc-3e04-4e32-bff8-fe584276bdea",
   "metadata": {},
   "source": [
    "### Combo"
   ]
  },
  {
   "cell_type": "code",
   "execution_count": 28,
   "id": "19fb7006-80e3-403a-8e11-660ebc070085",
   "metadata": {},
   "outputs": [],
   "source": [
    "combi_and_parts = scipy.stats.friedmanchisquare(\n",
    "                                                 out4[\"Ensemble combo\"],\n",
    "                                                 out4[\"DEPICT For SNP AUC\"], \n",
    "                                                 out4[\"EVOKE AUC\"], \n",
    "                                                 out4[\"node2vec normal AUC\"], \n",
    "                                                 out4[\"predicates AUC\"], \n",
    "                                                 out4[\"rdf2vec AUC\"])"
   ]
  },
  {
   "cell_type": "code",
   "execution_count": 29,
   "id": "a343ee87-1482-448a-87e9-f2a507a5fa06",
   "metadata": {},
   "outputs": [
    {
     "name": "stdout",
     "output_type": "stream",
     "text": [
      "0.1035\n"
     ]
    }
   ],
   "source": [
    "print(round(combi_and_parts[1],4))"
   ]
  },
  {
   "cell_type": "code",
   "execution_count": 30,
   "id": "df210c91-49a1-465a-b6e0-caf346230444",
   "metadata": {},
   "outputs": [
    {
     "data": {
      "text/plain": [
       "[2.5263157894736823, 2.5168107817378083]"
      ]
     },
     "execution_count": 30,
     "metadata": {},
     "output_type": "execute_result"
    }
   ],
   "source": [
    "Iman(combi_and_parts[0], 6, 4, 0.076)"
   ]
  },
  {
   "cell_type": "code",
   "execution_count": 31,
   "id": "ece7e412-613a-49c1-a285-e727e3c67e89",
   "metadata": {},
   "outputs": [],
   "source": [
    "Dunn = sp.posthoc_dunn([\n",
    "                 out4[\"Ensemble combo\"],\n",
    "                 out4[\"DEPICT For SNP AUC\"], \n",
    "                 out4[\"EVOKE AUC\"], \n",
    "                 out4[\"node2vec normal AUC\"], \n",
    "                 out4[\"predicates AUC\"], \n",
    "                 out4[\"rdf2vec AUC\"]])"
   ]
  },
  {
   "cell_type": "code",
   "execution_count": 32,
   "id": "c3193b82-e6f1-4446-9c27-9c8001d0b56e",
   "metadata": {},
   "outputs": [
    {
     "data": {
      "text/html": [
       "<div>\n",
       "<style scoped>\n",
       "    .dataframe tbody tr th:only-of-type {\n",
       "        vertical-align: middle;\n",
       "    }\n",
       "\n",
       "    .dataframe tbody tr th {\n",
       "        vertical-align: top;\n",
       "    }\n",
       "\n",
       "    .dataframe thead th {\n",
       "        text-align: right;\n",
       "    }\n",
       "</style>\n",
       "<table border=\"1\" class=\"dataframe\">\n",
       "  <thead>\n",
       "    <tr style=\"text-align: right;\">\n",
       "      <th></th>\n",
       "      <th>1</th>\n",
       "      <th>2</th>\n",
       "      <th>3</th>\n",
       "      <th>4</th>\n",
       "      <th>5</th>\n",
       "      <th>6</th>\n",
       "    </tr>\n",
       "  </thead>\n",
       "  <tbody>\n",
       "    <tr>\n",
       "      <th>1</th>\n",
       "      <td>1.000000</td>\n",
       "      <td>0.193601</td>\n",
       "      <td>0.014286</td>\n",
       "      <td>0.012419</td>\n",
       "      <td>0.147059</td>\n",
       "      <td>0.317311</td>\n",
       "    </tr>\n",
       "    <tr>\n",
       "      <th>2</th>\n",
       "      <td>0.193601</td>\n",
       "      <td>1.000000</td>\n",
       "      <td>0.250144</td>\n",
       "      <td>0.230139</td>\n",
       "      <td>0.880765</td>\n",
       "      <td>0.764177</td>\n",
       "    </tr>\n",
       "    <tr>\n",
       "      <th>3</th>\n",
       "      <td>0.014286</td>\n",
       "      <td>0.250144</td>\n",
       "      <td>1.000000</td>\n",
       "      <td>0.960122</td>\n",
       "      <td>0.317311</td>\n",
       "      <td>0.147059</td>\n",
       "    </tr>\n",
       "    <tr>\n",
       "      <th>4</th>\n",
       "      <td>0.012419</td>\n",
       "      <td>0.230139</td>\n",
       "      <td>0.960122</td>\n",
       "      <td>1.000000</td>\n",
       "      <td>0.293718</td>\n",
       "      <td>0.133614</td>\n",
       "    </tr>\n",
       "    <tr>\n",
       "      <th>5</th>\n",
       "      <td>0.147059</td>\n",
       "      <td>0.880765</td>\n",
       "      <td>0.317311</td>\n",
       "      <td>0.293718</td>\n",
       "      <td>1.000000</td>\n",
       "      <td>0.652710</td>\n",
       "    </tr>\n",
       "    <tr>\n",
       "      <th>6</th>\n",
       "      <td>0.317311</td>\n",
       "      <td>0.764177</td>\n",
       "      <td>0.147059</td>\n",
       "      <td>0.133614</td>\n",
       "      <td>0.652710</td>\n",
       "      <td>1.000000</td>\n",
       "    </tr>\n",
       "  </tbody>\n",
       "</table>\n",
       "</div>"
      ],
      "text/plain": [
       "          1         2         3         4         5         6\n",
       "1  1.000000  0.193601  0.014286  0.012419  0.147059  0.317311\n",
       "2  0.193601  1.000000  0.250144  0.230139  0.880765  0.764177\n",
       "3  0.014286  0.250144  1.000000  0.960122  0.317311  0.147059\n",
       "4  0.012419  0.230139  0.960122  1.000000  0.293718  0.133614\n",
       "5  0.147059  0.880765  0.317311  0.293718  1.000000  0.652710\n",
       "6  0.317311  0.764177  0.147059  0.133614  0.652710  1.000000"
      ]
     },
     "execution_count": 32,
     "metadata": {},
     "output_type": "execute_result"
    }
   ],
   "source": [
    "Dunn"
   ]
  },
  {
   "cell_type": "code",
   "execution_count": 33,
   "id": "58fb5866-2d9e-4e25-9011-29776b2ebc9d",
   "metadata": {},
   "outputs": [
    {
     "name": "stdout",
     "output_type": "stream",
     "text": [
      "   original  Sequence      Holm  significant\n",
      "4  0.012419         1  0.010000        False\n",
      "3  0.014286         2  0.012500        False\n",
      "5  0.147059         3  0.016667        False\n",
      "2  0.193601         4  0.025000        False\n",
      "6  0.317311         5  0.050000        False\n",
      "1  1.000000         6       inf         True\n"
     ]
    }
   ],
   "source": [
    "# Holm alpha correction as in Demsar\n",
    "p_values = pd.DataFrame({\"original\" : Dunn[1].sort_values()})\n",
    "p_values[\"Sequence\"] = range(1, len(Dunn) + 1)\n",
    "p_values[\"Holm\"] = 0.05 / (len(Dunn) - p_values[\"Sequence\"])\n",
    "p_values[\"significant\"] = p_values[\"original\"] < p_values[\"Holm\"]\n",
    "print(p_values)"
   ]
  },
  {
   "cell_type": "markdown",
   "id": "2158f4bd-4e4f-4604-9f30-522f5aacf472",
   "metadata": {},
   "source": [
    "## Combined methods vs. all individual methods"
   ]
  },
  {
   "cell_type": "code",
   "execution_count": 34,
   "id": "d5043db0-ff57-4ef5-953d-b66d4b6d1f9c",
   "metadata": {},
   "outputs": [],
   "source": [
    "combi_and_parts = scipy.stats.friedmanchisquare(out4[\"Ensemble ranks\"],\n",
    "                                                out4[\"Genetic distance AUC\"], \n",
    "                                                out4[\"DEPICT For SNP AUC\"], \n",
    "                                                out4[\"EVOKE AUC\"], \n",
    "                                                out4[\"network distance AUC\"], \n",
    "                                                out4[\"node2vec normal AUC\"], \n",
    "                                                out4[\"node2vec graphlet AUC\"], \n",
    "                                                out4[\"node2vec autoencode AUC\"], \n",
    "                                                out4[\"node2vec combi AUC\"], \n",
    "                                                out4[\"predicates AUC\"], \n",
    "                                                out4[\"rdf2vec AUC\"])"
   ]
  },
  {
   "cell_type": "code",
   "execution_count": 35,
   "id": "e8c156e5-c422-4adb-ae98-e5a49891f91d",
   "metadata": {},
   "outputs": [
    {
     "name": "stdout",
     "output_type": "stream",
     "text": [
      "0.0714\n"
     ]
    }
   ],
   "source": [
    "print(round(combi_and_parts[1],4))"
   ]
  },
  {
   "cell_type": "code",
   "execution_count": 36,
   "id": "2e8f71b5-d095-48f3-86d9-a82caae698ff",
   "metadata": {},
   "outputs": [
    {
     "data": {
      "text/plain": [
       "[2.2485089463220715, 2.164579917125473]"
      ]
     },
     "execution_count": 36,
     "metadata": {},
     "output_type": "execute_result"
    }
   ],
   "source": [
    "Iman(combi_and_parts[0], 11, 4, 0.05)"
   ]
  },
  {
   "cell_type": "code",
   "execution_count": 37,
   "id": "87edfc63-1faa-45b2-aa38-1792beda4cc9",
   "metadata": {},
   "outputs": [],
   "source": [
    "Dunn = sp.posthoc_dunn([\n",
    "                        out4[\"Ensemble ranks\"],\n",
    "                        out4[\"Genetic distance AUC\"], \n",
    "                        out4[\"DEPICT For SNP AUC\"], \n",
    "                        out4[\"EVOKE AUC\"], \n",
    "                        out4[\"network distance AUC\"], \n",
    "                        out4[\"node2vec normal AUC\"], \n",
    "                        out4[\"node2vec graphlet AUC\"], \n",
    "                        out4[\"node2vec autoencode AUC\"], \n",
    "                        out4[\"node2vec combi AUC\"], \n",
    "                        out4[\"predicates AUC\"], \n",
    "                        out4[\"rdf2vec AUC\"]])"
   ]
  },
  {
   "cell_type": "code",
   "execution_count": 38,
   "id": "052c4ab7-e873-4b2a-b984-179605f20a6e",
   "metadata": {},
   "outputs": [
    {
     "data": {
      "text/html": [
       "<div>\n",
       "<style scoped>\n",
       "    .dataframe tbody tr th:only-of-type {\n",
       "        vertical-align: middle;\n",
       "    }\n",
       "\n",
       "    .dataframe tbody tr th {\n",
       "        vertical-align: top;\n",
       "    }\n",
       "\n",
       "    .dataframe thead th {\n",
       "        text-align: right;\n",
       "    }\n",
       "</style>\n",
       "<table border=\"1\" class=\"dataframe\">\n",
       "  <thead>\n",
       "    <tr style=\"text-align: right;\">\n",
       "      <th></th>\n",
       "      <th>1</th>\n",
       "      <th>2</th>\n",
       "      <th>3</th>\n",
       "      <th>4</th>\n",
       "      <th>5</th>\n",
       "      <th>6</th>\n",
       "      <th>7</th>\n",
       "      <th>8</th>\n",
       "      <th>9</th>\n",
       "      <th>10</th>\n",
       "      <th>11</th>\n",
       "    </tr>\n",
       "  </thead>\n",
       "  <tbody>\n",
       "    <tr>\n",
       "      <th>1</th>\n",
       "      <td>1.000000</td>\n",
       "      <td>0.013243</td>\n",
       "      <td>0.195792</td>\n",
       "      <td>0.014300</td>\n",
       "      <td>0.073604</td>\n",
       "      <td>0.006989</td>\n",
       "      <td>0.002051</td>\n",
       "      <td>0.006989</td>\n",
       "      <td>0.044510</td>\n",
       "      <td>0.098648</td>\n",
       "      <td>0.295600</td>\n",
       "    </tr>\n",
       "    <tr>\n",
       "      <th>2</th>\n",
       "      <td>0.013243</td>\n",
       "      <td>1.000000</td>\n",
       "      <td>0.236597</td>\n",
       "      <td>0.978042</td>\n",
       "      <td>0.491388</td>\n",
       "      <td>0.825721</td>\n",
       "      <td>0.544827</td>\n",
       "      <td>0.825721</td>\n",
       "      <td>0.639849</td>\n",
       "      <td>0.408961</td>\n",
       "      <td>0.152358</td>\n",
       "    </tr>\n",
       "    <tr>\n",
       "      <th>3</th>\n",
       "      <td>0.195792</td>\n",
       "      <td>0.236597</td>\n",
       "      <td>1.000000</td>\n",
       "      <td>0.247676</td>\n",
       "      <td>0.620294</td>\n",
       "      <td>0.160400</td>\n",
       "      <td>0.073604</td>\n",
       "      <td>0.160400</td>\n",
       "      <td>0.474222</td>\n",
       "      <td>0.720483</td>\n",
       "      <td>0.804353</td>\n",
       "    </tr>\n",
       "    <tr>\n",
       "      <th>4</th>\n",
       "      <td>0.014300</td>\n",
       "      <td>0.978042</td>\n",
       "      <td>0.247676</td>\n",
       "      <td>1.000000</td>\n",
       "      <td>0.508883</td>\n",
       "      <td>0.804353</td>\n",
       "      <td>0.526698</td>\n",
       "      <td>0.804353</td>\n",
       "      <td>0.659658</td>\n",
       "      <td>0.424755</td>\n",
       "      <td>0.160400</td>\n",
       "    </tr>\n",
       "    <tr>\n",
       "      <th>5</th>\n",
       "      <td>0.073604</td>\n",
       "      <td>0.491388</td>\n",
       "      <td>0.620294</td>\n",
       "      <td>0.508883</td>\n",
       "      <td>1.000000</td>\n",
       "      <td>0.363722</td>\n",
       "      <td>0.195792</td>\n",
       "      <td>0.363722</td>\n",
       "      <td>0.825721</td>\n",
       "      <td>0.890540</td>\n",
       "      <td>0.457391</td>\n",
       "    </tr>\n",
       "    <tr>\n",
       "      <th>6</th>\n",
       "      <td>0.006989</td>\n",
       "      <td>0.825721</td>\n",
       "      <td>0.160400</td>\n",
       "      <td>0.804353</td>\n",
       "      <td>0.363722</td>\n",
       "      <td>1.000000</td>\n",
       "      <td>0.699988</td>\n",
       "      <td>1.000000</td>\n",
       "      <td>0.491388</td>\n",
       "      <td>0.295600</td>\n",
       "      <td>0.098648</td>\n",
       "    </tr>\n",
       "    <tr>\n",
       "      <th>7</th>\n",
       "      <td>0.002051</td>\n",
       "      <td>0.544827</td>\n",
       "      <td>0.073604</td>\n",
       "      <td>0.526698</td>\n",
       "      <td>0.195792</td>\n",
       "      <td>0.699988</td>\n",
       "      <td>1.000000</td>\n",
       "      <td>0.699988</td>\n",
       "      <td>0.283074</td>\n",
       "      <td>0.152358</td>\n",
       "      <td>0.041672</td>\n",
       "    </tr>\n",
       "    <tr>\n",
       "      <th>8</th>\n",
       "      <td>0.006989</td>\n",
       "      <td>0.825721</td>\n",
       "      <td>0.160400</td>\n",
       "      <td>0.804353</td>\n",
       "      <td>0.363722</td>\n",
       "      <td>1.000000</td>\n",
       "      <td>0.699988</td>\n",
       "      <td>1.000000</td>\n",
       "      <td>0.491388</td>\n",
       "      <td>0.295600</td>\n",
       "      <td>0.098648</td>\n",
       "    </tr>\n",
       "    <tr>\n",
       "      <th>9</th>\n",
       "      <td>0.044510</td>\n",
       "      <td>0.639849</td>\n",
       "      <td>0.474222</td>\n",
       "      <td>0.659658</td>\n",
       "      <td>0.825721</td>\n",
       "      <td>0.491388</td>\n",
       "      <td>0.283074</td>\n",
       "      <td>0.491388</td>\n",
       "      <td>1.000000</td>\n",
       "      <td>0.720483</td>\n",
       "      <td>0.335375</td>\n",
       "    </tr>\n",
       "    <tr>\n",
       "      <th>10</th>\n",
       "      <td>0.098648</td>\n",
       "      <td>0.408961</td>\n",
       "      <td>0.720483</td>\n",
       "      <td>0.424755</td>\n",
       "      <td>0.890540</td>\n",
       "      <td>0.295600</td>\n",
       "      <td>0.152358</td>\n",
       "      <td>0.295600</td>\n",
       "      <td>0.720483</td>\n",
       "      <td>1.000000</td>\n",
       "      <td>0.544827</td>\n",
       "    </tr>\n",
       "    <tr>\n",
       "      <th>11</th>\n",
       "      <td>0.295600</td>\n",
       "      <td>0.152358</td>\n",
       "      <td>0.804353</td>\n",
       "      <td>0.160400</td>\n",
       "      <td>0.457391</td>\n",
       "      <td>0.098648</td>\n",
       "      <td>0.041672</td>\n",
       "      <td>0.098648</td>\n",
       "      <td>0.335375</td>\n",
       "      <td>0.544827</td>\n",
       "      <td>1.000000</td>\n",
       "    </tr>\n",
       "  </tbody>\n",
       "</table>\n",
       "</div>"
      ],
      "text/plain": [
       "          1         2         3         4         5         6         7   \\\n",
       "1   1.000000  0.013243  0.195792  0.014300  0.073604  0.006989  0.002051   \n",
       "2   0.013243  1.000000  0.236597  0.978042  0.491388  0.825721  0.544827   \n",
       "3   0.195792  0.236597  1.000000  0.247676  0.620294  0.160400  0.073604   \n",
       "4   0.014300  0.978042  0.247676  1.000000  0.508883  0.804353  0.526698   \n",
       "5   0.073604  0.491388  0.620294  0.508883  1.000000  0.363722  0.195792   \n",
       "6   0.006989  0.825721  0.160400  0.804353  0.363722  1.000000  0.699988   \n",
       "7   0.002051  0.544827  0.073604  0.526698  0.195792  0.699988  1.000000   \n",
       "8   0.006989  0.825721  0.160400  0.804353  0.363722  1.000000  0.699988   \n",
       "9   0.044510  0.639849  0.474222  0.659658  0.825721  0.491388  0.283074   \n",
       "10  0.098648  0.408961  0.720483  0.424755  0.890540  0.295600  0.152358   \n",
       "11  0.295600  0.152358  0.804353  0.160400  0.457391  0.098648  0.041672   \n",
       "\n",
       "          8         9         10        11  \n",
       "1   0.006989  0.044510  0.098648  0.295600  \n",
       "2   0.825721  0.639849  0.408961  0.152358  \n",
       "3   0.160400  0.474222  0.720483  0.804353  \n",
       "4   0.804353  0.659658  0.424755  0.160400  \n",
       "5   0.363722  0.825721  0.890540  0.457391  \n",
       "6   1.000000  0.491388  0.295600  0.098648  \n",
       "7   0.699988  0.283074  0.152358  0.041672  \n",
       "8   1.000000  0.491388  0.295600  0.098648  \n",
       "9   0.491388  1.000000  0.720483  0.335375  \n",
       "10  0.295600  0.720483  1.000000  0.544827  \n",
       "11  0.098648  0.335375  0.544827  1.000000  "
      ]
     },
     "execution_count": 38,
     "metadata": {},
     "output_type": "execute_result"
    }
   ],
   "source": [
    "Dunn"
   ]
  },
  {
   "cell_type": "code",
   "execution_count": 39,
   "id": "d8032299-c0af-48fc-b53b-73873976354b",
   "metadata": {},
   "outputs": [
    {
     "name": "stdout",
     "output_type": "stream",
     "text": [
      "    original  Sequence      Holm  significant\n",
      "7   0.002051         1  0.005000         True\n",
      "6   0.006989         2  0.005556        False\n",
      "8   0.006989         3  0.006250        False\n",
      "2   0.013243         4  0.007143        False\n",
      "4   0.014300         5  0.008333        False\n",
      "9   0.044510         6  0.010000        False\n",
      "5   0.073604         7  0.012500        False\n",
      "10  0.098648         8  0.016667        False\n",
      "3   0.195792         9  0.025000        False\n",
      "11  0.295600        10  0.050000        False\n",
      "1   1.000000        11       inf         True\n"
     ]
    }
   ],
   "source": [
    "# Holm alpha correction as in Demsar\n",
    "p_values = pd.DataFrame({\"original\" : Dunn[1].sort_values()})\n",
    "p_values[\"Sequence\"] = range(1, len(Dunn) + 1)\n",
    "p_values[\"Holm\"] = 0.05 / (len(Dunn) - p_values[\"Sequence\"])\n",
    "p_values[\"significant\"] = p_values[\"original\"] < p_values[\"Holm\"]\n",
    "print(p_values)"
   ]
  },
  {
   "cell_type": "markdown",
   "id": "7943e919-e3b6-4bdd-a9b4-b62cee3e340b",
   "metadata": {},
   "source": [
    "### Scores"
   ]
  },
  {
   "cell_type": "code",
   "execution_count": 40,
   "id": "4732e8b1-11a4-44b5-b22b-a953ff845c17",
   "metadata": {},
   "outputs": [],
   "source": [
    "combi_and_parts = scipy.stats.friedmanchisquare(out4[\"Ensemble scores\"],\n",
    "                                                out4[\"Genetic distance AUC\"], \n",
    "                                                out4[\"DEPICT For SNP AUC\"], \n",
    "                                                out4[\"EVOKE AUC\"], \n",
    "                                                out4[\"network distance AUC\"], \n",
    "                                                out4[\"node2vec normal AUC\"], \n",
    "                                                out4[\"node2vec graphlet AUC\"], \n",
    "                                                out4[\"node2vec autoencode AUC\"], \n",
    "                                                out4[\"node2vec combi AUC\"], \n",
    "                                                out4[\"predicates AUC\"], \n",
    "                                                out4[\"rdf2vec AUC\"])"
   ]
  },
  {
   "cell_type": "code",
   "execution_count": 41,
   "id": "8eeca7f2-03de-491a-b3a7-411fceedb267",
   "metadata": {},
   "outputs": [
    {
     "name": "stdout",
     "output_type": "stream",
     "text": [
      "0.0714\n"
     ]
    }
   ],
   "source": [
    "print(round(combi_and_parts[1],4))"
   ]
  },
  {
   "cell_type": "code",
   "execution_count": 42,
   "id": "6815c7f9-392e-424b-bbca-e1a54290a7c7",
   "metadata": {},
   "outputs": [
    {
     "data": {
      "text/plain": [
       "[2.2485089463220715, 2.164579917125473]"
      ]
     },
     "execution_count": 42,
     "metadata": {},
     "output_type": "execute_result"
    }
   ],
   "source": [
    "Iman(combi_and_parts[0], 11, 4, 0.05)"
   ]
  },
  {
   "cell_type": "code",
   "execution_count": 43,
   "id": "75b18acb-8927-41f6-82fa-8c74e9dc2c6e",
   "metadata": {},
   "outputs": [],
   "source": [
    "Dunn = sp.posthoc_dunn([\n",
    "                 out4[\"Ensemble scores\"],\n",
    "                 out4[\"Genetic distance AUC\"], \n",
    "                                                out4[\"DEPICT For SNP AUC\"], \n",
    "                                                out4[\"EVOKE AUC\"], \n",
    "                                                out4[\"network distance AUC\"], \n",
    "                                                out4[\"node2vec normal AUC\"], \n",
    "                                                out4[\"node2vec graphlet AUC\"], \n",
    "                                                out4[\"node2vec autoencode AUC\"], \n",
    "                                                out4[\"node2vec combi AUC\"], \n",
    "                                                out4[\"predicates AUC\"], \n",
    "                                                out4[\"rdf2vec AUC\"]])"
   ]
  },
  {
   "cell_type": "code",
   "execution_count": 44,
   "id": "8bbce014-3bcc-4048-a1f1-37ccc8227f93",
   "metadata": {},
   "outputs": [
    {
     "data": {
      "text/html": [
       "<div>\n",
       "<style scoped>\n",
       "    .dataframe tbody tr th:only-of-type {\n",
       "        vertical-align: middle;\n",
       "    }\n",
       "\n",
       "    .dataframe tbody tr th {\n",
       "        vertical-align: top;\n",
       "    }\n",
       "\n",
       "    .dataframe thead th {\n",
       "        text-align: right;\n",
       "    }\n",
       "</style>\n",
       "<table border=\"1\" class=\"dataframe\">\n",
       "  <thead>\n",
       "    <tr style=\"text-align: right;\">\n",
       "      <th></th>\n",
       "      <th>1</th>\n",
       "      <th>2</th>\n",
       "      <th>3</th>\n",
       "      <th>4</th>\n",
       "      <th>5</th>\n",
       "      <th>6</th>\n",
       "      <th>7</th>\n",
       "      <th>8</th>\n",
       "      <th>9</th>\n",
       "      <th>10</th>\n",
       "      <th>11</th>\n",
       "    </tr>\n",
       "  </thead>\n",
       "  <tbody>\n",
       "    <tr>\n",
       "      <th>1</th>\n",
       "      <td>1.000000</td>\n",
       "      <td>0.015430</td>\n",
       "      <td>0.225872</td>\n",
       "      <td>0.016639</td>\n",
       "      <td>0.082915</td>\n",
       "      <td>0.008234</td>\n",
       "      <td>0.002465</td>\n",
       "      <td>0.008234</td>\n",
       "      <td>0.050676</td>\n",
       "      <td>0.110400</td>\n",
       "      <td>0.335375</td>\n",
       "    </tr>\n",
       "    <tr>\n",
       "      <th>2</th>\n",
       "      <td>0.015430</td>\n",
       "      <td>1.000000</td>\n",
       "      <td>0.225872</td>\n",
       "      <td>0.978042</td>\n",
       "      <td>0.491388</td>\n",
       "      <td>0.825721</td>\n",
       "      <td>0.544827</td>\n",
       "      <td>0.825721</td>\n",
       "      <td>0.639849</td>\n",
       "      <td>0.408961</td>\n",
       "      <td>0.144626</td>\n",
       "    </tr>\n",
       "    <tr>\n",
       "      <th>3</th>\n",
       "      <td>0.225872</td>\n",
       "      <td>0.225872</td>\n",
       "      <td>1.000000</td>\n",
       "      <td>0.236597</td>\n",
       "      <td>0.601004</td>\n",
       "      <td>0.152358</td>\n",
       "      <td>0.069280</td>\n",
       "      <td>0.152358</td>\n",
       "      <td>0.457391</td>\n",
       "      <td>0.699988</td>\n",
       "      <td>0.804353</td>\n",
       "    </tr>\n",
       "    <tr>\n",
       "      <th>4</th>\n",
       "      <td>0.016639</td>\n",
       "      <td>0.978042</td>\n",
       "      <td>0.236597</td>\n",
       "      <td>1.000000</td>\n",
       "      <td>0.508883</td>\n",
       "      <td>0.804353</td>\n",
       "      <td>0.526698</td>\n",
       "      <td>0.804353</td>\n",
       "      <td>0.659658</td>\n",
       "      <td>0.424755</td>\n",
       "      <td>0.152358</td>\n",
       "    </tr>\n",
       "    <tr>\n",
       "      <th>5</th>\n",
       "      <td>0.082915</td>\n",
       "      <td>0.491388</td>\n",
       "      <td>0.601004</td>\n",
       "      <td>0.508883</td>\n",
       "      <td>1.000000</td>\n",
       "      <td>0.363722</td>\n",
       "      <td>0.195792</td>\n",
       "      <td>0.363722</td>\n",
       "      <td>0.825721</td>\n",
       "      <td>0.890540</td>\n",
       "      <td>0.440900</td>\n",
       "    </tr>\n",
       "    <tr>\n",
       "      <th>6</th>\n",
       "      <td>0.008234</td>\n",
       "      <td>0.825721</td>\n",
       "      <td>0.152358</td>\n",
       "      <td>0.804353</td>\n",
       "      <td>0.363722</td>\n",
       "      <td>1.000000</td>\n",
       "      <td>0.699988</td>\n",
       "      <td>1.000000</td>\n",
       "      <td>0.491388</td>\n",
       "      <td>0.295600</td>\n",
       "      <td>0.093158</td>\n",
       "    </tr>\n",
       "    <tr>\n",
       "      <th>7</th>\n",
       "      <td>0.002465</td>\n",
       "      <td>0.544827</td>\n",
       "      <td>0.069280</td>\n",
       "      <td>0.526698</td>\n",
       "      <td>0.195792</td>\n",
       "      <td>0.699988</td>\n",
       "      <td>1.000000</td>\n",
       "      <td>0.699988</td>\n",
       "      <td>0.283074</td>\n",
       "      <td>0.152358</td>\n",
       "      <td>0.038989</td>\n",
       "    </tr>\n",
       "    <tr>\n",
       "      <th>8</th>\n",
       "      <td>0.008234</td>\n",
       "      <td>0.825721</td>\n",
       "      <td>0.152358</td>\n",
       "      <td>0.804353</td>\n",
       "      <td>0.363722</td>\n",
       "      <td>1.000000</td>\n",
       "      <td>0.699988</td>\n",
       "      <td>1.000000</td>\n",
       "      <td>0.491388</td>\n",
       "      <td>0.295600</td>\n",
       "      <td>0.093158</td>\n",
       "    </tr>\n",
       "    <tr>\n",
       "      <th>9</th>\n",
       "      <td>0.050676</td>\n",
       "      <td>0.639849</td>\n",
       "      <td>0.457391</td>\n",
       "      <td>0.659658</td>\n",
       "      <td>0.825721</td>\n",
       "      <td>0.491388</td>\n",
       "      <td>0.283074</td>\n",
       "      <td>0.491388</td>\n",
       "      <td>1.000000</td>\n",
       "      <td>0.720483</td>\n",
       "      <td>0.321750</td>\n",
       "    </tr>\n",
       "    <tr>\n",
       "      <th>10</th>\n",
       "      <td>0.110400</td>\n",
       "      <td>0.408961</td>\n",
       "      <td>0.699988</td>\n",
       "      <td>0.424755</td>\n",
       "      <td>0.890540</td>\n",
       "      <td>0.295600</td>\n",
       "      <td>0.152358</td>\n",
       "      <td>0.295600</td>\n",
       "      <td>0.720483</td>\n",
       "      <td>1.000000</td>\n",
       "      <td>0.526698</td>\n",
       "    </tr>\n",
       "    <tr>\n",
       "      <th>11</th>\n",
       "      <td>0.335375</td>\n",
       "      <td>0.144626</td>\n",
       "      <td>0.804353</td>\n",
       "      <td>0.152358</td>\n",
       "      <td>0.440900</td>\n",
       "      <td>0.093158</td>\n",
       "      <td>0.038989</td>\n",
       "      <td>0.093158</td>\n",
       "      <td>0.321750</td>\n",
       "      <td>0.526698</td>\n",
       "      <td>1.000000</td>\n",
       "    </tr>\n",
       "  </tbody>\n",
       "</table>\n",
       "</div>"
      ],
      "text/plain": [
       "          1         2         3         4         5         6         7   \\\n",
       "1   1.000000  0.015430  0.225872  0.016639  0.082915  0.008234  0.002465   \n",
       "2   0.015430  1.000000  0.225872  0.978042  0.491388  0.825721  0.544827   \n",
       "3   0.225872  0.225872  1.000000  0.236597  0.601004  0.152358  0.069280   \n",
       "4   0.016639  0.978042  0.236597  1.000000  0.508883  0.804353  0.526698   \n",
       "5   0.082915  0.491388  0.601004  0.508883  1.000000  0.363722  0.195792   \n",
       "6   0.008234  0.825721  0.152358  0.804353  0.363722  1.000000  0.699988   \n",
       "7   0.002465  0.544827  0.069280  0.526698  0.195792  0.699988  1.000000   \n",
       "8   0.008234  0.825721  0.152358  0.804353  0.363722  1.000000  0.699988   \n",
       "9   0.050676  0.639849  0.457391  0.659658  0.825721  0.491388  0.283074   \n",
       "10  0.110400  0.408961  0.699988  0.424755  0.890540  0.295600  0.152358   \n",
       "11  0.335375  0.144626  0.804353  0.152358  0.440900  0.093158  0.038989   \n",
       "\n",
       "          8         9         10        11  \n",
       "1   0.008234  0.050676  0.110400  0.335375  \n",
       "2   0.825721  0.639849  0.408961  0.144626  \n",
       "3   0.152358  0.457391  0.699988  0.804353  \n",
       "4   0.804353  0.659658  0.424755  0.152358  \n",
       "5   0.363722  0.825721  0.890540  0.440900  \n",
       "6   1.000000  0.491388  0.295600  0.093158  \n",
       "7   0.699988  0.283074  0.152358  0.038989  \n",
       "8   1.000000  0.491388  0.295600  0.093158  \n",
       "9   0.491388  1.000000  0.720483  0.321750  \n",
       "10  0.295600  0.720483  1.000000  0.526698  \n",
       "11  0.093158  0.321750  0.526698  1.000000  "
      ]
     },
     "execution_count": 44,
     "metadata": {},
     "output_type": "execute_result"
    }
   ],
   "source": [
    "Dunn"
   ]
  },
  {
   "cell_type": "code",
   "execution_count": 45,
   "id": "1aa3d753-0294-4f4e-a39f-edb55485b3d3",
   "metadata": {},
   "outputs": [
    {
     "name": "stdout",
     "output_type": "stream",
     "text": [
      "    original  Sequence      Holm  significant\n",
      "7   0.002465         1  0.005000         True\n",
      "6   0.008234         2  0.005556        False\n",
      "8   0.008234         3  0.006250        False\n",
      "2   0.015430         4  0.007143        False\n",
      "4   0.016639         5  0.008333        False\n",
      "9   0.050676         6  0.010000        False\n",
      "5   0.082915         7  0.012500        False\n",
      "10  0.110400         8  0.016667        False\n",
      "3   0.225872         9  0.025000        False\n",
      "11  0.335375        10  0.050000        False\n",
      "1   1.000000        11       inf         True\n"
     ]
    }
   ],
   "source": [
    "# Holm alpha correction as in Demsar\n",
    "p_values = pd.DataFrame({\"original\" : Dunn[1].sort_values()})\n",
    "p_values[\"Sequence\"] = range(1, len(Dunn) + 1)\n",
    "p_values[\"Holm\"] = 0.05 / (len(Dunn) - p_values[\"Sequence\"])\n",
    "p_values[\"significant\"] = p_values[\"original\"] < p_values[\"Holm\"]\n",
    "print(p_values)"
   ]
  },
  {
   "cell_type": "markdown",
   "id": "d7ecd8e6-373d-4117-8af5-ae231c2c6cfd",
   "metadata": {},
   "source": [
    "### Combo"
   ]
  },
  {
   "cell_type": "code",
   "execution_count": 46,
   "id": "b08f8562-8f20-47aa-8179-c569d897da9d",
   "metadata": {},
   "outputs": [],
   "source": [
    "combi_and_parts = scipy.stats.friedmanchisquare(\n",
    "                                                out4[\"Ensemble combo\"],\n",
    "                                                out4[\"Genetic distance AUC\"], \n",
    "                                                out4[\"DEPICT For SNP AUC\"], \n",
    "                                                out4[\"EVOKE AUC\"], \n",
    "                                                out4[\"network distance AUC\"], \n",
    "                                                out4[\"node2vec normal AUC\"], \n",
    "                                                out4[\"node2vec graphlet AUC\"], \n",
    "                                                out4[\"node2vec autoencode AUC\"], \n",
    "                                                out4[\"node2vec combi AUC\"], \n",
    "                                                out4[\"predicates AUC\"], \n",
    "                                                out4[\"rdf2vec AUC\"])"
   ]
  },
  {
   "cell_type": "code",
   "execution_count": 47,
   "id": "d5581c08-cdf7-43aa-8e07-759987b2342a",
   "metadata": {},
   "outputs": [
    {
     "name": "stdout",
     "output_type": "stream",
     "text": [
      "0.0839\n"
     ]
    }
   ],
   "source": [
    "print(round(combi_and_parts[1],4))"
   ]
  },
  {
   "cell_type": "code",
   "execution_count": 48,
   "id": "03f90520-4a17-4f6c-a23a-f1cbeac276d8",
   "metadata": {},
   "outputs": [
    {
     "data": {
      "text/plain": [
       "[2.12621359223301, 2.164579917125473]"
      ]
     },
     "execution_count": 48,
     "metadata": {},
     "output_type": "execute_result"
    }
   ],
   "source": [
    "Iman(combi_and_parts[0], 11, 4, 0.05)"
   ]
  },
  {
   "cell_type": "code",
   "execution_count": 49,
   "id": "f749c79a-b42b-45fe-bece-341446b00934",
   "metadata": {},
   "outputs": [],
   "source": [
    "Dunn = sp.posthoc_dunn([\n",
    "                 out4[\"Ensemble combo\"],\n",
    "                 out4[\"Genetic distance AUC\"], \n",
    "                                                out4[\"DEPICT For SNP AUC\"], \n",
    "                                                out4[\"EVOKE AUC\"], \n",
    "                                                out4[\"network distance AUC\"], \n",
    "                                                out4[\"node2vec normal AUC\"], \n",
    "                                                out4[\"node2vec graphlet AUC\"], \n",
    "                                                out4[\"node2vec autoencode AUC\"], \n",
    "                                                out4[\"node2vec combi AUC\"], \n",
    "                                                out4[\"predicates AUC\"], \n",
    "                                                out4[\"rdf2vec AUC\"]])"
   ]
  },
  {
   "cell_type": "code",
   "execution_count": 50,
   "id": "fc7d1d30-b9da-4aa0-b516-0472668c9d88",
   "metadata": {},
   "outputs": [
    {
     "data": {
      "text/html": [
       "<div>\n",
       "<style scoped>\n",
       "    .dataframe tbody tr th:only-of-type {\n",
       "        vertical-align: middle;\n",
       "    }\n",
       "\n",
       "    .dataframe tbody tr th {\n",
       "        vertical-align: top;\n",
       "    }\n",
       "\n",
       "    .dataframe thead th {\n",
       "        text-align: right;\n",
       "    }\n",
       "</style>\n",
       "<table border=\"1\" class=\"dataframe\">\n",
       "  <thead>\n",
       "    <tr style=\"text-align: right;\">\n",
       "      <th></th>\n",
       "      <th>1</th>\n",
       "      <th>2</th>\n",
       "      <th>3</th>\n",
       "      <th>4</th>\n",
       "      <th>5</th>\n",
       "      <th>6</th>\n",
       "      <th>7</th>\n",
       "      <th>8</th>\n",
       "      <th>9</th>\n",
       "      <th>10</th>\n",
       "      <th>11</th>\n",
       "    </tr>\n",
       "  </thead>\n",
       "  <tbody>\n",
       "    <tr>\n",
       "      <th>1</th>\n",
       "      <td>1.000000</td>\n",
       "      <td>0.016639</td>\n",
       "      <td>0.236597</td>\n",
       "      <td>0.017929</td>\n",
       "      <td>0.093158</td>\n",
       "      <td>0.009674</td>\n",
       "      <td>0.002699</td>\n",
       "      <td>0.008928</td>\n",
       "      <td>0.054019</td>\n",
       "      <td>0.116677</td>\n",
       "      <td>0.335375</td>\n",
       "    </tr>\n",
       "    <tr>\n",
       "      <th>2</th>\n",
       "      <td>0.016639</td>\n",
       "      <td>1.000000</td>\n",
       "      <td>0.225872</td>\n",
       "      <td>0.978042</td>\n",
       "      <td>0.474222</td>\n",
       "      <td>0.847218</td>\n",
       "      <td>0.544827</td>\n",
       "      <td>0.825721</td>\n",
       "      <td>0.639849</td>\n",
       "      <td>0.408961</td>\n",
       "      <td>0.152358</td>\n",
       "    </tr>\n",
       "    <tr>\n",
       "      <th>3</th>\n",
       "      <td>0.236597</td>\n",
       "      <td>0.225872</td>\n",
       "      <td>1.000000</td>\n",
       "      <td>0.236597</td>\n",
       "      <td>0.620294</td>\n",
       "      <td>0.160400</td>\n",
       "      <td>0.069280</td>\n",
       "      <td>0.152358</td>\n",
       "      <td>0.457391</td>\n",
       "      <td>0.699988</td>\n",
       "      <td>0.825721</td>\n",
       "    </tr>\n",
       "    <tr>\n",
       "      <th>4</th>\n",
       "      <td>0.017929</td>\n",
       "      <td>0.978042</td>\n",
       "      <td>0.236597</td>\n",
       "      <td>1.000000</td>\n",
       "      <td>0.491388</td>\n",
       "      <td>0.825721</td>\n",
       "      <td>0.526698</td>\n",
       "      <td>0.804353</td>\n",
       "      <td>0.659658</td>\n",
       "      <td>0.424755</td>\n",
       "      <td>0.160400</td>\n",
       "    </tr>\n",
       "    <tr>\n",
       "      <th>5</th>\n",
       "      <td>0.093158</td>\n",
       "      <td>0.474222</td>\n",
       "      <td>0.620294</td>\n",
       "      <td>0.491388</td>\n",
       "      <td>1.000000</td>\n",
       "      <td>0.363722</td>\n",
       "      <td>0.186449</td>\n",
       "      <td>0.349366</td>\n",
       "      <td>0.804353</td>\n",
       "      <td>0.912333</td>\n",
       "      <td>0.474222</td>\n",
       "    </tr>\n",
       "    <tr>\n",
       "      <th>6</th>\n",
       "      <td>0.009674</td>\n",
       "      <td>0.847218</td>\n",
       "      <td>0.160400</td>\n",
       "      <td>0.825721</td>\n",
       "      <td>0.363722</td>\n",
       "      <td>1.000000</td>\n",
       "      <td>0.679708</td>\n",
       "      <td>0.978042</td>\n",
       "      <td>0.508883</td>\n",
       "      <td>0.308492</td>\n",
       "      <td>0.104393</td>\n",
       "    </tr>\n",
       "    <tr>\n",
       "      <th>7</th>\n",
       "      <td>0.002699</td>\n",
       "      <td>0.544827</td>\n",
       "      <td>0.069280</td>\n",
       "      <td>0.526698</td>\n",
       "      <td>0.186449</td>\n",
       "      <td>0.679708</td>\n",
       "      <td>1.000000</td>\n",
       "      <td>0.699988</td>\n",
       "      <td>0.283074</td>\n",
       "      <td>0.152358</td>\n",
       "      <td>0.041672</td>\n",
       "    </tr>\n",
       "    <tr>\n",
       "      <th>8</th>\n",
       "      <td>0.008928</td>\n",
       "      <td>0.825721</td>\n",
       "      <td>0.152358</td>\n",
       "      <td>0.804353</td>\n",
       "      <td>0.349366</td>\n",
       "      <td>0.978042</td>\n",
       "      <td>0.699988</td>\n",
       "      <td>1.000000</td>\n",
       "      <td>0.491388</td>\n",
       "      <td>0.295600</td>\n",
       "      <td>0.098648</td>\n",
       "    </tr>\n",
       "    <tr>\n",
       "      <th>9</th>\n",
       "      <td>0.054019</td>\n",
       "      <td>0.639849</td>\n",
       "      <td>0.457391</td>\n",
       "      <td>0.659658</td>\n",
       "      <td>0.804353</td>\n",
       "      <td>0.508883</td>\n",
       "      <td>0.283074</td>\n",
       "      <td>0.491388</td>\n",
       "      <td>1.000000</td>\n",
       "      <td>0.720483</td>\n",
       "      <td>0.335375</td>\n",
       "    </tr>\n",
       "    <tr>\n",
       "      <th>10</th>\n",
       "      <td>0.116677</td>\n",
       "      <td>0.408961</td>\n",
       "      <td>0.699988</td>\n",
       "      <td>0.424755</td>\n",
       "      <td>0.912333</td>\n",
       "      <td>0.308492</td>\n",
       "      <td>0.152358</td>\n",
       "      <td>0.295600</td>\n",
       "      <td>0.720483</td>\n",
       "      <td>1.000000</td>\n",
       "      <td>0.544827</td>\n",
       "    </tr>\n",
       "    <tr>\n",
       "      <th>11</th>\n",
       "      <td>0.335375</td>\n",
       "      <td>0.152358</td>\n",
       "      <td>0.825721</td>\n",
       "      <td>0.160400</td>\n",
       "      <td>0.474222</td>\n",
       "      <td>0.104393</td>\n",
       "      <td>0.041672</td>\n",
       "      <td>0.098648</td>\n",
       "      <td>0.335375</td>\n",
       "      <td>0.544827</td>\n",
       "      <td>1.000000</td>\n",
       "    </tr>\n",
       "  </tbody>\n",
       "</table>\n",
       "</div>"
      ],
      "text/plain": [
       "          1         2         3         4         5         6         7   \\\n",
       "1   1.000000  0.016639  0.236597  0.017929  0.093158  0.009674  0.002699   \n",
       "2   0.016639  1.000000  0.225872  0.978042  0.474222  0.847218  0.544827   \n",
       "3   0.236597  0.225872  1.000000  0.236597  0.620294  0.160400  0.069280   \n",
       "4   0.017929  0.978042  0.236597  1.000000  0.491388  0.825721  0.526698   \n",
       "5   0.093158  0.474222  0.620294  0.491388  1.000000  0.363722  0.186449   \n",
       "6   0.009674  0.847218  0.160400  0.825721  0.363722  1.000000  0.679708   \n",
       "7   0.002699  0.544827  0.069280  0.526698  0.186449  0.679708  1.000000   \n",
       "8   0.008928  0.825721  0.152358  0.804353  0.349366  0.978042  0.699988   \n",
       "9   0.054019  0.639849  0.457391  0.659658  0.804353  0.508883  0.283074   \n",
       "10  0.116677  0.408961  0.699988  0.424755  0.912333  0.308492  0.152358   \n",
       "11  0.335375  0.152358  0.825721  0.160400  0.474222  0.104393  0.041672   \n",
       "\n",
       "          8         9         10        11  \n",
       "1   0.008928  0.054019  0.116677  0.335375  \n",
       "2   0.825721  0.639849  0.408961  0.152358  \n",
       "3   0.152358  0.457391  0.699988  0.825721  \n",
       "4   0.804353  0.659658  0.424755  0.160400  \n",
       "5   0.349366  0.804353  0.912333  0.474222  \n",
       "6   0.978042  0.508883  0.308492  0.104393  \n",
       "7   0.699988  0.283074  0.152358  0.041672  \n",
       "8   1.000000  0.491388  0.295600  0.098648  \n",
       "9   0.491388  1.000000  0.720483  0.335375  \n",
       "10  0.295600  0.720483  1.000000  0.544827  \n",
       "11  0.098648  0.335375  0.544827  1.000000  "
      ]
     },
     "execution_count": 50,
     "metadata": {},
     "output_type": "execute_result"
    }
   ],
   "source": [
    "Dunn"
   ]
  },
  {
   "cell_type": "code",
   "execution_count": 51,
   "id": "e303a7e7-5899-4bc0-86c5-4f785a8b54eb",
   "metadata": {},
   "outputs": [
    {
     "name": "stdout",
     "output_type": "stream",
     "text": [
      "    original  Sequence      Holm  significant\n",
      "7   0.002699         1  0.005000         True\n",
      "8   0.008928         2  0.005556        False\n",
      "6   0.009674         3  0.006250        False\n",
      "2   0.016639         4  0.007143        False\n",
      "4   0.017929         5  0.008333        False\n",
      "9   0.054019         6  0.010000        False\n",
      "5   0.093158         7  0.012500        False\n",
      "10  0.116677         8  0.016667        False\n",
      "3   0.236597         9  0.025000        False\n",
      "11  0.335375        10  0.050000        False\n",
      "1   1.000000        11       inf         True\n"
     ]
    }
   ],
   "source": [
    "# Holm alpha correction as in Demsar\n",
    "p_values = pd.DataFrame({\"original\" : Dunn[1].sort_values()})\n",
    "p_values[\"Sequence\"] = range(1, len(Dunn) + 1)\n",
    "p_values[\"Holm\"] = 0.05 / (len(Dunn) - p_values[\"Sequence\"])\n",
    "p_values[\"significant\"] = p_values[\"original\"] < p_values[\"Holm\"]\n",
    "print(p_values)"
   ]
  },
  {
   "cell_type": "code",
   "execution_count": null,
   "id": "5de09f63-8942-4f1a-9c21-dc5d8311c460",
   "metadata": {},
   "outputs": [],
   "source": []
  },
  {
   "cell_type": "code",
   "execution_count": null,
   "id": "dfa521c0-e989-41e3-a91f-0f5b5405dd1c",
   "metadata": {},
   "outputs": [],
   "source": []
  }
 ],
 "metadata": {
  "kernelspec": {
   "display_name": "Python 3 (ipykernel)",
   "language": "python",
   "name": "python3"
  },
  "language_info": {
   "codemirror_mode": {
    "name": "ipython",
    "version": 3
   },
   "file_extension": ".py",
   "mimetype": "text/x-python",
   "name": "python",
   "nbconvert_exporter": "python",
   "pygments_lexer": "ipython3",
   "version": "3.9.12"
  }
 },
 "nbformat": 4,
 "nbformat_minor": 5
}
