{
 "cells": [
  {
   "cell_type": "markdown",
   "metadata": {},
   "source": [
    "# Analyse results of DEPICT\n",
    "\n",
    "Here we anlayse the results of the DEPICT algorithm on the set of Farashi et al."
   ]
  },
  {
   "cell_type": "code",
   "execution_count": 1,
   "metadata": {},
   "outputs": [],
   "source": [
    "# Load the required packages\n",
    "import pandas as pd"
   ]
  },
  {
   "cell_type": "code",
   "execution_count": 2,
   "metadata": {},
   "outputs": [],
   "source": [
    "#farashi = pd.read_csv(\"~/git/DEPICT/outcomes/Farashi complete 2nd round/farashi_no_pvalue_filtering_geneprioritization.txt\", sep = \"\\t\")\n",
    "farashi = pd.read_csv(\"~/git/DEPICT/outcomes/Farashi complete 2nd round/farashi_default_pvalue_filtering_geneprioritization.txt\", sep = \"\\t\")"
   ]
  },
  {
   "cell_type": "code",
   "execution_count": 3,
   "metadata": {},
   "outputs": [],
   "source": [
    "# Explode the listed genes in the candidates table\n",
    "farashi[\"Locus\"] = farashi[\"Locus\"].astype(str).apply(lambda x: x.split(\";\"))\n",
    "farashi = farashi.explode(\"Locus\")"
   ]
  },
  {
   "cell_type": "code",
   "execution_count": 4,
   "metadata": {},
   "outputs": [
    {
     "data": {
      "text/plain": [
       "<AxesSubplot:>"
      ]
     },
     "execution_count": 4,
     "metadata": {},
     "output_type": "execute_result"
    },
    {
     "data": {
      "image/png": "[encoded data removed]",
      "text/plain": [
       "<Figure size 1080x1080 with 1 Axes>"
      ]
     },
     "metadata": {
      "needs_background": "light"
     },
     "output_type": "display_data"
    }
   ],
   "source": [
    "# Count how many candidate genes each SNP approximately has\n",
    "farashi.groupby(\"Locus\")[\"Ensembl gene ID\"].nunique().hist(bins = 54, figsize = (15,15))"
   ]
  },
  {
   "cell_type": "code",
   "execution_count": 5,
   "metadata": {},
   "outputs": [
    {
     "name": "stdout",
     "output_type": "stream",
     "text": [
      "Mean number of candidates per SNP: 2.76\n"
     ]
    }
   ],
   "source": [
    "print(\"Mean number of candidates per SNP: \" + str(farashi.groupby(\"Locus\")[\"Ensembl gene ID\"].nunique().mean().round(2)))"
   ]
  },
  {
   "cell_type": "code",
   "execution_count": 6,
   "metadata": {},
   "outputs": [],
   "source": [
    "# Update the SNP ID's\n",
    "snp_replacement_dict = {\"rs113645266\" : \"rs6557271\",\n",
    "                        \"rs150282463\" : \"rs13137700\",\n",
    "                        \"rs67276543\" : \"rs34884832\"}\n",
    "farashi[\"Locus\"] = farashi[\"Locus\"].replace(snp_replacement_dict)"
   ]
  },
  {
   "cell_type": "code",
   "execution_count": 7,
   "metadata": {},
   "outputs": [],
   "source": [
    "# Initiate the connection to the database (first time you may have to run ensembl.download() and ensembl.index())\n",
    "# To align with our reference set, we take a Ensembl version from 2019\n",
    "from pyensembl import EnsemblRelease\n",
    "ensembl = EnsemblRelease(92)\n",
    "\n",
    "# Function to extract the data (and prevent superfluous queries)\n",
    "def getEnsemblData(id):\n",
    "    try:\n",
    "        data = ensembl.gene_by_id(id)\n",
    "        return pd.Series({\"gene name\" : data.gene_name, \n",
    "                          \"chromosome\" : data.contig, \n",
    "                          \"gene start\" : data.start,\n",
    "                          \"gene stop\" : data.end,\n",
    "                          \"protein_coding\" : data.is_protein_coding})\n",
    "    except ValueError:\n",
    "        return pd.Series({\"gene name\" : None, \n",
    "                          \"chromosome\" : None, \n",
    "                          \"gene start\" : None,\n",
    "                          \"gene stop\" : None,\n",
    "                          \"protein_coding\" : None})"
   ]
  },
  {
   "cell_type": "code",
   "execution_count": 8,
   "metadata": {},
   "outputs": [],
   "source": [
    "farashi[[\"gene name\", \"chromosome\", \"gene start\", \"gene stop\", \"protein_coding\"]] = farashi[\"Ensembl gene ID\"].apply(lambda x: getEnsemblData(x))\n",
    "\n",
    "# Limit outcomes to protein coding genes only, for a fair comparison\n",
    "farashi = farashi[farashi[\"protein_coding\"] == True]"
   ]
  },
  {
   "cell_type": "code",
   "execution_count": 9,
   "metadata": {},
   "outputs": [],
   "source": [
    "farashi_ref = pd.read_csv(\"/Users/vlietstraw/git/Post-GWAS/Input sets/Farashi/Farashi full 2000000 bp distance no pvalue filtering.csv\")\n",
    "farashi_ref = farashi_ref[farashi_ref[\"GWAS/eQTL p-value¥\"] <= float(\"5e-8\")]"
   ]
  },
  {
   "cell_type": "code",
   "execution_count": 10,
   "metadata": {},
   "outputs": [],
   "source": [
    "farashi = farashi.merge(farashi_ref[[\"SNP ID\", \"gene_ids\", \"Class\"]], left_on = [\"Locus\", \"Ensembl gene ID\"], right_on = [\"SNP ID\", \"gene_ids\"], how = \"left\")"
   ]
  },
  {
   "cell_type": "code",
   "execution_count": 11,
   "metadata": {},
   "outputs": [],
   "source": [
    "positives = farashi.groupby(\"Locus\")[\"Class\"].sum()\n",
    "positives = positives[positives > 0]\n",
    "farashi = farashi[farashi[\"Locus\"].isin(positives.index)]"
   ]
  },
  {
   "cell_type": "code",
   "execution_count": 12,
   "metadata": {},
   "outputs": [],
   "source": [
    "# Bij Farashi kan dit. Er zijn wel gedupliceerde P-values, maar die zijn meestal 1, en eigenlijk nooit voor positieve cases\n",
    "outcomes = farashi.sort_values([\"Locus\", \"Nominal P value\"], ascending = True)\n",
    "outcomes[\"Rank\"] = outcomes.groupby(\"SNP ID\").cumcount() + 1"
   ]
  },
  {
   "cell_type": "code",
   "execution_count": 13,
   "metadata": {},
   "outputs": [
    {
     "name": "stdout",
     "output_type": "stream",
     "text": [
      "0.7567774936061381\n"
     ]
    }
   ],
   "source": [
    "import sklearn.metrics\n",
    "\n",
    "fpr, tpr, thresholds = sklearn.metrics.roc_curve(outcomes[\"Class\"], -outcomes[\"Rank\"], pos_label = 1)\n",
    "overall_auc = sklearn.metrics.auc(fpr, tpr)\n",
    "print(overall_auc)"
   ]
  },
  {
   "cell_type": "code",
   "execution_count": 14,
   "metadata": {},
   "outputs": [
    {
     "name": "stdout",
     "output_type": "stream",
     "text": [
      "0.7588768115942031\n"
     ]
    }
   ],
   "source": [
    "# Calculate the ROC-AUC for every SNP and average the result\n",
    "SNPS2 = list(set(outcomes[\"Locus\"]))\n",
    "aucs = []\n",
    "for snp in SNPS2:\n",
    "    if len(set(outcomes[\"Class\"][outcomes[\"Locus\"] == snp])) == 1:\n",
    "        aucs.append(list(set(outcomes[\"Class\"][outcomes[\"Locus\"] == snp]))[0])\n",
    "    else:\n",
    "        fpr, tpr, thresholds = sklearn.metrics.roc_curve(outcomes[\"Class\"][outcomes[\"Locus\"] == snp], -outcomes[\"Nominal P value\"][outcomes[\"Locus\"] == snp], pos_label = 1)\n",
    "        aucs.append(sklearn.metrics.auc(fpr, tpr))\n",
    "print(sum(aucs)/len(aucs))"
   ]
  },
  {
   "cell_type": "code",
   "execution_count": 15,
   "metadata": {},
   "outputs": [
    {
     "data": {
      "text/plain": [
       "30"
      ]
     },
     "execution_count": 15,
     "metadata": {},
     "output_type": "execute_result"
    }
   ],
   "source": [
    "len(outcomes[(outcomes[\"Class\"] == 1) & (outcomes[\"Rank\"] == 1)])"
   ]
  },
  {
   "cell_type": "code",
   "execution_count": 16,
   "metadata": {},
   "outputs": [
    {
     "data": {
      "text/plain": [
       "41"
      ]
     },
     "execution_count": 16,
     "metadata": {},
     "output_type": "execute_result"
    }
   ],
   "source": [
    "len(outcomes[(outcomes[\"Class\"] == 1) & (outcomes[\"Rank\"] <= 3)])"
   ]
  },
  {
   "cell_type": "code",
   "execution_count": 17,
   "metadata": {},
   "outputs": [
    {
     "data": {
      "text/plain": [
       "44"
      ]
     },
     "execution_count": 17,
     "metadata": {},
     "output_type": "execute_result"
    }
   ],
   "source": [
    "len(outcomes[(outcomes[\"Class\"] == 1) & (outcomes[\"Rank\"] <= 5)])"
   ]
  },
  {
   "cell_type": "code",
   "execution_count": 18,
   "metadata": {},
   "outputs": [
    {
     "data": {
      "text/plain": [
       "46"
      ]
     },
     "execution_count": 18,
     "metadata": {},
     "output_type": "execute_result"
    }
   ],
   "source": [
    "len(outcomes[(outcomes[\"Class\"] == 1) & (outcomes[\"Rank\"] <= 10)])"
   ]
  },
  {
   "cell_type": "code",
   "execution_count": 19,
   "metadata": {},
   "outputs": [
    {
     "data": {
      "text/plain": [
       "46"
      ]
     },
     "execution_count": 19,
     "metadata": {},
     "output_type": "execute_result"
    }
   ],
   "source": [
    "len(set(outcomes[\"Locus\"]))"
   ]
  },
  {
   "cell_type": "code",
   "execution_count": 20,
   "metadata": {},
   "outputs": [
    {
     "data": {
      "text/plain": [
       "46"
      ]
     },
     "execution_count": 20,
     "metadata": {},
     "output_type": "execute_result"
    }
   ],
   "source": [
    "sum(outcomes[\"Class\"])"
   ]
  },
  {
   "cell_type": "code",
   "execution_count": 21,
   "metadata": {},
   "outputs": [
    {
     "data": {
      "text/plain": [
       "1.8043478260869565"
      ]
     },
     "execution_count": 21,
     "metadata": {},
     "output_type": "execute_result"
    }
   ],
   "source": [
    "outcomes[\"Rank\"][outcomes[\"Class\"] == 1].mean()"
   ]
  },
  {
   "cell_type": "code",
   "execution_count": 22,
   "metadata": {},
   "outputs": [
    {
     "data": {
      "text/plain": [
       "1.0"
      ]
     },
     "execution_count": 22,
     "metadata": {},
     "output_type": "execute_result"
    }
   ],
   "source": [
    "outcomes[\"Rank\"][outcomes[\"Class\"] == 1].median()"
   ]
  },
  {
   "cell_type": "code",
   "execution_count": null,
   "metadata": {},
   "outputs": [],
   "source": []
  }
 ],
 "metadata": {
  "kernelspec": {
   "display_name": "Python 3",
   "language": "python",
   "name": "python3"
  },
  "language_info": {
   "codemirror_mode": {
    "name": "ipython",
    "version": 3
   },
   "file_extension": ".py",
   "mimetype": "text/x-python",
   "name": "python",
   "nbconvert_exporter": "python",
   "pygments_lexer": "ipython3",
   "version": "3.7.9"
  }
 },
 "nbformat": 4,
 "nbformat_minor": 4
}
