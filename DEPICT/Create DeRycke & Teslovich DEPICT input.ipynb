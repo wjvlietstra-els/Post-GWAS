{
 "cells": [
  {
   "cell_type": "markdown",
   "metadata": {},
   "source": [
    "# Create Teslovich and DeRycke reference sets"
   ]
  },
  {
   "cell_type": "code",
   "execution_count": 1,
   "metadata": {},
   "outputs": [],
   "source": [
    "import pandas as pd"
   ]
  },
  {
   "cell_type": "code",
   "execution_count": 2,
   "metadata": {},
   "outputs": [],
   "source": [
    "DR = pd.read_csv(\"/Users/vlietstraw/git/Post-GWAS/Input sets/DeRycke/DeRycke reference set.csv\")\n",
    "tes = pd.read_csv(\"/Users/vlietstraw/git/Post-GWAS/Input sets/Teslovich/Teslovich reference set.csv\")"
   ]
  },
  {
   "cell_type": "code",
   "execution_count": 3,
   "metadata": {},
   "outputs": [],
   "source": [
    "DR[\"SNP_chr_pos\"] = DR[\"chromosome\"].astype(str) + \":\" + DR[\"location\"].astype(str)\n",
    "tes[\"SNP_chr_pos\"] = tes[\"chromosome\"].astype(str) + \":\" + tes[\"location\"].astype(str)"
   ]
  },
  {
   "cell_type": "code",
   "execution_count": 4,
   "metadata": {},
   "outputs": [],
   "source": [
    "DR = DR[[\"SNP_chr_pos\", \"SNP ID\", \"chromosome\", \"location\"]]\n",
    "DR[\"P\"] = float(\"1e-8\")\n",
    "DR.columns = [\"SNP_chr_pos\", \"SNP\", \"Chr\", \"Pos\", \"P\"]\n",
    "DR.drop_duplicates(inplace = True)"
   ]
  },
  {
   "cell_type": "code",
   "execution_count": 5,
   "metadata": {},
   "outputs": [],
   "source": [
    "tes = tes[[\"SNP_chr_pos\", \"SNP ID\", \"chromosome\", \"location\", \"P\"]]\n",
    "tes.columns = [\"SNP_chr_pos\", \"SNP\", \"Chr\", \"Pos\", \"P\"]\n",
    "tes.drop_duplicates(inplace = True)"
   ]
  },
  {
   "cell_type": "code",
   "execution_count": 6,
   "metadata": {},
   "outputs": [],
   "source": [
    "DR.to_csv(\"/Users/vlietstraw/git/DEPICT/outcomes/DeRycke/DeRycke.tab\", index = False, sep = \"\\t\")"
   ]
  },
  {
   "cell_type": "code",
   "execution_count": 7,
   "metadata": {},
   "outputs": [],
   "source": [
    "tes.to_csv(\"/Users/vlietstraw/git/DEPICT/outcomes/Teslovich for paper Wytze/Teslovich.tab\", index = False, sep = \"\\t\")"
   ]
  }
 ],
 "metadata": {
  "kernelspec": {
   "display_name": "Python 3",
   "language": "python",
   "name": "python3"
  },
  "language_info": {
   "codemirror_mode": {
    "name": "ipython",
    "version": 3
   },
   "file_extension": ".py",
   "mimetype": "text/x-python",
   "name": "python",
   "nbconvert_exporter": "python",
   "pygments_lexer": "ipython3",
   "version": "3.7.9"
  }
 },
 "nbformat": 4,
 "nbformat_minor": 4
}
