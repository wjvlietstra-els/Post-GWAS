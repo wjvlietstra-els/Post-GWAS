{
 "cells": [
  {
   "cell_type": "markdown",
   "metadata": {},
   "source": [
    "# Extract protein-protein interaction networks to be used in various network analyses tools"
   ]
  },
  {
   "cell_type": "code",
   "execution_count": 6,
   "metadata": {},
   "outputs": [],
   "source": [
    "# Load the required packages\n",
    "from neo4j import GraphDatabase\n",
    "import pandas as pd\n",
    "pd.set_option('display.max_columns', None)\n",
    "pd.set_option('display.max_rows', None)\n",
    "pd.set_option('display.max_colwidth', 2000)"
   ]
  },
  {
   "cell_type": "code",
   "execution_count": 8,
   "metadata": {},
   "outputs": [],
   "source": [
    "# Setup a connection to the database\n",
    "driver = GraphDatabase.driver(\"bolt://localhost:7687\")\n",
    "session =  driver.session()"
   ]
  },
  {
   "cell_type": "code",
   "execution_count": 9,
   "metadata": {},
   "outputs": [],
   "source": [
    "# Set the cutoff for minimal expression\n",
    "min_expression = 21\n",
    "FC_cutoff = 1.5\n",
    "FDR_cutoff = 0.0001"
   ]
  },
  {
   "cell_type": "markdown",
   "metadata": {},
   "source": [
    "## Load the gene expression data which can be used to filter the network"
   ]
  },
  {
   "cell_type": "code",
   "execution_count": 4,
   "metadata": {},
   "outputs": [],
   "source": [
    "# Extract the gene expression data\n",
    "cols = pd.read_csv(\"Input sets/Gene expression data/design_matrix_prostate_unpaired.txt\", delimiter = \"\\t\")\n",
    "reads = pd.read_csv(\"Input sets/Gene expression data/expression_matrix_prostate_clean.txt\", delimiter = \"\\t\")\n",
    "# Read in the differential expression calculations\n",
    "dex = pd.read_csv(\"Input sets/Gene expression data/Galaxy37-[edgeR_DGE_on_2__design_matrix_prostate_unpaired.txt_-_differentially_expressed_genes].tabular.annotated.txt\", \n",
    "                  delimiter = \"\\t\", index_col = 0, names = [\"ENSEMBL\", \"gene\", \"logFC\", \"logCPM\", \"LR\", \"pValue\", \"FDR\"], header = 0)\n",
    "dex[\"ENSEMBL\"].replace(\"(\\.\\d+)\", \"\", regex = True, inplace = True)\n",
    "# We know that the logFC is a 2 log. However, I prefer absolute values rather than logs\n",
    "dex[\"FC\"] = 2**dex[\"logFC\"]\n",
    "\n",
    "# Assign differential expression to the genes based on the previously set parameters\n",
    "dex[\"Diff expression\"] = \"Unchanged\"\n",
    "dex.loc[(dex[\"FDR\"] <= FDR_cutoff) & (dex[\"FC\"] <= 1/FC_cutoff), \"Diff expression\"] = \"Underexpressed\"\n",
    "dex.loc[(dex[\"FDR\"] <= FDR_cutoff) & (dex[\"FC\"] >= FC_cutoff), \"Diff expression\"] = \"Overexpressed\"\n",
    "\n",
    "# Get the raw reads data\n",
    "reads[\"total\"] = reads.sum(axis = 1, numeric_only = True)\n",
    "reads[\"freq\"] = ((reads[list(cols[\"samplename\"])] > 0) * 1).sum(axis = 1)\n",
    "reads[\"gene_ids\"].replace(\"(\\.\\d+)\", \"\", regex = True, inplace = True)\n",
    "\n",
    "reads = reads.merge(dex, left_on = \"gene_ids\", right_on = \"ENSEMBL\", how = \"outer\")"
   ]
  },
  {
   "cell_type": "markdown",
   "metadata": {},
   "source": [
    "We also extract the location and other properties of the genes, to filter out the non-protein coding and mitochondrial genes."
   ]
  },
  {
   "cell_type": "code",
   "execution_count": 5,
   "metadata": {},
   "outputs": [],
   "source": [
    "# Initiate the connection to the database (first time you may have to run ensembl.download() and ensembl.index())\n",
    "# To align with our reference set, we take a Ensembl version from 2019\n",
    "from pyensembl import EnsemblRelease\n",
    "ensembl = EnsemblRelease(92)\n",
    "\n",
    "# Function to extract the data (and prevent superfluous queries)\n",
    "def getEnsemblData(id):\n",
    "    try:\n",
    "        data = ensembl.gene_by_id(id)\n",
    "        return pd.Series({\"gene name\" : data.gene_name, \n",
    "                          \"chromosome\" : data.contig, \n",
    "                          \"gene start\" : data.start,\n",
    "                          \"gene stop\" : data.end,\n",
    "                          \"protein_coding\" : data.is_protein_coding})\n",
    "    except ValueError:\n",
    "        return pd.Series({\"gene name\" : None, \n",
    "                          \"chromosome\" : None, \n",
    "                          \"gene start\" : None,\n",
    "                          \"gene stop\" : None,\n",
    "                          \"protein_coding\" : None})"
   ]
  },
  {
   "cell_type": "code",
   "execution_count": 6,
   "metadata": {},
   "outputs": [],
   "source": [
    "# Remove the postifxes of the gene identifiers\n",
    "reads[\"gene_ids\"].replace(\"\\.\\d+\", \"\", regex = True, inplace = True)\n",
    "reads[[\"gene name\", \"chromosome\", \"gene start\", \"gene stop\", \"protein_coding\"]] = reads[\"gene_ids\"].apply(lambda x: getEnsemblData(x))"
   ]
  },
  {
   "cell_type": "code",
   "execution_count": 7,
   "metadata": {},
   "outputs": [],
   "source": [
    "# PathwayStudio primarily contains protein coding gene entries. All non-protein coding entries are therefore removed\n",
    "reads = reads[reads[\"protein_coding\"] == True]\n",
    "\n",
    "# Drop the mitochondrial genes and the entries that could not be found\n",
    "reads.drop(reads[reads[\"chromosome\"].isin([\"MT\", None])].index, inplace = True)\n",
    "\n",
    "# Only removes 3897 edges, so perhaps not worthwhile"
   ]
  },
  {
   "cell_type": "code",
   "execution_count": 10,
   "metadata": {},
   "outputs": [
    {
     "ename": "NameError",
     "evalue": "name 'reads' is not defined",
     "output_type": "error",
     "traceback": [
      "\u001b[0;31m---------------------------------------------------------------------------\u001b[0m",
      "\u001b[0;31mNameError\u001b[0m                                 Traceback (most recent call last)",
      "\u001b[0;32m<ipython-input-10-361a60bafb9c>\u001b[0m in \u001b[0;36m<module>\u001b[0;34m\u001b[0m\n\u001b[1;32m      4\u001b[0m \u001b[0mPPI\u001b[0m\u001b[0;34m[\u001b[0m\u001b[0;34m\"ENSEMBL1\"\u001b[0m\u001b[0;34m]\u001b[0m\u001b[0;34m.\u001b[0m\u001b[0mreplace\u001b[0m\u001b[0;34m(\u001b[0m\u001b[0;34m\"\\.\\d+\"\u001b[0m\u001b[0;34m,\u001b[0m \u001b[0;34m\"\"\u001b[0m\u001b[0;34m,\u001b[0m \u001b[0mregex\u001b[0m \u001b[0;34m=\u001b[0m \u001b[0;32mTrue\u001b[0m\u001b[0;34m,\u001b[0m \u001b[0minplace\u001b[0m \u001b[0;34m=\u001b[0m \u001b[0;32mTrue\u001b[0m\u001b[0;34m)\u001b[0m\u001b[0;34m\u001b[0m\u001b[0;34m\u001b[0m\u001b[0m\n\u001b[1;32m      5\u001b[0m \u001b[0mPPI\u001b[0m\u001b[0;34m[\u001b[0m\u001b[0;34m\"ENSEMBL2\"\u001b[0m\u001b[0;34m]\u001b[0m\u001b[0;34m.\u001b[0m\u001b[0mreplace\u001b[0m\u001b[0;34m(\u001b[0m\u001b[0;34m\"\\.\\d+\"\u001b[0m\u001b[0;34m,\u001b[0m \u001b[0;34m\"\"\u001b[0m\u001b[0;34m,\u001b[0m \u001b[0mregex\u001b[0m \u001b[0;34m=\u001b[0m \u001b[0;32mTrue\u001b[0m\u001b[0;34m,\u001b[0m \u001b[0minplace\u001b[0m \u001b[0;34m=\u001b[0m \u001b[0;32mTrue\u001b[0m\u001b[0;34m)\u001b[0m\u001b[0;34m\u001b[0m\u001b[0;34m\u001b[0m\u001b[0m\n\u001b[0;32m----> 6\u001b[0;31m \u001b[0mPPI\u001b[0m \u001b[0;34m=\u001b[0m \u001b[0mPPI\u001b[0m\u001b[0;34m[\u001b[0m\u001b[0mPPI\u001b[0m\u001b[0;34m[\u001b[0m\u001b[0;34m\"ENSEMBL1\"\u001b[0m\u001b[0;34m]\u001b[0m\u001b[0;34m.\u001b[0m\u001b[0misin\u001b[0m\u001b[0;34m(\u001b[0m\u001b[0mreads\u001b[0m\u001b[0;34m[\u001b[0m\u001b[0;34m\"gene_ids\"\u001b[0m\u001b[0;34m]\u001b[0m\u001b[0;34m)\u001b[0m \u001b[0;34m&\u001b[0m \u001b[0mPPI\u001b[0m\u001b[0;34m[\u001b[0m\u001b[0;34m\"ENSEMBL2\"\u001b[0m\u001b[0;34m]\u001b[0m\u001b[0;34m.\u001b[0m\u001b[0misin\u001b[0m\u001b[0;34m(\u001b[0m\u001b[0mreads\u001b[0m\u001b[0;34m[\u001b[0m\u001b[0;34m\"gene_ids\"\u001b[0m\u001b[0;34m]\u001b[0m\u001b[0;34m)\u001b[0m\u001b[0;34m]\u001b[0m\u001b[0;34m\u001b[0m\u001b[0;34m\u001b[0m\u001b[0m\n\u001b[0m\u001b[1;32m      7\u001b[0m \u001b[0mPPI\u001b[0m\u001b[0;34m.\u001b[0m\u001b[0mdrop_duplicates\u001b[0m\u001b[0;34m(\u001b[0m\u001b[0;34m[\u001b[0m\u001b[0;34m'ENSEMBL1'\u001b[0m\u001b[0;34m,\u001b[0m \u001b[0;34m'predicate'\u001b[0m\u001b[0;34m,\u001b[0m \u001b[0;34m'nPMID'\u001b[0m\u001b[0;34m,\u001b[0m \u001b[0;34m'ENSEMBL2'\u001b[0m\u001b[0;34m]\u001b[0m\u001b[0;34m,\u001b[0m \u001b[0mkeep\u001b[0m \u001b[0;34m=\u001b[0m \u001b[0;34m\"first\"\u001b[0m\u001b[0;34m,\u001b[0m \u001b[0minplace\u001b[0m \u001b[0;34m=\u001b[0m \u001b[0;32mTrue\u001b[0m\u001b[0;34m)\u001b[0m\u001b[0;34m\u001b[0m\u001b[0;34m\u001b[0m\u001b[0m\n",
      "\u001b[0;31mNameError\u001b[0m: name 'reads' is not defined"
     ]
    }
   ],
   "source": [
    "# Extract all the protein-protein interaction data along with some other info\n",
    "PPI = pd.DataFrame(session.run(\"MATCH (p:Protein)-[r]->(p2:Protein) RETURN DISTINCT p.`Ensembl ID` AS ENSEMBL1, type(r) AS predicate, r.pmid AS PMID, length(r.pmid) as nPMID, p2.`Ensembl ID` AS ENSEMBL2\").data())\n",
    "PPI = PPI.explode(\"ENSEMBL1\").explode(\"ENSEMBL2\")\n",
    "PPI[\"ENSEMBL1\"].replace(\"\\.\\d+\", \"\", regex = True, inplace = True)\n",
    "PPI[\"ENSEMBL2\"].replace(\"\\.\\d+\", \"\", regex = True, inplace = True)\n",
    "PPI = PPI[PPI[\"ENSEMBL1\"].isin(reads[\"gene_ids\"]) & PPI[\"ENSEMBL2\"].isin(reads[\"gene_ids\"])]\n",
    "PPI.drop_duplicates(['ENSEMBL1', 'predicate', 'nPMID', 'ENSEMBL2'], keep = \"first\", inplace = True)"
   ]
  },
  {
   "cell_type": "code",
   "execution_count": 9,
   "metadata": {},
   "outputs": [],
   "source": [
    "# Add the ENSEMBL and expression data to the PPI information\n",
    "PPI = PPI.merge(reads[[\"gene_ids\", \"freq\"]], left_on = \"ENSEMBL1\", right_on = \"gene_ids\", how = \"inner\")\n",
    "PPI = PPI.merge(reads[[\"gene_ids\", \"freq\"]], left_on = \"ENSEMBL2\", right_on = \"gene_ids\", how = \"inner\", suffixes = [\" 1\", \" 2\"])\n",
    "PPI.drop(columns = [\"gene_ids 1\", \"gene_ids 2\"], inplace = True)"
   ]
  },
  {
   "cell_type": "code",
   "execution_count": 10,
   "metadata": {},
   "outputs": [],
   "source": [
    "# Write away the data so that it can be reloaded quicker in the future\n",
    "PPI.to_csv(\"~/git/Post-GWAS/Complete set of protein-protein interactions extracted from PathwayStudio.csv\", index = False)"
   ]
  },
  {
   "cell_type": "code",
   "execution_count": 3,
   "metadata": {},
   "outputs": [],
   "source": [
    "# Load the pre-extracted data\n",
    "PPI = pd.read_csv(\"Complete set of protein-protein interactions extracted from PathwayStudio.csv\")"
   ]
  },
  {
   "cell_type": "code",
   "execution_count": 4,
   "metadata": {},
   "outputs": [],
   "source": [
    "# Create undirected PPI interaction network, both unfiltered and filtered\n",
    "# Create a dictionary for the ENSEMBL identifiers\n",
    "ensembl_dict = dict(zip(set(PPI[\"ENSEMBL1\"]).union(set(PPI[\"ENSEMBL2\"])), range(1, len(set(PPI[\"ENSEMBL1\"]).union(set(PPI[\"ENSEMBL2\"]))) + 1)))\n",
    "PPI[\"ENSEMBL1\"].replace(ensembl_dict, inplace = True)\n",
    "PPI[\"ENSEMBL2\"].replace(ensembl_dict, inplace = True)\n",
    "\n",
    "PPI_backup = PPI.copy()\n",
    "\n",
    "PPI = PPI.groupby([\"ENSEMBL1\", \"ENSEMBL2\"])[\"nPMID\"].sum().to_frame().reset_index()\n",
    "\n",
    "PPI.drop_duplicates(['ENSEMBL1', 'ENSEMBL2'], keep = \"first\", inplace = True)"
   ]
  },
  {
   "cell_type": "code",
   "execution_count": 5,
   "metadata": {},
   "outputs": [],
   "source": [
    "# Write away the mapping file for all graph files\n",
    "import json\n",
    "\n",
    "with open('ENSEMBL_mappings.json', 'w') as fp:\n",
    "    json.dump(ensembl_dict, fp)\n",
    "#ensembl_dict = json.load(\"ENSEMBL_mappings.json\")"
   ]
  },
  {
   "cell_type": "code",
   "execution_count": 5,
   "metadata": {},
   "outputs": [],
   "source": [
    "# Create an undirected copy of the data\n",
    "undirected = PPI[[\"ENSEMBL1\", \"ENSEMBL2\"]].copy()\n",
    "undirected[:] = np.sort(undirected.values, axis=1)[:,::]\n",
    "undirected.drop_duplicates(inplace = True)"
   ]
  },
  {
   "cell_type": "code",
   "execution_count": 6,
   "metadata": {},
   "outputs": [],
   "source": [
    "### Node2Vec\n",
    "Node2Vec = PPI[[\"ENSEMBL1\", \"ENSEMBL2\", \"nPMID\"]]\n",
    "\n",
    "Node2Vec = Node2Vec[Node2Vec['nPMID'] != 0]\n",
    "\n",
    "Node2Vec.to_csv(\"Node2vec/unfiltered protein protein interactions with weights.csv\", index = False, sep = \" \", header = False)\n",
    "undirected.to_csv(\"Node2vec/unfiltered protein protein interactions without weights.csv\", index = False, sep = \" \", header = False)"
   ]
  },
  {
   "cell_type": "code",
   "execution_count": null,
   "metadata": {},
   "outputs": [],
   "source": [
    "### Struc2vec\n",
    "undirected.to_csv(\"Struc2vec/unfiltered protein protein interactions without weights.csv\", index = False, sep = \" \", header = False)"
   ]
  },
  {
   "cell_type": "code",
   "execution_count": 7,
   "metadata": {},
   "outputs": [],
   "source": [
    "### DIAMOND & Network statistics\n",
    "undirected.to_csv(\"unfiltered_protein_protein_interactions.csv\", index = False, header = False)"
   ]
  },
  {
   "cell_type": "code",
   "execution_count": 19,
   "metadata": {},
   "outputs": [],
   "source": [
    "# EVOKE needs the number of nodes and edges as first parameters, so these are calculated here\n",
    "undirected = pd.DataFrame({\"ENSEMBL1\" : [len(set(undirected[\"ENSEMBL1\"]).union(set(undirected[\"ENSEMBL2\"])))], \n",
    "                           \"ENSEMBL2\" : [len(undirected)]}).append(undirected)\n",
    "undirected.to_csv(\"EVOKE/unfiltered_protein_protein_interactions_EVOKE.csv\", index = False, header = False, sep = \" \")"
   ]
  },
  {
   "cell_type": "code",
   "execution_count": 17,
   "metadata": {},
   "outputs": [],
   "source": [
    "# Filter the networks: removes 24618 edges, i.e. 6.4% of the total number of edges. Perhaps not worthwhile\n",
    "PPI = PPI.merge(PPI_backup[[\"ENSEMBL1\", \"ENSEMBL2\", \"freq 1\", \"freq 2\"]], on = [\"ENSEMBL1\", \"ENSEMBL2\"], how = \"left\")\n",
    "\n",
    "PPI = PPI[(PPI[\"freq 1\"] >= min_expression) & (PPI[\"freq 2\"] >= min_expression)]\n",
    "undirected = PPI[[\"ENSEMBL1\", \"ENSEMBL2\"]].copy()\n",
    "undirected[:] = np.sort(undirected.values, axis=1)[:,::]\n",
    "undirected.drop_duplicates(inplace = True)\n",
    "\n",
    "undirected = pd.DataFrame({\"ENSEMBL1\" : [len(set(undirected[\"ENSEMBL1\"]).union(set(undirected[\"ENSEMBL2\"])))], \n",
    "                           \"ENSEMBL2\" : [len(undirected)]}).append(undirected)"
   ]
  },
  {
   "cell_type": "code",
   "execution_count": 18,
   "metadata": {},
   "outputs": [],
   "source": [
    "### EVOKE, DIAMOND & Network statistics\n",
    "undirected.to_csv(\"filtered protein protein interactions.csv\", index = False, header = False)\n",
    "\n",
    "### Node2Vec\n",
    "PPI[[\"ENSEMBL1\", \"ENSEMBL2\", \"nPMID\"]].to_csv(\"Node2vec/filtered protein protein interactions with weights.csv\", index = False)\n",
    "PPI[[\"ENSEMBL1\", \"ENSEMBL2\"]].to_csv(\"Node2vec/filtered protein protein interactions without weights.csv\", index = False)"
   ]
  },
  {
   "cell_type": "raw",
   "metadata": {},
   "source": [
    "# TODO Predicate features\n",
    "# Create features based on direct paths\n",
    "if include_gene_expression:\n",
    "    PPI = PPI.merge(dex[[\"ENSEMBL\", \"Diff expression\"]], left_on = \"ENSEMBL1\", right_on = \"ENSEMBL\", how = \"inner\")\n",
    "    PPI = PPI.merge(dex[[\"ENSEMBL\", \"Diff expression\"]], left_on = \"ENSEMBL2\", right_on = \"ENSEMBL\", how = \"inner\", suffixes = [\" start\", \" end\"])\n",
    "\n",
    "# Create the types of paths\n",
    "if include_gene_expression:\n",
    "    PPI[\"direct_incoming\"] = PPI[\"Diff expression start\"] + \"_\" + PPI[\"predicate\"]\n",
    "    PPI[\"direct_outgoing\"] = PPI[\"predicate\"] + \"_\" + PPI[\"Diff expression end\"]\n",
    "\n",
    "    # Count the frequencies of the types of paths\n",
    "    direct_incoming = PPI.groupby([\"ENSEMBL end\", \"direct_incoming\"])[\"ENSEMBL start\"].nunique().unstack(level = 1, fill_value = 0)\n",
    "    direct_outgoing = PPI.groupby([\"ENSEMBL start\", \"direct_outgoing\"])[\"ENSEMBL end\"].nunique().unstack(level = 1, fill_value = 0)\n",
    "    \n",
    "else:\n",
    "    direct_incoming = PPI.groupby([\"ENSEMBL2\", \"predicate\"])[\"ENSEMBL1\"].nunique().unstack(level = 1, fill_value = 0)\n",
    "    direct_outgoing = PPI.groupby([\"ENSEMBL1\", \"predicate\"])[\"ENSEMBL2\"].nunique().unstack(level = 1, fill_value = 0)\n",
    "    direct_incoming.columns = [x + \"_direct_incoming\" for x in list(direct_incoming)]\n",
    "    direct_outgoing.columns = [x + \"_direct_outgoing\" for x in list(direct_outgoing)]"
   ]
  },
  {
   "cell_type": "code",
   "execution_count": 19,
   "metadata": {},
   "outputs": [],
   "source": [
    "# Predicate data\n",
    "## Without gene expression, unfiltered\n",
    "\n",
    "## With gene expression, unfiltered\n",
    "\n",
    "## Without gene expression, unfiltered\n",
    "\n",
    "## With gene expression, filtered"
   ]
  },
  {
   "cell_type": "code",
   "execution_count": 20,
   "metadata": {},
   "outputs": [],
   "source": [
    "# TODO rdf2vec features"
   ]
  },
  {
   "cell_type": "code",
   "execution_count": null,
   "metadata": {},
   "outputs": [],
   "source": []
  }
 ],
 "metadata": {
  "kernelspec": {
   "display_name": "Python 3",
   "language": "python",
   "name": "python3"
  },
  "language_info": {
   "codemirror_mode": {
    "name": "ipython",
    "version": 3
   },
   "file_extension": ".py",
   "mimetype": "text/x-python",
   "name": "python",
   "nbconvert_exporter": "python",
   "pygments_lexer": "ipython3",
   "version": "3.7.9"
  }
 },
 "nbformat": 4,
 "nbformat_minor": 4
}
