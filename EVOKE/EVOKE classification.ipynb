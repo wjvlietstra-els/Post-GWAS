{
 "cells": [
  {
   "cell_type": "markdown",
   "metadata": {},
   "source": [
    "# EVOKE classification"
   ]
  },
  {
   "cell_type": "code",
   "execution_count": 28,
   "metadata": {},
   "outputs": [],
   "source": [
    "# Load the required packages\n",
    "import pandas as pd\n",
    "from sklearn.svm import SVR\n",
    "import json\n",
    "import numpy as np"
   ]
  },
  {
   "cell_type": "code",
   "execution_count": 29,
   "metadata": {},
   "outputs": [],
   "source": [
    "# Load the data\n",
    "f = pd.read_csv(\"/Users/vlietstraw/git/Post-GWAS/EVOKE/unfiltered.txt\", sep = \" \", header = None, skiprows = 1)\n",
    "f.index = range(1, len(f) + 1)\n",
    "f.drop(columns = [73], inplace = True)\n",
    "f = f.astype(int)\n",
    "\n",
    "# Log transform the data\n",
    "#f = np.log10(f, where = f > 0)"
   ]
  },
  {
   "cell_type": "code",
   "execution_count": 30,
   "metadata": {},
   "outputs": [],
   "source": [
    "# Load the reference set\n",
    "ref = pd.read_csv(\"/Users/vlietstraw/git/Post-GWAS/Input sets/Farashi/Farashi full 2000000 bp distance no pvalue filtering.csv\")\n",
    "\n",
    "# Load the mapping file\n",
    "with open(\"/Users/vlietstraw/git/Post-GWAS/ENSEMBL_mappings.json\", \"r\") as fp:\n",
    "    ensembl_dict = json.load(fp)\n",
    "ref[\"nodeID\"] = [ensembl_dict[x] if x in ensembl_dict.keys() else None for x in ref[\"gene_ids\"]]\n",
    "\n",
    "# Drop all unmappable candidates\n",
    "ref.dropna(subset = [\"nodeID\"], inplace = True)\n",
    "ref[\"nodeID\"] = ref[\"nodeID\"].astype(int)"
   ]
  },
  {
   "cell_type": "code",
   "execution_count": 31,
   "metadata": {},
   "outputs": [],
   "source": [
    "# Set bp distance cutoff\n",
    "max_bp_distance = 2000\n",
    "max_bp_distance = max_bp_distance * 1000\n",
    "ref = ref[ref[\"bp distance absolute\"] <= max_bp_distance]"
   ]
  },
  {
   "cell_type": "code",
   "execution_count": 32,
   "metadata": {},
   "outputs": [],
   "source": [
    "# Drop all SNPs which no longer have a positive case\n",
    "pos_counts = ref.groupby(\"SNP ID\")[\"Class\"].sum()\n",
    "ref = ref[~ref[\"SNP ID\"].isin(pos_counts[pos_counts == 0].index)]"
   ]
  },
  {
   "cell_type": "code",
   "execution_count": 33,
   "metadata": {},
   "outputs": [],
   "source": [
    "# Identify all genes which are at least once positive\n",
    "positives = ref.groupby(\"nodeID\")[\"Class\"].sum()\n",
    "positives[positives > 1] = 1\n",
    "\n",
    "f = f.merge(positives, left_index = True, right_index = True)"
   ]
  },
  {
   "cell_type": "markdown",
   "metadata": {},
   "source": [
    "## Leave SNP out classification"
   ]
  },
  {
   "cell_type": "code",
   "execution_count": null,
   "metadata": {},
   "outputs": [],
   "source": [
    "outcomes = pd.DataFrame()\n",
    "train_auc_score = []\n",
    "train_auc_rank = []"
   ]
  },
  {
   "cell_type": "code",
   "execution_count": null,
   "metadata": {},
   "outputs": [],
   "source": [
    "# Perform leave-SNP-out cross validation\n",
    "SNPs = list(set(ref[\"SNP ID\"]))\n",
    "for snp in SNPs:\n",
    "    print(\"Predicting candidates for \" + snp + \", number \" + str(SNPs.index(snp) + 1) + \" out of \" + str(len(SNPs)))\n",
    "\n",
    "    f_test = f[f.index.isin(ref[ref[\"SNP ID\"] == snp][\"nodeID\"])].copy()\n",
    "    f_train = f[f.index.isin(ref[ref[\"SNP ID\"] != snp][\"nodeID\"])].copy()\n",
    "    \n",
    "    train_class = f[\"Class\"][f.index.isin(f_train.index)]\n",
    "    test_class = f[\"Class\"][f.index.isin(f_test.index)]\n",
    "    \n",
    "    f_test.drop(columns = [\"Class\"], inplace = True)\n",
    "    f_train.drop(columns = [\"Class\"], inplace = True)\n",
    "\n",
    "    clf = SVR(gamma=\"auto\")\n",
    "    \n",
    "    clf.fit(f_train, train_class)\n",
    "\n",
    "    outcomes = pd.concat([outcomes, pd.DataFrame({\"predicted\" : clf.predict(f_test), \n",
    "                                                    \"SNP ID\" : snp,\n",
    "                                                    \"nodeID\" : f_test.index})])\n",
    "    \n",
    "outcomes = outcomes.merge(ref[[\"SNP ID\", \"nodeID\", \"Class\"]], on = [\"SNP ID\", \"nodeID\"], how = \"left\")"
   ]
  },
  {
   "cell_type": "markdown",
   "metadata": {},
   "source": [
    "## Leave chromosome out validation"
   ]
  },
  {
   "cell_type": "code",
   "execution_count": 34,
   "metadata": {},
   "outputs": [],
   "source": [
    "outcomes2 = pd.DataFrame()\n",
    "train_auc_score2 = []\n",
    "train_auc_rank2 = []"
   ]
  },
  {
   "cell_type": "code",
   "execution_count": 35,
   "metadata": {},
   "outputs": [
    {
     "name": "stdout",
     "output_type": "stream",
     "text": [
      "Predicting candidates for chromosome 4\n",
      "Predicting candidates for chromosome 19\n",
      "Predicting candidates for chromosome 2\n",
      "Predicting candidates for chromosome 11\n",
      "Predicting candidates for chromosome X\n",
      "Predicting candidates for chromosome 5\n",
      "Predicting candidates for chromosome 20\n",
      "Predicting candidates for chromosome 1\n",
      "Predicting candidates for chromosome 9\n",
      "Predicting candidates for chromosome 8\n",
      "Predicting candidates for chromosome 6\n",
      "Predicting candidates for chromosome 16\n",
      "Predicting candidates for chromosome 7\n",
      "Predicting candidates for chromosome 22\n",
      "Predicting candidates for chromosome 14\n",
      "Predicting candidates for chromosome 21\n",
      "Predicting candidates for chromosome 12\n",
      "Predicting candidates for chromosome 17\n",
      "Predicting candidates for chromosome 3\n",
      "Predicting candidates for chromosome 10\n",
      "Predicting candidates for chromosome 13\n"
     ]
    }
   ],
   "source": [
    "# Perform leave-SNP-out cross validation\n",
    "chromosomes = list(set(ref[\"chromosome\"]))\n",
    "from sklearn.tree import DecisionTreeRegressor\n",
    "from sklearn.tree import DecisionTreeClassifier\n",
    "\n",
    "for chrom in chromosomes:\n",
    "    print(\"Predicting candidates for chromosome \" + chrom)\n",
    "\n",
    "    f_test = f[f.index.isin(ref[\"nodeID\"][ref[\"chromosome\"] == chrom])].copy()\n",
    "    f_train = f[f.index.isin(ref[\"nodeID\"][ref[\"chromosome\"] != chrom])].copy()\n",
    "    \n",
    "    train_class = f[\"Class\"][f.index.isin(f_train.index)]\n",
    "    test_class = f[\"Class\"][f.index.isin(f_test.index)]\n",
    "    \n",
    "    f_test.drop(columns = [\"Class\"], inplace = True)\n",
    "    f_train.drop(columns = [\"Class\"], inplace = True)\n",
    "    \n",
    "    #clf = SVR(gamma=\"auto\")\n",
    "    clf = DecisionTreeClassifier()\n",
    "    \n",
    "    clf.fit(np.array(f_train), np.array(train_class))\n",
    "\n",
    "    outcomes2 = pd.concat([outcomes2, pd.DataFrame({\"predicted\" : clf.predict_proba(f_test)[:,1],\n",
    "                                                    \"Class\" : test_class, \n",
    "                                                    \"chromosome\" : chrom,\n",
    "                                                    \"nodeID\" : f_test.index})])"
   ]
  },
  {
   "cell_type": "code",
   "execution_count": null,
   "metadata": {},
   "outputs": [],
   "source": [
    "outcomes.to_csv(\"/Users/vlietstraw/git/Post-GWAS/EVOKE/Leave-SNP-Out cross validation \" + str(max_bp_distance) + \".csv\", index = False)\n",
    "outcomes2.to_csv(\"/Users/vlietstraw/git/Post-GWAS/EVOKE/Leave-chromosome-Out cross validation \" + str(max_bp_distance) + \".csv\", index = False)"
   ]
  },
  {
   "cell_type": "markdown",
   "metadata": {},
   "source": [
    "## Evaluate leave-SNP-out"
   ]
  },
  {
   "cell_type": "code",
   "execution_count": 7,
   "metadata": {},
   "outputs": [
    {
     "ename": "NameError",
     "evalue": "name 'outcomes' is not defined",
     "output_type": "error",
     "traceback": [
      "\u001b[0;31m---------------------------------------------------------------------------\u001b[0m",
      "\u001b[0;31mNameError\u001b[0m                                 Traceback (most recent call last)",
      "\u001b[0;32m<ipython-input-7-630b66a4aed4>\u001b[0m in \u001b[0;36m<module>\u001b[0;34m\u001b[0m\n\u001b[0;32m----> 1\u001b[0;31m \u001b[0moutcomes\u001b[0m \u001b[0;34m=\u001b[0m \u001b[0moutcomes\u001b[0m\u001b[0;34m.\u001b[0m\u001b[0msort_values\u001b[0m\u001b[0;34m(\u001b[0m\u001b[0;34m[\u001b[0m\u001b[0;34m\"SNP ID\"\u001b[0m\u001b[0;34m,\u001b[0m \u001b[0;34m\"predicted\"\u001b[0m\u001b[0;34m]\u001b[0m\u001b[0;34m,\u001b[0m \u001b[0mascending\u001b[0m \u001b[0;34m=\u001b[0m \u001b[0;32mFalse\u001b[0m\u001b[0;34m)\u001b[0m\u001b[0;34m\u001b[0m\u001b[0;34m\u001b[0m\u001b[0m\n\u001b[0m\u001b[1;32m      2\u001b[0m \u001b[0moutcomes\u001b[0m\u001b[0;34m[\u001b[0m\u001b[0;34m\"For-SNP rank\"\u001b[0m\u001b[0;34m]\u001b[0m \u001b[0;34m=\u001b[0m \u001b[0moutcomes\u001b[0m\u001b[0;34m.\u001b[0m\u001b[0mgroupby\u001b[0m\u001b[0;34m(\u001b[0m\u001b[0;34m\"SNP ID\"\u001b[0m\u001b[0;34m)\u001b[0m\u001b[0;34m.\u001b[0m\u001b[0mcumcount\u001b[0m\u001b[0;34m(\u001b[0m\u001b[0;34m)\u001b[0m \u001b[0;34m+\u001b[0m \u001b[0;36m1\u001b[0m\u001b[0;34m\u001b[0m\u001b[0;34m\u001b[0m\u001b[0m\n",
      "\u001b[0;31mNameError\u001b[0m: name 'outcomes' is not defined"
     ]
    }
   ],
   "source": [
    "outcomes = outcomes.sort_values([\"SNP ID\", \"predicted\"], ascending = False)\n",
    "outcomes[\"For-SNP rank\"] = outcomes.groupby(\"SNP ID\").cumcount() + 1"
   ]
  },
  {
   "cell_type": "code",
   "execution_count": null,
   "metadata": {},
   "outputs": [],
   "source": [
    "len(set(outcomes[\"SNP ID\"]))"
   ]
  },
  {
   "cell_type": "code",
   "execution_count": null,
   "metadata": {},
   "outputs": [],
   "source": [
    "sum(outcomes[\"Class\"])"
   ]
  },
  {
   "cell_type": "code",
   "execution_count": null,
   "metadata": {},
   "outputs": [],
   "source": [
    "import sklearn.metrics\n",
    "\n",
    "fpr, tpr, thresholds = sklearn.metrics.roc_curve(outcomes[\"Class\"], -outcomes[\"For-SNP rank\"], pos_label = 1)\n",
    "print(sklearn.metrics.auc(fpr, tpr) * 100)"
   ]
  },
  {
   "cell_type": "code",
   "execution_count": null,
   "metadata": {},
   "outputs": [],
   "source": [
    "# Calculate the ROC-AUC for every SNP and average the result\n",
    "SNPS2 = list(set(outcomes[\"SNP ID\"]))\n",
    "aucs = []\n",
    "for snp in SNPS2:\n",
    "  if len(set(outcomes[\"Class\"][outcomes[\"SNP ID\"] == snp])) == 1:\n",
    "      aucs.append(list(set(outcomes[\"Class\"][outcomes[\"SNP ID\"] == snp]))[0])\n",
    "  else:\n",
    "      fpr, tpr, thresholds = sklearn.metrics.roc_curve(outcomes[\"Class\"][outcomes[\"SNP ID\"] == snp], -outcomes[\"For-SNP rank\"][outcomes[\"SNP ID\"] == snp], pos_label = 1)\n",
    "      aucs.append(sklearn.metrics.auc(fpr, tpr))\n",
    "print(sum(aucs)/len(aucs))"
   ]
  },
  {
   "cell_type": "code",
   "execution_count": null,
   "metadata": {},
   "outputs": [],
   "source": [
    "# Calculate hits @1\n",
    "sum(outcomes[\"Class\"][(outcomes[\"Class\"] == 1) & (outcomes[\"For-SNP rank\"] == 1)])"
   ]
  },
  {
   "cell_type": "code",
   "execution_count": null,
   "metadata": {},
   "outputs": [],
   "source": [
    "# Calculate hits @3\n",
    "sum(outcomes[\"Class\"][(outcomes[\"Class\"] == 1) & (outcomes[\"For-SNP rank\"] <= 3)])"
   ]
  },
  {
   "cell_type": "code",
   "execution_count": null,
   "metadata": {},
   "outputs": [],
   "source": [
    "# Calculate hits @5\n",
    "sum(outcomes[\"Class\"][(outcomes[\"Class\"] == 1) & (outcomes[\"For-SNP rank\"] <= 5)])"
   ]
  },
  {
   "cell_type": "code",
   "execution_count": null,
   "metadata": {},
   "outputs": [],
   "source": [
    "# Calculate hits @10\n",
    "sum(outcomes[\"Class\"][(outcomes[\"Class\"] == 1) & (outcomes[\"For-SNP rank\"] <= 10)])"
   ]
  },
  {
   "cell_type": "code",
   "execution_count": null,
   "metadata": {},
   "outputs": [],
   "source": [
    "outcomes[\"For-SNP rank\"][(outcomes[\"Class\"] == 1)].mean()"
   ]
  },
  {
   "cell_type": "code",
   "execution_count": null,
   "metadata": {},
   "outputs": [],
   "source": [
    "outcomes[\"For-SNP rank\"][outcomes[\"Class\"] == 1].quantile(q = [0,0.25,0.5,0.75,1])"
   ]
  },
  {
   "cell_type": "markdown",
   "metadata": {},
   "source": [
    "## Evaluate leave-chromosome-out"
   ]
  },
  {
   "cell_type": "code",
   "execution_count": 36,
   "metadata": {},
   "outputs": [],
   "source": [
    "outcomes2 = outcomes2.sort_values([\"chromosome\", \"predicted\"], ascending = False)\n",
    "outcomes2[\"For-chromosome rank\"] = outcomes2.groupby(\"chromosome\").cumcount() + 1"
   ]
  },
  {
   "cell_type": "code",
   "execution_count": 48,
   "metadata": {},
   "outputs": [
    {
     "name": "stdout",
     "output_type": "stream",
     "text": [
      "0.4480401341766646\n"
     ]
    }
   ],
   "source": [
    "chromosomes = list(set(outcomes2[\"chromosome\"]))\n",
    "aucs = []\n",
    "for chrom in chromosomes:\n",
    "  fpr, tpr, thresholds = sklearn.metrics.roc_curve(outcomes2[\"Class\"][outcomes2[\"chromosome\"] == chrom], -outcomes2[\"For-chromosome rank\"][outcomes2[\"chromosome\"] == chrom], pos_label = 1)\n",
    "  aucs.append(sklearn.metrics.auc(fpr, tpr))\n",
    "print(sum(aucs)/len(aucs))"
   ]
  },
  {
   "cell_type": "code",
   "execution_count": 38,
   "metadata": {},
   "outputs": [],
   "source": [
    "ref = ref.merge(outcomes2[[\"nodeID\", \"predicted\"]], on = \"nodeID\", how = \"left\")"
   ]
  },
  {
   "cell_type": "code",
   "execution_count": 44,
   "metadata": {},
   "outputs": [],
   "source": [
    "ref = ref.sort_values([\"SNP ID\", \"predicted\"], ascending = False)\n",
    "\n",
    "SNP_temp = 0\n",
    "counter = 0\n",
    "prediction_temp = 9999\n",
    "for indx, row in ref.iterrows():\n",
    "    if SNP_temp != row[\"SNP ID\"]:\n",
    "        SNP_temp = row[\"SNP ID\"]\n",
    "        counter = 1\n",
    "    elif SNP_temp == row[\"SNP ID\"] and prediction_temp != row[\"predicted\"]:\n",
    "        counter += 1\n",
    "        prediction_temp = row[\"predicted\"]\n",
    "    ref.at[indx, \"For-SNP rank\"] = counter"
   ]
  },
  {
   "cell_type": "code",
   "execution_count": 47,
   "metadata": {},
   "outputs": [
    {
     "name": "stdout",
     "output_type": "stream",
     "text": [
      "62.41990355397014\n"
     ]
    }
   ],
   "source": [
    "fpr, tpr, thresholds = sklearn.metrics.roc_curve(ref[\"Class\"], -ref[\"For-SNP rank\"], pos_label = 1)\n",
    "print(sklearn.metrics.auc(fpr, tpr) * 100)"
   ]
  },
  {
   "cell_type": "code",
   "execution_count": 49,
   "metadata": {},
   "outputs": [
    {
     "name": "stdout",
     "output_type": "stream",
     "text": [
      "0.5140279045191526\n"
     ]
    }
   ],
   "source": [
    "# Calculate the ROC-AUC for every SNP and average the result\n",
    "SNPS2 = list(set(ref[\"SNP ID\"]))\n",
    "aucs = []\n",
    "for snp in SNPS2:\n",
    "  if len(set(ref[\"Class\"][ref[\"SNP ID\"] == snp])) == 1:\n",
    "      aucs.append(list(set(ref[\"Class\"][ref[\"SNP ID\"] == snp]))[0])\n",
    "  else:\n",
    "      fpr, tpr, thresholds = sklearn.metrics.roc_curve(ref[\"Class\"][ref[\"SNP ID\"] == snp], -ref[\"For-SNP rank\"][ref[\"SNP ID\"] == snp], pos_label = 1)\n",
    "      aucs.append(sklearn.metrics.auc(fpr, tpr))\n",
    "print(sum(aucs)/len(aucs))"
   ]
  },
  {
   "cell_type": "code",
   "execution_count": null,
   "metadata": {},
   "outputs": [],
   "source": [
    "# Calculate hits @1\n",
    "sum(ref[\"Class\"][(ref[\"Class\"] == 1) & (ref[\"For-SNP rank\"] == 1)])"
   ]
  },
  {
   "cell_type": "code",
   "execution_count": null,
   "metadata": {},
   "outputs": [],
   "source": [
    "# Calculate hits @3\n",
    "sum(ref[\"Class\"][(ref[\"Class\"] == 1) & (ref[\"For-SNP rank\"] <= 3)])"
   ]
  },
  {
   "cell_type": "code",
   "execution_count": null,
   "metadata": {},
   "outputs": [],
   "source": [
    "# Calculate hits @5\n",
    "sum(ref[\"Class\"][(ref[\"Class\"] == 1) & (ref[\"For-SNP rank\"] <= 5)])"
   ]
  },
  {
   "cell_type": "code",
   "execution_count": null,
   "metadata": {},
   "outputs": [],
   "source": [
    "# Calculate hits @10\n",
    "sum(ref[\"Class\"][(ref[\"Class\"] == 1) & (ref[\"For-SNP rank\"] <= 10)])"
   ]
  },
  {
   "cell_type": "code",
   "execution_count": null,
   "metadata": {},
   "outputs": [],
   "source": [
    "ref[\"For-SNP rank\"][(ref[\"Class\"] == 1)].mean()"
   ]
  },
  {
   "cell_type": "code",
   "execution_count": null,
   "metadata": {},
   "outputs": [],
   "source": [
    "ref[\"For-SNP rank\"][ref[\"Class\"] == 1].quantile(q = [0,0.25,0.5,0.75,1])"
   ]
  }
 ],
 "metadata": {
  "kernelspec": {
   "display_name": "Python 3",
   "language": "python",
   "name": "python3"
  },
  "language_info": {
   "codemirror_mode": {
    "name": "ipython",
    "version": 3
   },
   "file_extension": ".py",
   "mimetype": "text/x-python",
   "name": "python",
   "nbconvert_exporter": "python",
   "pygments_lexer": "ipython3",
   "version": "3.7.9"
  }
 },
 "nbformat": 4,
 "nbformat_minor": 4
}
