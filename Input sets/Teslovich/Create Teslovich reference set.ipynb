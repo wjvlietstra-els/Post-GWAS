{
 "cells": [
  {
   "cell_type": "markdown",
   "metadata": {},
   "source": [
    "# Create Teslovich reference set"
   ]
  },
  {
   "cell_type": "code",
   "execution_count": 1,
   "metadata": {},
   "outputs": [],
   "source": [
    "# Load the required packages\n",
    "import pandas as pd"
   ]
  },
  {
   "cell_type": "code",
   "execution_count": 2,
   "metadata": {},
   "outputs": [],
   "source": [
    "max_distance = 2000000\n",
    "distance_filter = True"
   ]
  },
  {
   "cell_type": "code",
   "execution_count": 3,
   "metadata": {},
   "outputs": [],
   "source": [
    "# Read in the data of Farashi et al. that is used as a reference set\n",
    "tes = pd.read_excel(\"Figure 1 Teslovich et al.xlsx\")"
   ]
  },
  {
   "cell_type": "code",
   "execution_count": 4,
   "metadata": {},
   "outputs": [],
   "source": [
    "snp_replacement_dictionary = {\"rs9411489\" : \"rs635634\"}\n",
    "# ABCG5/8 doesn't exist, but ABCG5 and ABCG8 do. Therefore I have split them up in the input file\n",
    "# Same holds for FADS1-2-3\n",
    "# HLA and LILRA3 are still mysteries\n",
    "gene_replacement_dictionary = {\"LOC55908\" : \"ANGPTL8\", \"FLJ36070\" : \"MAMSTR\", \"MOSC1\" : \"MARC1\", \"MSL2L1\" : \"MSL2\", \"PLEC1\" : \"PLEC\"}\n",
    "\n",
    "# LILRA3 is strange, because it does have a Ensembl ID, but does not occur in arrays. I therefore remove it from the reference set\n",
    "unmappable = {\"LILRA3\", \"HLA\"}\n",
    "tes = tes[~tes[\"Locus\"].isin(unmappable)]\n",
    "\n",
    "# Strip whitespaces\n",
    "tes[\"Lead SNP\"] = tes[\"Lead SNP\"].replace(snp_replacement_dictionary)\n",
    "tes[\"Locus\"] = tes[\"Locus\"].replace(gene_replacement_dictionary)"
   ]
  },
  {
   "cell_type": "code",
   "execution_count": 5,
   "metadata": {},
   "outputs": [
    {
     "name": "stdout",
     "output_type": "stream",
     "text": [
      "querying 1-99...done.\n",
      "Finished.\n",
      "43 input query terms found dup hits:\n",
      "\t[('rs4731702', 2), ('rs2068888', 2), ('rs2925979', 2), ('rs4299376', 2), ('rs7515577', 3), ('rs51423\n"
     ]
    }
   ],
   "source": [
    "# Get the SNP properties from dbsnp\n",
    "import myvariant\n",
    "mv = myvariant.MyVariantInfo()\n",
    "   \n",
    "dbsnp = mv.querymany(list(set(tes[\"Lead SNP\"])), scopes='dbsnp.rsid', fields='dbsnp', returnall = True)"
   ]
  },
  {
   "cell_type": "code",
   "execution_count": 6,
   "metadata": {},
   "outputs": [],
   "source": [
    "dbsnp_tab = pd.DataFrame(dbsnp[\"out\"])\n",
    "dbsnp_tab = dbsnp_tab[dbsnp_tab[\"query\"].isin(tes[\"Lead SNP\"])]\n",
    "\n",
    "# Extract the data from the payloads\n",
    "dbsnp_tab[\"chromosome\"] = dbsnp_tab[\"dbsnp\"].apply(lambda x: x[\"chrom\"])\n",
    "dbsnp_tab[\"location\"] = dbsnp_tab[\"dbsnp\"].apply(lambda x: x[\"hg19\"][\"start\"] if \"hg19\" in x.keys() else None)\n",
    "dbsnp_tab[\"ref\"] = dbsnp_tab[\"dbsnp\"].apply(lambda x: x[\"ref\"])\n",
    "dbsnp_tab[\"alt\"] = dbsnp_tab[\"dbsnp\"].apply(lambda x: x[\"alt\"])"
   ]
  },
  {
   "cell_type": "code",
   "execution_count": 7,
   "metadata": {},
   "outputs": [],
   "source": [
    "positives = tes.merge(dbsnp_tab[[\"query\", \"chromosome\", \"location\", \"ref\", \"alt\"]], how = \"outer\", left_on = \"Lead SNP\", right_on = \"query\")\n",
    "positives.drop(columns = [\"query\"], inplace = True)\n",
    "positives.columns = [\"gene\", \"SNP ID\", \"Lead Trait\", \"Other Traits\", \"P\", \"chromosome\", \"location\", \"ref\", \"alt\"]"
   ]
  },
  {
   "cell_type": "code",
   "execution_count": 8,
   "metadata": {},
   "outputs": [],
   "source": [
    "# Use the prostate cancer set to extract Ensembl identifiers and map them, as well as getting gene coordinates for the negatives\n",
    "dex = pd.read_csv(\"../Gene expression data/Galaxy37-[edgeR_DGE_on_2__design_matrix_prostate_unpaired.txt_-_differentially_expressed_genes].tabular.annotated.txt\", \n",
    "                  delimiter = \"\\t\", index_col = 0, names = [\"ENSEMBL\", \"gene\", \"logFC\", \"logCPM\", \"LR\", \"pValue\", \"FDR\"], header = 0)\n",
    "dex[\"ENSEMBL\"].replace(\"(\\.\\d+)\", \"\", regex = True, inplace = True)"
   ]
  },
  {
   "cell_type": "code",
   "execution_count": 9,
   "metadata": {},
   "outputs": [],
   "source": [
    "# Initiate the connection to the database (first time you may have to run ensembl.download() and ensembl.index())\n",
    "# To align with our reference set, we take a Ensembl version from 2019\n",
    "from pyensembl import EnsemblRelease\n",
    "ensembl = EnsemblRelease(92)\n",
    "\n",
    "# Function to extract the data (and prevent superfluous queries)\n",
    "def getEnsemblData(id):\n",
    "    try:\n",
    "        data = ensembl.gene_by_id(id)\n",
    "        return pd.Series({\"gene name\" : data.gene_name, \n",
    "                          \"chromosome\" : data.contig, \n",
    "                          \"gene start\" : data.start,\n",
    "                          \"gene stop\" : data.end,\n",
    "                          \"protein_coding\" : data.is_protein_coding})\n",
    "    except ValueError:\n",
    "        return pd.Series({\"gene name\" : None, \n",
    "                          \"chromosome\" : None, \n",
    "                          \"gene start\" : None,\n",
    "                          \"gene stop\" : None,\n",
    "                          \"protein_coding\" : None})"
   ]
  },
  {
   "cell_type": "code",
   "execution_count": 10,
   "metadata": {},
   "outputs": [],
   "source": [
    "# Get the properties of the genes\n",
    "dex[[\"gene name\", \"chromosome\", \"gene start\", \"gene stop\", \"protein_coding\"]] = dex[\"ENSEMBL\"].apply(lambda x: getEnsemblData(x))"
   ]
  },
  {
   "cell_type": "code",
   "execution_count": 19,
   "metadata": {},
   "outputs": [],
   "source": [
    "# All non-protein coding entries are removed\n",
    "dex = dex[dex[\"protein_coding\"] == True]\n",
    "\n",
    "# Drop the mitochondrial genes and the entries that could not be found\n",
    "dex.drop(dex[dex[\"chromosome\"].isin([\"MT\", None])].index, inplace = True)"
   ]
  },
  {
   "cell_type": "code",
   "execution_count": 20,
   "metadata": {},
   "outputs": [],
   "source": [
    "exons = pd.DataFrame([x.to_dict() for x in ensembl.exons()])"
   ]
  },
  {
   "cell_type": "code",
   "execution_count": 44,
   "metadata": {},
   "outputs": [],
   "source": [
    "# Create a dataframe of all combinations of SNPs and genes that are on the same chromosome\n",
    "positives[\"location\"] = positives[\"location\"].astype(int)\n",
    "snp_candidates = positives[[\"SNP ID\", \"chromosome\", \"location\", \"gene\", \"P\"]].merge(\n",
    "    dex[[\"ENSEMBL\", \"gene name\", \"chromosome\", \"gene start\", \"gene stop\"]], on = \"chromosome\", how = \"inner\")\n",
    "\n",
    "# Drop all entries that do not describe an unique pair of SNP and gene.\n",
    "# If gene start/stop would also be used to determine duplicates, at most 57 extra entries would be found. \n",
    "# This number is considered to be insignificant.\n",
    "snp_candidates.drop_duplicates([\"SNP ID\", \"gene name\"], keep = \"last\", inplace = True)"
   ]
  },
  {
   "cell_type": "code",
   "execution_count": 57,
   "metadata": {},
   "outputs": [],
   "source": [
    "# Select the pairs where the SNP window and the gene windows overlap\n",
    "snp_candidates[\"candidate\"] = snp_candidates.apply(lambda x: True if ((x[\"gene stop\"] >= x[\"location\"] - max_distance and x[\"gene stop\"] <= x[\"location\"] + max_distance) or \n",
    "                                                                      (x[\"gene start\"] >= x[\"location\"] - max_distance and x[\"gene start\"] <= x[\"location\"] + max_distance)) else False, axis = 1)\n",
    "\n",
    "# Without any distance filter, there are 244 unique SNP-gene pairs\n",
    "if distance_filter:\n",
    "    snp_candidates.drop(snp_candidates[snp_candidates[\"candidate\"] == False].index, inplace = True)"
   ]
  },
  {
   "cell_type": "code",
   "execution_count": 58,
   "metadata": {},
   "outputs": [],
   "source": [
    "# Mark the entries in the SNP candidates as positives. Also remove all duplicate SNP-gene entries.\n",
    "positives[\"Class\"] = 1\n",
    "positives.drop_duplicates([\"SNP ID\", \"gene\"], keep = \"last\", inplace = True)\n",
    "\n",
    "# Assign reference to set\n",
    "f = snp_candidates.drop(columns = [\"gene\", \"candidate\"]).merge(positives[[\"Class\", \"SNP ID\", \"gene\"]], how = \"left\", left_on = [\"SNP ID\", \"gene name\"], right_on = [\"SNP ID\", \"gene\"])\n",
    "f[\"Class\"].fillna(value = 0, inplace = True)\n",
    "f[\"Class\"] = f[\"Class\"].astype(int)\n",
    "\n",
    "# Also removed a column that was only used for merging.\n",
    "f.drop(columns = \"gene\", inplace = True)\n",
    "\n",
    "# Drop all entries that don't have at least one positive case\n",
    "f = f[f[\"SNP ID\"].isin(f[\"SNP ID\"][f[\"Class\"] == True])]"
   ]
  },
  {
   "cell_type": "code",
   "execution_count": 49,
   "metadata": {},
   "outputs": [],
   "source": [
    "# Check whether any snps are on the exons. These should be removed\n",
    "f = f.merge(exons[[\"start\", \"end\", \"gene_id\"]], left_on = \"ENSEMBL\", right_on = \"gene_id\")\n",
    "\n",
    "f[\"between\"] = f.apply(lambda x: True if x[\"location\"] >= x[\"start\"] & x[\"end\"] >= x[\"location\"] else False, axis = 1)\n",
    "f.drop(f[f[\"between\"] == True].index, inplace = True)\n",
    "f.drop(columns = [\"start\", \"end\", \"gene_id\", \"between\"], inplace = True)\n",
    "f = f.drop_duplicates()"
   ]
  },
  {
   "cell_type": "code",
   "execution_count": 52,
   "metadata": {},
   "outputs": [],
   "source": [
    "# Calculate the distance between the gene and the SNP\n",
    "f[[\"gene start\", \"gene stop\"]] = f[[\"gene start\", \"gene stop\"]].astype(int)\n",
    "f[\"bp distance absolute\"] = f.apply(lambda x: min([abs(x[\"gene start\"] - x[\"location\"]), abs(x[\"gene stop\"] - x[\"location\"])]), axis = 1).astype(int)\n",
    "f[\"bp distance\"] = f.apply(lambda x: min([x[\"gene start\"] - x[\"location\"], x[\"gene stop\"] - x[\"location\"]], key = abs), axis = 1).astype(int)"
   ]
  },
  {
   "cell_type": "code",
   "execution_count": null,
   "metadata": {},
   "outputs": [],
   "source": [
    "# Calculate the rank of the gene as compared to other genes\n",
    "f = f.sort_values([\"SNP ID\", \"bp distance absolute\"])\n",
    "f[\"Gene rank\"] = f.groupby(\"SNP ID\").cumcount() + 1"
   ]
  },
  {
   "cell_type": "code",
   "execution_count": null,
   "metadata": {},
   "outputs": [],
   "source": [
    "f.to_csv(\"/Users/vlietstraw/git/Post-GWAS/Input sets/Teslovich/Teslovich reference set.csv\", index = False)"
   ]
  },
  {
   "cell_type": "code",
   "execution_count": null,
   "metadata": {},
   "outputs": [],
   "source": [
    "sum(f[\"Gene rank\"][f[\"Class\"] == 1])/sum(f[\"Class\"])"
   ]
  },
  {
   "cell_type": "code",
   "execution_count": null,
   "metadata": {},
   "outputs": [],
   "source": [
    "import sklearn.metrics\n",
    "\n",
    "fpr, tpr, thresholds = sklearn.metrics.roc_curve(f[\"Class\"], -f[\"Gene rank\"], pos_label = 1)\n",
    "print(sklearn.metrics.auc(fpr, tpr) * 100)"
   ]
  },
  {
   "cell_type": "code",
   "execution_count": null,
   "metadata": {},
   "outputs": [],
   "source": [
    "SNPS2 = list(set(f[\"SNP ID\"]))\n",
    "aucs = []\n",
    "for snp in SNPS2:\n",
    "  fpr, tpr, thresholds = sklearn.metrics.roc_curve(f[\"Class\"][f[\"SNP ID\"] == snp], -f[\"Gene rank\"][f[\"SNP ID\"] == snp], pos_label = 1)\n",
    "  aucs.append(sklearn.metrics.auc(fpr, tpr))\n",
    "print(sum(aucs)/len(aucs))"
   ]
  }
 ],
 "metadata": {
  "kernelspec": {
   "display_name": "Python 3",
   "language": "python",
   "name": "python3"
  },
  "language_info": {
   "codemirror_mode": {
    "name": "ipython",
    "version": 3
   },
   "file_extension": ".py",
   "mimetype": "text/x-python",
   "name": "python",
   "nbconvert_exporter": "python",
   "pygments_lexer": "ipython3",
   "version": "3.7.9"
  }
 },
 "nbformat": 4,
 "nbformat_minor": 4
}
