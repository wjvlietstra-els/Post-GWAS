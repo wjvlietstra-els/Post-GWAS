{
 "cells": [
  {
   "cell_type": "markdown",
   "metadata": {},
   "source": [
    "# Create DeRycke reference set"
   ]
  },
  {
   "cell_type": "code",
   "execution_count": 1,
   "metadata": {},
   "outputs": [],
   "source": [
    "# Load the required packages\n",
    "import pandas as pd"
   ]
  },
  {
   "cell_type": "code",
   "execution_count": 2,
   "metadata": {},
   "outputs": [],
   "source": [
    "max_distance = 2000000\n",
    "FC_cutoff = 1.5\n",
    "FDR_cutoff = 0.0001\n",
    "distance_filter = True"
   ]
  },
  {
   "cell_type": "code",
   "execution_count": 18,
   "metadata": {},
   "outputs": [],
   "source": [
    "# Read in the data of Farashi et al. that is used as a reference set\n",
    "dr = pd.read_excel(\"DeRycke processed.xlsx\")"
   ]
  },
  {
   "cell_type": "code",
   "execution_count": 4,
   "metadata": {},
   "outputs": [],
   "source": [
    "# Drop all snps that target non protein-coding sequences.\n",
    "dr = dr[(dr[\"Gene Type\"] == \"Coding\") & (dr[\"Significant Genes (Group)*\"] != \"none\")]"
   ]
  },
  {
   "cell_type": "code",
   "execution_count": 23,
   "metadata": {},
   "outputs": [],
   "source": [
    "# Expand collapsed rows\n",
    "dr[\"SNP ID\"] = dr[\"Risk SNPs *\"].str.split(\",\")\n",
    "dr = dr.explode(\"SNP ID\")\n",
    "\n",
    "dr[\"gene\"] = dr[\"Significant Genes (Group)*\"].str.split(\"; \")\n",
    "dr = dr.explode(\"gene\")"
   ]
  },
  {
   "cell_type": "code",
   "execution_count": 6,
   "metadata": {},
   "outputs": [],
   "source": [
    "# Replace parenthesized entries at back of string\n",
    "dr[\"gene\"].replace(\"\\(\\d\\)$\", \"\", regex = True, inplace = True)"
   ]
  },
  {
   "cell_type": "code",
   "execution_count": 7,
   "metadata": {},
   "outputs": [],
   "source": [
    "dr.drop(columns = ['Risk Locus', 'Risk Region (hg19)', 'Risk Region #', 'Risk SNPs *', 'N \\nRisk SNPs', 'Region Status', 'N SNPs \\nTested', 'Gene Type', 'N Genes \\nTested', 'N Tests', 'N Significant Genes', 'Significant Genes (Group)*'], inplace = True)"
   ]
  },
  {
   "cell_type": "code",
   "execution_count": 8,
   "metadata": {},
   "outputs": [],
   "source": [
    "snp_replacement_dictionary = {\"rs74738513\" : \"rs11673591\", \"rs114376585\" : \"rs3096702\"}\n",
    "dropped_snps = [\"chr6:160581543:I\", \"kgp8152823\"]\n",
    "\n",
    "gene_replacement_dictionary = {\"AGAP7\" : \"AGAP7P\",\n",
    "                               \"\\nHLA-DQB2\" : \"HLA-DQB2\",\n",
    "                               \"APITD1\" : \"CENPS\",\n",
    "                               \"APITD1-CORT\" : \"CENPS-CORT\",\n",
    "                               \"BZRAP1\" : \"TSPOAP1\",\n",
    "                               \"C10orf32\" : \"BORCS7\",\n",
    "                               \"C10orf32-ASMT\" : \"BORCS7-ASMT\",\n",
    "                               \"C2orf43\" : \"LDAH\",\n",
    "                               \"RAB7L1\" : \"RAB29\",\n",
    "                               \"TMEM180\" : \"MFSD13A\",\n",
    "                               \"WDR52\" : \"CFAP44\"}\n",
    "\n",
    "unmappable = {\"LILRA3\", \"HCG27\", \"AC104667.3\", \"CTB-102L5.4\", \"RP11-817J15.3\"}\n",
    "\n",
    "dr[\"gene\"] = dr[\"gene\"].replace(gene_replacement_dictionary)\n",
    "dr = dr[~dr[\"gene\"].isin(unmappable)]\n",
    "\n",
    "dr[\"SNP ID\"] = dr[\"SNP ID\"].replace(snp_replacement_dictionary)\n",
    "dr = dr[~dr[\"SNP ID\"].isin(dropped_snps)]"
   ]
  },
  {
   "cell_type": "code",
   "execution_count": 9,
   "metadata": {},
   "outputs": [
    {
     "name": "stdout",
     "output_type": "stream",
     "text": [
      "querying 1-115...done.\n",
      "Finished.\n",
      "51 input query terms found dup hits:\n",
      "\t[('rs34925593', 2), ('rs8093601', 3), ('rs10122495', 2), ('rs7127900', 3), ('rs6853490', 2), ('rs130\n"
     ]
    }
   ],
   "source": [
    "# Get the SNP properties from dbsnp\n",
    "import myvariant\n",
    "mv = myvariant.MyVariantInfo()\n",
    "   \n",
    "dbsnp = mv.querymany(list(set(dr[\"SNP ID\"])), scopes='dbsnp.rsid', fields='dbsnp', returnall = True)"
   ]
  },
  {
   "cell_type": "code",
   "execution_count": 10,
   "metadata": {},
   "outputs": [],
   "source": [
    "dbsnp_tab = pd.DataFrame(dbsnp[\"out\"])\n",
    "dbsnp_tab = dbsnp_tab[dbsnp_tab[\"query\"].isin(dr[\"SNP ID\"])]\n",
    "\n",
    "# Extract the data from the payloads\n",
    "dbsnp_tab[\"chromosome\"] = dbsnp_tab[\"dbsnp\"].apply(lambda x: x[\"chrom\"])\n",
    "dbsnp_tab[\"location\"] = dbsnp_tab[\"dbsnp\"].apply(lambda x: x[\"hg19\"][\"start\"] if \"hg19\" in x.keys() else None)\n",
    "dbsnp_tab[\"ref\"] = dbsnp_tab[\"dbsnp\"].apply(lambda x: x[\"ref\"])\n",
    "dbsnp_tab[\"alt\"] = dbsnp_tab[\"dbsnp\"].apply(lambda x: x[\"alt\"])"
   ]
  },
  {
   "cell_type": "code",
   "execution_count": 11,
   "metadata": {},
   "outputs": [],
   "source": [
    "positives = dr.merge(dbsnp_tab[[\"query\", \"chromosome\", \"location\", \"ref\", \"alt\"]], how = \"outer\", left_on = \"SNP ID\", right_on = \"query\")\n",
    "positives.drop(columns = [\"query\"], inplace = True)"
   ]
  },
  {
   "cell_type": "code",
   "execution_count": 12,
   "metadata": {},
   "outputs": [],
   "source": [
    "# Use the prostate cancer set to extract Ensembl identifiers and map them, as well as getting gene coordinates for the negatives\n",
    "dex = pd.read_csv(\"../Gene expression data/Galaxy37-[edgeR_DGE_on_2__design_matrix_prostate_unpaired.txt_-_differentially_expressed_genes].tabular.annotated.txt\", \n",
    "                  delimiter = \"\\t\", index_col = 0, names = [\"ENSEMBL\", \"gene\", \"logFC\", \"logCPM\", \"LR\", \"pValue\", \"FDR\"], header = 0)\n",
    "dex[\"ENSEMBL\"].replace(\"(\\.\\d+)\", \"\", regex = True, inplace = True)\n",
    "\n",
    "# We know that the logFC is a 2 log. However, I prefer absolute values rather than logs\n",
    "dex[\"FC\"] = 2**dex[\"logFC\"]\n",
    "\n",
    "# Assign differential expression to the genes based on the previously set parameters\n",
    "dex[\"Diff expression\"] = \"Unchanged\"\n",
    "dex.loc[(dex[\"FDR\"] <= FDR_cutoff) & (dex[\"FC\"] <= 1/FC_cutoff), \"Diff expression\"] = \"Underexpressed\"\n",
    "dex.loc[(dex[\"FDR\"] <= FDR_cutoff) & (dex[\"FC\"] >= FC_cutoff), \"Diff expression\"] = \"Overexpressed\""
   ]
  },
  {
   "cell_type": "code",
   "execution_count": 13,
   "metadata": {},
   "outputs": [],
   "source": [
    "# Initiate the connection to the database (first time you may have to run ensembl.download() and ensembl.index())\n",
    "# To align with our reference set, we take a Ensembl version from 2019\n",
    "from pyensembl import EnsemblRelease\n",
    "ensembl = EnsemblRelease(92)\n",
    "\n",
    "# Function to extract the data (and prevent superfluous queries)\n",
    "def getEnsemblData(id):\n",
    "    try:\n",
    "        data = ensembl.gene_by_id(id)\n",
    "        return pd.Series({\"gene name\" : data.gene_name, \n",
    "                          \"chromosome\" : data.contig, \n",
    "                          \"gene start\" : data.start,\n",
    "                          \"gene stop\" : data.end,\n",
    "                          \"protein_coding\" : data.is_protein_coding})\n",
    "    except ValueError:\n",
    "        return pd.Series({\"gene name\" : None, \n",
    "                          \"chromosome\" : None, \n",
    "                          \"gene start\" : None,\n",
    "                          \"gene stop\" : None,\n",
    "                          \"protein_coding\" : None})"
   ]
  },
  {
   "cell_type": "code",
   "execution_count": 14,
   "metadata": {},
   "outputs": [],
   "source": [
    "dex[[\"gene name\", \"chromosome\", \"gene start\", \"gene stop\", \"protein_coding\"]] = dex[\"ENSEMBL\"].apply(lambda x: getEnsemblData(x))"
   ]
  },
  {
   "cell_type": "code",
   "execution_count": 16,
   "metadata": {},
   "outputs": [],
   "source": [
    "# All non-protein coding entries are removed\n",
    "dex = dex[dex[\"protein_coding\"] == True]\n",
    "\n",
    "# Drop the mitochondrial genes and the entries that could not be found\n",
    "dex.drop(dex[dex[\"chromosome\"].isin([\"MT\", None])].index, inplace = True)"
   ]
  },
  {
   "cell_type": "code",
   "execution_count": 17,
   "metadata": {},
   "outputs": [],
   "source": [
    "exons = pd.DataFrame([x.to_dict() for x in ensembl.exons()])"
   ]
  },
  {
   "cell_type": "code",
   "execution_count": 18,
   "metadata": {},
   "outputs": [],
   "source": [
    "# Create a dataframe of all combinations of SNPs and genes that are on the same chromosome\n",
    "positives[\"location\"] = positives[\"location\"].astype(int)\n",
    "snp_candidates = positives[[\"SNP ID\", \"chromosome\", \"location\", \"gene\"]].merge(\n",
    "    dex[[\"ENSEMBL\", \"gene name\", \"chromosome\", \"gene start\", \"gene stop\", \"Diff expression\"]], on = \"chromosome\", how = \"inner\")\n",
    "\n",
    "# Drop all entries that do not describe an unique pair of SNP and gene.\n",
    "# If gene start/stop would also be used to determine duplicates, at most 57 extra entries would be found. \n",
    "# This number is considered to be insignificant.\n",
    "snp_candidates.drop_duplicates([\"SNP ID\", \"gene name\"], keep = \"last\", inplace = True)"
   ]
  },
  {
   "cell_type": "code",
   "execution_count": null,
   "metadata": {},
   "outputs": [],
   "source": [
    "# Select the pairs where the SNP window and the gene windows overlap\n",
    "snp_candidates[\"candidate\"] = snp_candidates.apply(lambda x: True if ((x[\"gene stop\"] >= x[\"location\"] - max_distance and x[\"gene stop\"] <= x[\"location\"] + max_distance) or \n",
    "                                                                      (x[\"gene start\"] >= x[\"location\"] - max_distance and x[\"gene start\"] <= x[\"location\"] + max_distance)) else False, axis = 1)\n",
    "\n",
    "# Without any distance filter, there are 244 unique SNP-gene pairs\n",
    "if distance_filter:\n",
    "    snp_candidates.drop(snp_candidates[snp_candidates[\"candidate\"] == False].index, inplace = True)"
   ]
  },
  {
   "cell_type": "code",
   "execution_count": null,
   "metadata": {},
   "outputs": [],
   "source": [
    "# Mark the entries in the SNP candidates as positives. Also remove all duplicate SNP-gene entries.\n",
    "positives[\"Class\"] = 1\n",
    "positives.drop_duplicates([\"SNP ID\", \"gene\"], keep = \"last\", inplace = True)\n",
    "\n",
    "# Assign reference to set\n",
    "f = snp_candidates.drop(columns = [\"gene\", \"candidate\"]).merge(positives[[\"Class\", \"SNP ID\", \"gene\"]], how = \"left\", left_on = [\"SNP ID\", \"gene name\"], right_on = [\"SNP ID\", \"gene\"])\n",
    "f[\"Class\"].fillna(value = 0, inplace = True)\n",
    "f[\"Class\"] = f[\"Class\"].astype(int)\n",
    "\n",
    "# Also removed a column that was only used for merging.\n",
    "f.drop(columns = \"gene\", inplace = True)\n",
    "\n",
    "# Drop all entries that don't have at least one positive case\n",
    "f = f[f[\"SNP ID\"].isin(f[\"SNP ID\"][f[\"Class\"] == True])]"
   ]
  },
  {
   "cell_type": "code",
   "execution_count": null,
   "metadata": {},
   "outputs": [],
   "source": [
    "# Calculate the distance between the gene and the SNP\n",
    "f[[\"gene start\", \"gene stop\"]] = f[[\"gene start\", \"gene stop\"]].astype(int)\n",
    "f[\"bp distance absolute\"] = f.apply(lambda x: min([abs(x[\"gene start\"] - x[\"location\"]), abs(x[\"gene stop\"] - x[\"location\"])]), axis = 1).astype(int)\n",
    "f[\"bp distance\"] = f.apply(lambda x: min([x[\"gene start\"] - x[\"location\"], x[\"gene stop\"] - x[\"location\"]], key = abs), axis = 1).astype(int)"
   ]
  },
  {
   "cell_type": "code",
   "execution_count": null,
   "metadata": {},
   "outputs": [],
   "source": [
    "# Check whether any snps are on the exons. These should be removed\n",
    "f = f.merge(exons[[\"start\", \"end\", \"gene_id\"]], left_on = \"ENSEMBL\", right_on = \"gene_id\")\n",
    "\n",
    "f[\"between\"] = f.apply(lambda x: True if x[\"location\"] >= x[\"start\"] & x[\"end\"] >= x[\"location\"] else False, axis = 1)\n",
    "f.drop(f[f[\"between\"] == True].index, inplace = True)\n",
    "f.drop(columns = [\"start\", \"end\", \"gene_id\", \"between\"], inplace = True)\n",
    "f = f.drop_duplicates()"
   ]
  },
  {
   "cell_type": "code",
   "execution_count": null,
   "metadata": {},
   "outputs": [],
   "source": [
    "# Calculate the rank of the gene as compared to other genes\n",
    "f = f.sort_values([\"SNP ID\", \"bp distance absolute\"])\n",
    "f[\"Gene rank\"] = f.groupby(\"SNP ID\").cumcount() + 1"
   ]
  },
  {
   "cell_type": "code",
   "execution_count": null,
   "metadata": {},
   "outputs": [],
   "source": [
    "# Write file to CSV\n",
    "f.to_csv(\"/Users/vlietstraw/git/Post-GWAS/Input sets/DeRycke/DeRycke reference set.csv\", index = False)"
   ]
  },
  {
   "cell_type": "code",
   "execution_count": null,
   "metadata": {},
   "outputs": [],
   "source": [
    "import sklearn.metrics\n",
    "\n",
    "fpr, tpr, thresholds = sklearn.metrics.roc_curve(f[\"Class\"], -f[\"Gene rank\"], pos_label = 1)\n",
    "print(sklearn.metrics.auc(fpr, tpr) * 100)"
   ]
  },
  {
   "cell_type": "code",
   "execution_count": null,
   "metadata": {},
   "outputs": [],
   "source": [
    "sum(f[\"Gene rank\"][f[\"Class\"] == 1])/sum(f[\"Class\"])"
   ]
  },
  {
   "cell_type": "code",
   "execution_count": null,
   "metadata": {},
   "outputs": [],
   "source": [
    "SNPS2 = list(set(f[\"SNP ID\"]))\n",
    "aucs = []\n",
    "for snp in SNPS2:\n",
    "  fpr, tpr, thresholds = sklearn.metrics.roc_curve(f[\"Class\"][f[\"SNP ID\"] == snp], -f[\"Gene rank\"][f[\"SNP ID\"] == snp], pos_label = 1)\n",
    "  aucs.append(sklearn.metrics.auc(fpr, tpr))\n",
    "print(sum(aucs)/len(aucs))"
   ]
  },
  {
   "cell_type": "code",
   "execution_count": null,
   "metadata": {},
   "outputs": [],
   "source": []
  }
 ],
 "metadata": {
  "kernelspec": {
   "display_name": "Python 3",
   "language": "python",
   "name": "python3"
  },
  "language_info": {
   "codemirror_mode": {
    "name": "ipython",
    "version": 3
   },
   "file_extension": ".py",
   "mimetype": "text/x-python",
   "name": "python",
   "nbconvert_exporter": "python",
   "pygments_lexer": "ipython3",
   "version": "3.7.9"
  }
 },
 "nbformat": 4,
 "nbformat_minor": 4
}
