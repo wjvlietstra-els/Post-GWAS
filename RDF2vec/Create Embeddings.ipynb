{
 "cells": [
  {
   "cell_type": "markdown",
   "metadata": {},
   "source": [
    "# Create RDF2Vec-based embeddings"
   ]
  },
  {
   "cell_type": "code",
   "execution_count": null,
   "metadata": {},
   "outputs": [],
   "source": [
    "# Load required packages\n",
    "import pandas as pd\n",
    "from pyrdf2vec import RDF2VecTransformer\n",
    "from pyrdf2vec.graphs import KG, Vertex\n",
    "from pyrdf2vec.walkers import RandomWalker\n",
    "from pyrdf2vec.samplers import UniformSampler\n",
    "from pyrdf2vec.embedders import Word2Vec"
   ]
  },
  {
   "cell_type": "code",
   "execution_count": null,
   "metadata": {},
   "outputs": [],
   "source": [
    "refset = \"Teslovich\""
   ]
  },
  {
   "cell_type": "code",
   "execution_count": null,
   "metadata": {},
   "outputs": [],
   "source": [
    "if refset == \"Farashi\":\n",
    "    ref = pd.read_csv(\"/Users/vlietstraw/git/Post-GWAS/Input sets/Farashi/Farashi full 2000000 bp distance no pvalue filtering.csv\")\n",
    "    ensembl_ids = list(set(ref[\"gene_ids\"]))"
   ]
  },
  {
   "cell_type": "code",
   "execution_count": null,
   "metadata": {},
   "outputs": [],
   "source": [
    "if refset == \"DeRycke\":\n",
    "    ref = pd.read_csv(\"/Users/vlietstraw/git/Post-GWAS/Input sets/DeRycke/DeRycke reference set.csv\")\n",
    "    ensembl_ids = list(set(ref[\"ENSEMBL\"]))"
   ]
  },
  {
   "cell_type": "code",
   "execution_count": null,
   "metadata": {},
   "outputs": [],
   "source": [
    "if refset == \"Teslovich\":\n",
    "    ref = pd.read_csv(\"/Users/vlietstraw/git/Post-GWAS/Input sets/Teslovich/Teslovich reference set.csv\")\n",
    "    ensembl_ids = list(set(ref[\"ENSEMBL\"]))"
   ]
  },
  {
   "cell_type": "code",
   "execution_count": null,
   "metadata": {},
   "outputs": [],
   "source": [
    "# Load the triples\n",
    "PPI = pd.read_csv(\"/Users/vlietstraw/git/Post-GWAS/Complete set of protein-protein interactions extracted from PathwayStudio.csv\")\n",
    "PPI = PPI[[\"ENSEMBL1\", \"predicate\", \"ENSEMBL2\"]]\n",
    "\n",
    "entities = list(set(PPI[\"ENSEMBL1\"]).union(set(PPI[\"ENSEMBL2\"])))"
   ]
  },
  {
   "cell_type": "code",
   "execution_count": null,
   "metadata": {},
   "outputs": [],
   "source": [
    "ensembl_ids = list(set(ensembl_ids).intersection(set(entities)))"
   ]
  },
  {
   "cell_type": "code",
   "execution_count": null,
   "metadata": {},
   "outputs": [],
   "source": [
    "URL = \"http://pyRDF2Vec\"\n",
    "CUSTOM_KG = KG()"
   ]
  },
  {
   "cell_type": "code",
   "execution_count": null,
   "metadata": {},
   "outputs": [],
   "source": [
    "for index, row in PPI.iterrows():\n",
    "     subj = Vertex(URL + \"#\" + row[\"ENSEMBL1\"])\n",
    "     obj = Vertex(URL + \"#\" + row[\"ENSEMBL2\"])\n",
    "     pred = Vertex(URL + \"#\" + row[\"predicate\"], predicate=True, vprev=subj, vnext=obj)\n",
    "     CUSTOM_KG.add_walk(subj, pred, obj)"
   ]
  },
  {
   "cell_type": "code",
   "execution_count": null,
   "metadata": {},
   "outputs": [],
   "source": [
    "# Use default settins, only increase number of cores being used\n",
    "transformer = RDF2VecTransformer(walkers = [RandomWalker(2, None, UniformSampler(), n_jobs = 1)])\n",
    "embeddings, literals = transformer.fit_transform(CUSTOM_KG, entities = [URL + \"#\" + x for x in ensembl_ids])"
   ]
  },
  {
   "cell_type": "code",
   "execution_count": null,
   "metadata": {},
   "outputs": [],
   "source": [
    "features = pd.DataFrame(embeddings, columns = [\"F\"+str(i+1) for i in range(len(embeddings[1]))], index = ensembl_ids)\n",
    "features.to_csv(\"~/git/Post-GWAS/RDF2vec/\" + refset + \" complete protein-protein embeddings.csv\")                     "
   ]
  }
 ],
 "metadata": {
  "kernelspec": {
   "display_name": "Python 3",
   "language": "python",
   "name": "python3"
  },
  "language_info": {
   "codemirror_mode": {
    "name": "ipython",
    "version": 3
   },
   "file_extension": ".py",
   "mimetype": "text/x-python",
   "name": "python",
   "nbconvert_exporter": "python",
   "pygments_lexer": "ipython3",
   "version": "3.7.9"
  }
 },
 "nbformat": 4,
 "nbformat_minor": 4
}
