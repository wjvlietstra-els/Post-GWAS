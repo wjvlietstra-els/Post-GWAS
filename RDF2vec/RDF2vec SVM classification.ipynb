{
 "cells": [
  {
   "cell_type": "markdown",
   "metadata": {},
   "source": [
    "# RDF2vec classification"
   ]
  },
  {
   "cell_type": "code",
   "execution_count": 1,
   "metadata": {},
   "outputs": [],
   "source": [
    "# Load the required packages\n",
    "import pandas as pd\n",
    "from sklearn.svm import SVR\n",
    "from sklearn.tree import DecisionTreeRegressor\n",
    "from sklearn.neighbors import KNeighborsClassifier\n",
    "from sklearn.linear_model import LogisticRegression\n",
    "from sklearn.ensemble import RandomForestRegressor\n",
    "import json\n",
    "import numpy as np"
   ]
  },
  {
   "cell_type": "code",
   "execution_count": 2,
   "metadata": {},
   "outputs": [],
   "source": [
    "class_type = \"normal\"\n",
    "classifier = \"DT\""
   ]
  },
  {
   "cell_type": "code",
   "execution_count": 3,
   "metadata": {},
   "outputs": [],
   "source": [
    "# Load the autoencoded embeddings\n",
    "if class_type == \"autoencode\":\n",
    "    f = pd.read_csv(\"/Users/vlietstraw/git/Post-GWAS/RDF2vec/autorcode_emb.txt\", sep = \"\\t\", header = None)\n",
    "    f.drop(columns = [350], inplace = True)\n",
    "    f2 = pd.read_csv(\"/Users/vlietstraw/git/Post-GWAS/RDF2vec/Farashi complete protein-protein embeddings.csv\", index_col = 0)\n",
    "    f.index = f2.index"
   ]
  },
  {
   "cell_type": "code",
   "execution_count": 4,
   "metadata": {},
   "outputs": [],
   "source": [
    "if class_type == \"combi\":\n",
    "    f = pd.read_csv(\"/Users/vlietstraw/git/Post-GWAS/RDF2vec/autorcode_emb.txt\", sep = \"\\t\", header = None)\n",
    "    f.drop(columns = [350], inplace = True)\n",
    "    f2 = pd.read_csv(\"/Users/vlietstraw/git/Post-GWAS/RDF2vec/Farashi complete protein-protein embeddings.csv\", index_col = 0)\n",
    "    f.index = f2.index\n",
    "    \n",
    "    # Load the mapping file\n",
    "    with open(\"/Users/vlietstraw/git/Post-GWAS/ENSEMBL_mappings.json\", \"r\") as fp:\n",
    "        ensembl_dict = json.load(fp)\n",
    "    inv_map = {v: k for k, v in ensembl_dict.items()}\n",
    "    \n",
    "    graphlets = pd.read_csv(\"/Users/vlietstraw/git/Post-GWAS/EVOKE/unfiltered.txt\", header = None, sep = \" \", skiprows = 1)\n",
    "    graphlets.drop(columns = [73], inplace = True)\n",
    "    graphlets = graphlets.apply(lambda x: np.log10(x, where = x > 0))\n",
    "    graphlets.columns = [\"Graphlet \" + str(x) for x in range(len(list(graphlets)))]\n",
    "    graphlets.index = [x + 1 for x in list(graphlets.index)]\n",
    "    graphlets.index = [inv_map[x] for x in graphlets.index]\n",
    "    f = f.merge(graphlets, right_index = True, left_index = True)"
   ]
  },
  {
   "cell_type": "code",
   "execution_count": 5,
   "metadata": {},
   "outputs": [],
   "source": [
    "# Extend embeddings with graphlets\n",
    "if class_type == \"graphlet\":\n",
    "    f = pd.read_csv(\"/Users/vlietstraw/git/Post-GWAS/RDF2vec/Farashi complete protein-protein embeddings.csv\", index_col = 0)\n",
    "    graphlets = pd.read_csv(\"/Users/vlietstraw/git/Post-GWAS/EVOKE/unfiltered.txt\", header = None, sep = \" \", skiprows = 1)\n",
    "    \n",
    "    # Load the mapping file\n",
    "    with open(\"/Users/vlietstraw/git/Post-GWAS/ENSEMBL_mappings.json\", \"r\") as fp:\n",
    "        ensembl_dict = json.load(fp)\n",
    "    inv_map = {v: k for k, v in ensembl_dict.items()}\n",
    "    \n",
    "    graphlets.drop(columns = [73], inplace = True)\n",
    "    graphlets = graphlets.apply(lambda x: np.log10(x, where = x > 0))\n",
    "    graphlets.columns = [\"Graphlet \" + str(x) for x in range(len(list(graphlets)))]\n",
    "    graphlets.index = [x + 1 for x in list(graphlets.index)]\n",
    "    graphlets.index = [inv_map[x] for x in graphlets.index]\n",
    "    f = f.merge(graphlets, right_index = True, left_index = True)"
   ]
  },
  {
   "cell_type": "code",
   "execution_count": 6,
   "metadata": {},
   "outputs": [],
   "source": [
    "# Load the data\n",
    "if class_type == \"normal\":\n",
    "    f = pd.read_csv(\"/Users/vlietstraw/git/Post-GWAS/RDF2vec/Farashi complete protein-protein embeddings.csv\", index_col = 0)"
   ]
  },
  {
   "cell_type": "code",
   "execution_count": 7,
   "metadata": {},
   "outputs": [],
   "source": [
    "# Load the reference set\n",
    "ref = pd.read_csv(\"/Users/vlietstraw/git/Post-GWAS/Input sets/Farashi/Farashi full 2000000 bp distance no pvalue filtering.csv\")"
   ]
  },
  {
   "cell_type": "code",
   "execution_count": 8,
   "metadata": {},
   "outputs": [],
   "source": [
    "# Set bp distance cutoff\n",
    "max_bp_distance = 2000\n",
    "max_bp_distance = max_bp_distance * 1000\n",
    "ref = ref[ref[\"bp distance absolute\"] <= max_bp_distance]"
   ]
  },
  {
   "cell_type": "code",
   "execution_count": 9,
   "metadata": {},
   "outputs": [],
   "source": [
    "# Drop all SNPs which no longer have a positive case\n",
    "ref = ref[ref[\"gene_ids\"].isin(f.index)]\n",
    "pos_counts = ref.groupby(\"SNP ID\")[\"Class\"].sum()\n",
    "ref = ref[~ref[\"SNP ID\"].isin(pos_counts[pos_counts == 0].index)]"
   ]
  },
  {
   "cell_type": "code",
   "execution_count": 10,
   "metadata": {},
   "outputs": [],
   "source": [
    "# Identify all genes which are at least once positive\n",
    "positives = ref.groupby(\"gene_ids\")[\"Class\"].sum()\n",
    "positives[positives > 1] = 1\n",
    "\n",
    "f = f.merge(positives, left_index = True, right_index = True)"
   ]
  },
  {
   "cell_type": "markdown",
   "metadata": {},
   "source": [
    "## Leave SNP out classification"
   ]
  },
  {
   "cell_type": "code",
   "execution_count": 11,
   "metadata": {},
   "outputs": [],
   "source": [
    "outcomes = pd.DataFrame()\n",
    "train_auc_score = []\n",
    "train_auc_rank = []"
   ]
  },
  {
   "cell_type": "code",
   "execution_count": 12,
   "metadata": {},
   "outputs": [
    {
     "name": "stdout",
     "output_type": "stream",
     "text": [
      "Predicting candidates for rs62003544, number 1 out of 194\n",
      "Predicting candidates for rs1188529, number 2 out of 194\n",
      "Predicting candidates for rs11891426, number 3 out of 194\n",
      "Predicting candidates for rs11568311, number 4 out of 194\n",
      "Predicting candidates for rs12453443, number 5 out of 194\n",
      "Predicting candidates for rs6702939, number 6 out of 194\n",
      "Predicting candidates for rs2289081, number 7 out of 194\n",
      "Predicting candidates for rs12137162, number 8 out of 194\n",
      "Predicting candidates for rs9469899, number 9 out of 194\n",
      "Predicting candidates for rs3798439, number 10 out of 194\n",
      "Predicting candidates for rs651164, number 11 out of 194\n",
      "Predicting candidates for rs6983267, number 12 out of 194\n",
      "Predicting candidates for rs112871784, number 13 out of 194\n",
      "Predicting candidates for rs3746337, number 14 out of 194\n",
      "Predicting candidates for rs135009, number 15 out of 194\n",
      "Predicting candidates for rs6545977, number 16 out of 194\n",
      "Predicting candidates for rs461251, number 17 out of 194\n",
      "Predicting candidates for rs6977321, number 18 out of 194\n",
      "Predicting candidates for rs7223387, number 19 out of 194\n",
      "Predicting candidates for rs3821747, number 20 out of 194\n",
      "Predicting candidates for rs7323629, number 21 out of 194\n",
      "Predicting candidates for rs11629412, number 22 out of 194\n",
      "Predicting candidates for rs12419367, number 23 out of 194\n",
      "Predicting candidates for rs12656007, number 24 out of 194\n",
      "Predicting candidates for rs17774188, number 25 out of 194\n",
      "Predicting candidates for rs2130779, number 26 out of 194\n",
      "Predicting candidates for rs10122495, number 27 out of 194\n",
      "Predicting candidates for rs9925556, number 28 out of 194\n",
      "Predicting candidates for rs10795452, number 29 out of 194\n",
      "Predicting candidates for rs9940142, number 30 out of 194\n",
      "Predicting candidates for rs34884832, number 31 out of 194\n",
      "Predicting candidates for rs185397, number 32 out of 194\n",
      "Predicting candidates for rs11168936, number 33 out of 194\n",
      "Predicting candidates for rs339343, number 34 out of 194\n",
      "Predicting candidates for rs6958572, number 35 out of 194\n",
      "Predicting candidates for rs6557694, number 36 out of 194\n",
      "Predicting candidates for rs10069690, number 37 out of 194\n",
      "Predicting candidates for rs12981216, number 38 out of 194\n",
      "Predicting candidates for rs10792031, number 39 out of 194\n",
      "Predicting candidates for rs3129878, number 40 out of 194\n",
      "Predicting candidates for rs10280277, number 41 out of 194\n",
      "Predicting candidates for rs1010, number 42 out of 194\n",
      "Predicting candidates for rs35010507, number 43 out of 194\n",
      "Predicting candidates for rs7934971, number 44 out of 194\n",
      "Predicting candidates for rs10486567, number 45 out of 194\n",
      "Predicting candidates for rs2569733, number 46 out of 194\n",
      "Predicting candidates for rs7625643, number 47 out of 194\n",
      "Predicting candidates for rs9267919, number 48 out of 194\n",
      "Predicting candidates for rs17632542, number 49 out of 194\n",
      "Predicting candidates for rs1476161, number 50 out of 194\n",
      "Predicting candidates for rs2401138, number 51 out of 194\n",
      "Predicting candidates for rs1218582, number 52 out of 194\n",
      "Predicting candidates for rs9269108, number 53 out of 194\n",
      "Predicting candidates for rs79618460, number 54 out of 194\n",
      "Predicting candidates for rs914187, number 55 out of 194\n",
      "Predicting candidates for rs7725218, number 56 out of 194\n",
      "Predicting candidates for rs11689112, number 57 out of 194\n",
      "Predicting candidates for rs878987, number 58 out of 194\n",
      "Predicting candidates for rs2659051, number 59 out of 194\n",
      "Predicting candidates for rs17122571, number 60 out of 194\n",
      "Predicting candidates for rs10144415, number 61 out of 194\n",
      "Predicting candidates for rs6057110, number 62 out of 194\n",
      "Predicting candidates for rs6512130, number 63 out of 194\n",
      "Predicting candidates for rs2011345, number 64 out of 194\n",
      "Predicting candidates for rs34349481, number 65 out of 194\n",
      "Predicting candidates for rs6573971, number 66 out of 194\n",
      "Predicting candidates for rs2412106, number 67 out of 194\n",
      "Predicting candidates for rs12360799, number 68 out of 194\n",
      "Predicting candidates for rs9296365, number 69 out of 194\n",
      "Predicting candidates for rs12682374, number 70 out of 194\n",
      "Predicting candidates for rs9979125, number 71 out of 194\n",
      "Predicting candidates for rs1112444, number 72 out of 194\n",
      "Predicting candidates for rs10100297, number 73 out of 194\n",
      "Predicting candidates for rs10059182, number 74 out of 194\n",
      "Predicting candidates for rs11263763, number 75 out of 194\n",
      "Predicting candidates for rs9856752, number 76 out of 194\n",
      "Predicting candidates for rs12155172, number 77 out of 194\n",
      "Predicting candidates for rs2045624, number 78 out of 194\n",
      "Predicting candidates for rs4468286, number 79 out of 194\n",
      "Predicting candidates for rs4830661, number 80 out of 194\n",
      "Predicting candidates for rs6785962, number 81 out of 194\n",
      "Predicting candidates for rs9267853, number 82 out of 194\n",
      "Predicting candidates for rs10054203, number 83 out of 194\n",
      "Predicting candidates for rs330999, number 84 out of 194\n",
      "Predicting candidates for rs6096208, number 85 out of 194\n",
      "Predicting candidates for rs183373024, number 86 out of 194\n",
      "Predicting candidates for rs9368661, number 87 out of 194\n",
      "Predicting candidates for rs6738645, number 88 out of 194\n",
      "Predicting candidates for rs61752561, number 89 out of 194\n",
      "Predicting candidates for rs1320961, number 90 out of 194\n",
      "Predicting candidates for rs13395911, number 91 out of 194\n",
      "Predicting candidates for rs12653946, number 92 out of 194\n",
      "Predicting candidates for rs6001733, number 93 out of 194\n",
      "Predicting candidates for rs2555004, number 94 out of 194\n",
      "Predicting candidates for rs2014202, number 95 out of 194\n",
      "Predicting candidates for rs34837204, number 96 out of 194\n",
      "Predicting candidates for rs4245739, number 97 out of 194\n",
      "Predicting candidates for rs3786877, number 98 out of 194\n",
      "Predicting candidates for rs2456274, number 99 out of 194\n",
      "Predicting candidates for rs6899987, number 100 out of 194\n",
      "Predicting candidates for rs1045270, number 101 out of 194\n",
      "Predicting candidates for rs6760963, number 102 out of 194\n",
      "Predicting candidates for rs1242112, number 103 out of 194\n",
      "Predicting candidates for rs12938215, number 104 out of 194\n",
      "Predicting candidates for rs4962720, number 105 out of 194\n",
      "Predicting candidates for rs17024046, number 106 out of 194\n",
      "Predicting candidates for rs7449190, number 107 out of 194\n",
      "Predicting candidates for rs3135340, number 108 out of 194\n",
      "Predicting candidates for rs2253829, number 109 out of 194\n",
      "Predicting candidates for rs448083, number 110 out of 194\n",
      "Predicting candidates for rs6444923, number 111 out of 194\n",
      "Predicting candidates for rs4962416, number 112 out of 194\n",
      "Predicting candidates for rs6735152, number 113 out of 194\n",
      "Predicting candidates for rs708723, number 114 out of 194\n",
      "Predicting candidates for rs11247571, number 115 out of 194\n",
      "Predicting candidates for rs6011058, number 116 out of 194\n",
      "Predicting candidates for rs2739448, number 117 out of 194\n",
      "Predicting candidates for rs12655062, number 118 out of 194\n",
      "Predicting candidates for rs61890184, number 119 out of 194\n",
      "Predicting candidates for rs1250105, number 120 out of 194\n",
      "Predicting candidates for rs75513592, number 121 out of 194\n",
      "Predicting candidates for rs4325349, number 122 out of 194\n",
      "Predicting candidates for rs2283119, number 123 out of 194\n",
      "Predicting candidates for rs4430796, number 124 out of 194\n",
      "Predicting candidates for rs6730757, number 125 out of 194\n",
      "Predicting candidates for rs1160267, number 126 out of 194\n",
      "Predicting candidates for rs11191385, number 127 out of 194\n",
      "Predicting candidates for rs2736100, number 128 out of 194\n",
      "Predicting candidates for rs1983891, number 129 out of 194\n",
      "Predicting candidates for rs7295014, number 130 out of 194\n",
      "Predicting candidates for rs1891805, number 131 out of 194\n",
      "Predicting candidates for rs8069005, number 132 out of 194\n",
      "Predicting candidates for rs8134378, number 133 out of 194\n",
      "Predicting candidates for rs868868, number 134 out of 194\n",
      "Predicting candidates for rs1436642, number 135 out of 194\n",
      "Predicting candidates for rs3096702, number 136 out of 194\n",
      "Predicting candidates for rs3847414, number 137 out of 194\n",
      "Predicting candidates for rs34695572, number 138 out of 194\n",
      "Predicting candidates for rs12302939, number 139 out of 194\n",
      "Predicting candidates for rs182314334, number 140 out of 194\n",
      "Predicting candidates for rs437948, number 141 out of 194\n",
      "Predicting candidates for rs76778410, number 142 out of 194\n",
      "Predicting candidates for rs3105751, number 143 out of 194\n",
      "Predicting candidates for rs2242652, number 144 out of 194\n",
      "Predicting candidates for rs1058205, number 145 out of 194\n",
      "Predicting candidates for rs112262457, number 146 out of 194\n",
      "Predicting candidates for rs339331, number 147 out of 194\n",
      "Predicting candidates for rs3755718, number 148 out of 194\n",
      "Predicting candidates for rs7968403, number 149 out of 194\n",
      "Predicting candidates for rs747181, number 150 out of 194\n",
      "Predicting candidates for rs10936845, number 151 out of 194\n",
      "Predicting candidates for rs925013, number 152 out of 194\n",
      "Predicting candidates for rs73106451, number 153 out of 194\n",
      "Predicting candidates for rs2474694, number 154 out of 194\n",
      "Predicting candidates for rs7632169, number 155 out of 194\n",
      "Predicting candidates for rs12976534, number 156 out of 194\n",
      "Predicting candidates for rs28441558, number 157 out of 194\n",
      "Predicting candidates for rs7581701, number 158 out of 194\n",
      "Predicting candidates for rs3771578, number 159 out of 194\n",
      "Predicting candidates for rs3129887, number 160 out of 194\n",
      "Predicting candidates for rs12631116, number 161 out of 194\n",
      "Predicting candidates for rs12639887, number 162 out of 194\n",
      "Predicting candidates for rs58057291, number 163 out of 194\n",
      "Predicting candidates for rs78610930, number 164 out of 194\n",
      "Predicting candidates for rs4976790, number 165 out of 194\n",
      "Predicting candidates for rs11568818, number 166 out of 194\n",
      "Predicting candidates for rs1265109, number 167 out of 194\n",
      "Predicting candidates for rs13137700, number 168 out of 194\n",
      "Predicting candidates for rs10182643, number 169 out of 194\n",
      "Predicting candidates for rs12785905, number 170 out of 194\n",
      "Predicting candidates for rs4698932, number 171 out of 194\n",
      "Predicting candidates for rs2742624, number 172 out of 194\n",
      "Predicting candidates for rs4907792, number 173 out of 194\n",
      "Predicting candidates for rs2384958, number 174 out of 194\n",
      "Predicting candidates for rs5937025, number 175 out of 194\n",
      "Predicting candidates for rs17239945, number 176 out of 194\n",
      "Predicting candidates for rs8107333, number 177 out of 194\n",
      "Predicting candidates for rs11986220, number 178 out of 194\n",
      "Predicting candidates for rs785373, number 179 out of 194\n",
      "Predicting candidates for rs11666569, number 180 out of 194\n",
      "Predicting candidates for rs1048169, number 181 out of 194\n",
      "Predicting candidates for rs2452597, number 182 out of 194\n",
      "Predicting candidates for rs62113216, number 183 out of 194\n",
      "Predicting candidates for rs7885198, number 184 out of 194\n",
      "Predicting candidates for rs75056606, number 185 out of 194\n",
      "Predicting candidates for rs16860643, number 186 out of 194\n",
      "Predicting candidates for rs7968852, number 187 out of 194\n",
      "Predicting candidates for rs847377, number 188 out of 194\n",
      "Predicting candidates for rs1341051, number 189 out of 194\n",
      "Predicting candidates for rs6557271, number 190 out of 194\n",
      "Predicting candidates for rs6799720, number 191 out of 194\n",
      "Predicting candidates for rs74003103, number 192 out of 194\n",
      "Predicting candidates for rs742136, number 193 out of 194\n",
      "Predicting candidates for rs708481, number 194 out of 194\n"
     ]
    }
   ],
   "source": [
    "# Perform leave-SNP-out cross validation\n",
    "SNPs = list(set(ref[\"SNP ID\"]))\n",
    "for snp in SNPs:\n",
    "    print(\"Predicting candidates for \" + snp + \", number \" + str(SNPs.index(snp) + 1) + \" out of \" + str(len(SNPs)))\n",
    "\n",
    "    f_test = f[f.index.isin(ref[ref[\"SNP ID\"] == snp][\"gene_ids\"])].copy()\n",
    "    f_train = f[f.index.isin(ref[ref[\"SNP ID\"] != snp][\"gene_ids\"])].copy()\n",
    "    \n",
    "    train_class = f[\"Class\"][f.index.isin(f_train.index)]\n",
    "    test_class = f[\"Class\"][f.index.isin(f_test.index)]\n",
    "    \n",
    "    f_test.drop(columns = [\"Class\"], inplace = True)\n",
    "    f_train.drop(columns = [\"Class\"], inplace = True)\n",
    "\n",
    "    if classifier == \"SVM\":\n",
    "        clf = SVR(gamma=\"auto\")\n",
    "    if classifier == \"DT\":\n",
    "        clf = DecisionTreeRegressor()\n",
    "    if classifier == \"KNN\":\n",
    "        clf = KNeighborsClassifier(n_neighbors = 3)\n",
    "    if classifier == \"LR\":\n",
    "        from warnings import filterwarnings\n",
    "        filterwarnings('ignore')\n",
    "        clf = LogisticRegression()\n",
    "    if classifier == \"RF\":\n",
    "        clf = RandomForestRegressor(n_estimators = 1000, n_jobs = -1, max_features = \"sqrt\", max_depth = 5)\n",
    "    \n",
    "    clf.fit(f_train, train_class)\n",
    "\n",
    "    outcomes = pd.concat([outcomes, pd.DataFrame({\"predicted\" : clf.predict(f_test), \n",
    "                                                    \"SNP ID\" : snp,\n",
    "                                                    \"gene_ids\" : f_test.index})])\n",
    "    \n",
    "outcomes = outcomes.merge(ref[[\"SNP ID\", \"gene_ids\", \"Class\"]], on = [\"SNP ID\", \"gene_ids\"], how = \"left\")"
   ]
  },
  {
   "cell_type": "markdown",
   "metadata": {},
   "source": [
    "## Leave chromosome out validation"
   ]
  },
  {
   "cell_type": "code",
   "execution_count": 13,
   "metadata": {},
   "outputs": [],
   "source": [
    "outcomes2 = pd.DataFrame()\n",
    "train_auc_score2 = []\n",
    "train_auc_rank2 = []"
   ]
  },
  {
   "cell_type": "code",
   "execution_count": 14,
   "metadata": {},
   "outputs": [
    {
     "name": "stdout",
     "output_type": "stream",
     "text": [
      "Predicting candidates for chromosome 7\n",
      "Predicting candidates for chromosome X\n",
      "Predicting candidates for chromosome 3\n",
      "Predicting candidates for chromosome 16\n",
      "Predicting candidates for chromosome 17\n",
      "Predicting candidates for chromosome 5\n",
      "Predicting candidates for chromosome 2\n",
      "Predicting candidates for chromosome 4\n",
      "Predicting candidates for chromosome 6\n",
      "Predicting candidates for chromosome 21\n",
      "Predicting candidates for chromosome 1\n",
      "Predicting candidates for chromosome 14\n",
      "Predicting candidates for chromosome 22\n",
      "Predicting candidates for chromosome 11\n",
      "Predicting candidates for chromosome 13\n",
      "Predicting candidates for chromosome 8\n",
      "Predicting candidates for chromosome 20\n",
      "Predicting candidates for chromosome 10\n",
      "Predicting candidates for chromosome 9\n",
      "Predicting candidates for chromosome 19\n",
      "Predicting candidates for chromosome 12\n"
     ]
    }
   ],
   "source": [
    "# Perform leave-SNP-out cross validation\n",
    "chromosomes = list(set(ref[\"chromosome\"]))\n",
    "\n",
    "for chrom in chromosomes:\n",
    "    print(\"Predicting candidates for chromosome \" + chrom)\n",
    "\n",
    "    f_test = f[f.index.isin(ref[\"gene_ids\"][ref[\"chromosome\"] == chrom])].copy()\n",
    "    f_train = f[f.index.isin(ref[\"gene_ids\"][ref[\"chromosome\"] != chrom])].copy()\n",
    "    \n",
    "    train_class = f[\"Class\"][f.index.isin(f_train.index)]\n",
    "    test_class = f[\"Class\"][f.index.isin(f_test.index)]\n",
    "    \n",
    "    f_test.drop(columns = [\"Class\"], inplace = True)\n",
    "    f_train.drop(columns = [\"Class\"], inplace = True)\n",
    "    \n",
    "    if classifier == \"SVM\":\n",
    "        clf = SVR(gamma=\"auto\")\n",
    "    if classifier == \"DT\":\n",
    "        clf = DecisionTreeRegressor()\n",
    "    if classifier == \"KNN\":\n",
    "        clf = KNeighborsClassifier(n_neighbors = 3)\n",
    "    if classifier == \"LR\":\n",
    "        from warnings import filterwarnings\n",
    "        filterwarnings('ignore')\n",
    "        clf = LogisticRegression()\n",
    "    if classifier == \"RF\":\n",
    "        clf = RandomForestRegressor(n_estimators = 1000, n_jobs = -1, max_features = \"sqrt\", max_depth = 5)\n",
    "    \n",
    "    clf.fit(np.array(f_train), np.array(train_class))\n",
    "\n",
    "    outcomes2 = pd.concat([outcomes2, pd.DataFrame({\"predicted\" : clf.predict(f_test),\n",
    "                                                    \"Class\" : test_class, \n",
    "                                                    \"chromosome\" : chrom,\n",
    "                                                    \"gene_ids\" : f_test.index})])"
   ]
  },
  {
   "cell_type": "code",
   "execution_count": 15,
   "metadata": {},
   "outputs": [
    {
     "ename": "SyntaxError",
     "evalue": "invalid syntax (<ipython-input-15-cac32b3f1bd5>, line 2)",
     "output_type": "error",
     "traceback": [
      "\u001b[0;36m  File \u001b[0;32m\"<ipython-input-15-cac32b3f1bd5>\"\u001b[0;36m, line \u001b[0;32m2\u001b[0m\n\u001b[0;31m    outcomes2.to_csv(\"/Users/vlietstraw/git/Post-GWAS/RDF2vec/Leave-chromosome-Out graphlets cross validation \" + class_type + \" \" + str(max_bp_distance) + \" \" + classifier + \".csv\" index = False)\u001b[0m\n\u001b[0m                                                                                                                                                                                          ^\u001b[0m\n\u001b[0;31mSyntaxError\u001b[0m\u001b[0;31m:\u001b[0m invalid syntax\n"
     ]
    }
   ],
   "source": [
    "outcomes.to_csv(\"/Users/vlietstraw/git/Post-GWAS/RDF2vec/Leave-SNP-Out combi graphlets validation \" + class_type + \" \" + str(max_bp_distance) + \" \" + classifier + \".csv\", index = False)\n",
    "outcomes2.to_csv(\"/Users/vlietstraw/git/Post-GWAS/RDF2vec/Leave-chromosome-Out graphlets cross validation \" + class_type + \" \" + str(max_bp_distance) + \" \" + classifier + \".csv\" index = False)"
   ]
  },
  {
   "cell_type": "markdown",
   "metadata": {},
   "source": [
    "## Evaluate leave-SNP-out"
   ]
  },
  {
   "cell_type": "code",
   "execution_count": null,
   "metadata": {},
   "outputs": [],
   "source": [
    "outcomes = outcomes.sort_values([\"SNP ID\", \"predicted\"], ascending = False)\n",
    "outcomes[\"For-SNP rank\"] = outcomes.groupby(\"SNP ID\").cumcount() + 1"
   ]
  },
  {
   "cell_type": "code",
   "execution_count": null,
   "metadata": {},
   "outputs": [],
   "source": [
    "sum(outcomes[\"Class\"])"
   ]
  },
  {
   "cell_type": "code",
   "execution_count": null,
   "metadata": {},
   "outputs": [],
   "source": [
    "len(set(outcomes[\"SNP ID\"]))"
   ]
  },
  {
   "cell_type": "code",
   "execution_count": null,
   "metadata": {},
   "outputs": [],
   "source": [
    "import sklearn.metrics\n",
    "\n",
    "fpr, tpr, thresholds = sklearn.metrics.roc_curve(outcomes[\"Class\"], -outcomes[\"For-SNP rank\"], pos_label = 1)\n",
    "print(sklearn.metrics.auc(fpr, tpr) * 100)"
   ]
  },
  {
   "cell_type": "code",
   "execution_count": null,
   "metadata": {},
   "outputs": [],
   "source": [
    "# Calculate the ROC-AUC for every SNP and average the result\n",
    "SNPS2 = list(set(outcomes[\"SNP ID\"]))\n",
    "aucs = []\n",
    "for snp in SNPS2:\n",
    "  if len(set(outcomes[\"Class\"][outcomes[\"SNP ID\"] == snp])) == 1:\n",
    "      aucs.append(list(set(outcomes[\"Class\"][outcomes[\"SNP ID\"] == snp]))[0])\n",
    "  else:\n",
    "      fpr, tpr, thresholds = sklearn.metrics.roc_curve(outcomes[\"Class\"][outcomes[\"SNP ID\"] == snp], -outcomes[\"For-SNP rank\"][outcomes[\"SNP ID\"] == snp], pos_label = 1)\n",
    "      aucs.append(sklearn.metrics.auc(fpr, tpr))\n",
    "print(sum(aucs)/len(aucs))"
   ]
  },
  {
   "cell_type": "code",
   "execution_count": null,
   "metadata": {},
   "outputs": [],
   "source": [
    "# Calculate hits @1\n",
    "sum(outcomes[\"Class\"][(outcomes[\"Class\"] == 1) & (outcomes[\"For-SNP rank\"] == 1)])"
   ]
  },
  {
   "cell_type": "code",
   "execution_count": null,
   "metadata": {},
   "outputs": [],
   "source": [
    "# Calculate hits @3\n",
    "sum(outcomes[\"Class\"][(outcomes[\"Class\"] == 1) & (outcomes[\"For-SNP rank\"] <= 3)])"
   ]
  },
  {
   "cell_type": "code",
   "execution_count": null,
   "metadata": {},
   "outputs": [],
   "source": [
    "# Calculate hits @5\n",
    "sum(outcomes[\"Class\"][(outcomes[\"Class\"] == 1) & (outcomes[\"For-SNP rank\"] <= 5)])"
   ]
  },
  {
   "cell_type": "code",
   "execution_count": null,
   "metadata": {},
   "outputs": [],
   "source": [
    "# Calculate hits @10\n",
    "sum(outcomes[\"Class\"][(outcomes[\"Class\"] == 1) & (outcomes[\"For-SNP rank\"] <= 10)])"
   ]
  },
  {
   "cell_type": "code",
   "execution_count": null,
   "metadata": {},
   "outputs": [],
   "source": [
    "outcomes[\"For-SNP rank\"][(outcomes[\"Class\"] == 1)].mean()"
   ]
  },
  {
   "cell_type": "code",
   "execution_count": null,
   "metadata": {},
   "outputs": [],
   "source": [
    "outcomes[\"For-SNP rank\"][outcomes[\"Class\"] == 1].quantile(q = [0,0.25,0.5,0.75,1])"
   ]
  },
  {
   "cell_type": "markdown",
   "metadata": {},
   "source": [
    "## Evaluate leave-chromosome-out"
   ]
  },
  {
   "cell_type": "code",
   "execution_count": null,
   "metadata": {},
   "outputs": [],
   "source": [
    "outcomes2 = outcomes2.sort_values([\"chromosome\", \"predicted\"], ascending = False)\n",
    "outcomes2[\"For-chromosome rank\"] = outcomes2.groupby(\"chromosome\").cumcount() + 1"
   ]
  },
  {
   "cell_type": "code",
   "execution_count": null,
   "metadata": {},
   "outputs": [],
   "source": [
    "chromosomes = list(set(outcomes2[\"chromosome\"]))\n",
    "aucs = []\n",
    "for chrom in chromosomes:\n",
    "  fpr, tpr, thresholds = sklearn.metrics.roc_curve(outcomes2[\"Class\"][outcomes2[\"chromosome\"] == chrom], -outcomes2[\"For-chromosome rank\"][outcomes2[\"chromosome\"] == chrom], pos_label = 1)\n",
    "  aucs.append(sklearn.metrics.auc(fpr, tpr))\n",
    "print(sum(aucs)/len(aucs))"
   ]
  },
  {
   "cell_type": "code",
   "execution_count": null,
   "metadata": {},
   "outputs": [],
   "source": [
    "ref = ref.merge(outcomes2[[\"gene_ids\", \"predicted\"]], on = \"gene_ids\", how = \"left\")"
   ]
  },
  {
   "cell_type": "code",
   "execution_count": null,
   "metadata": {},
   "outputs": [],
   "source": [
    "ref = ref.sort_values([\"SNP ID\", \"predicted\"], ascending = False)\n",
    "ref[\"For-SNP rank\"] = ref.groupby(\"SNP ID\").cumcount() + 1"
   ]
  },
  {
   "cell_type": "code",
   "execution_count": null,
   "metadata": {},
   "outputs": [],
   "source": [
    "fpr, tpr, thresholds = sklearn.metrics.roc_curve(ref[\"Class\"], -ref[\"For-SNP rank\"], pos_label = 1)\n",
    "print(sklearn.metrics.auc(fpr, tpr) * 100)"
   ]
  },
  {
   "cell_type": "code",
   "execution_count": null,
   "metadata": {},
   "outputs": [],
   "source": [
    "# Calculate the ROC-AUC for every SNP and average the result\n",
    "SNPS2 = list(set(ref[\"SNP ID\"]))\n",
    "aucs = []\n",
    "for snp in SNPS2:\n",
    "  if len(set(ref[\"Class\"][ref[\"SNP ID\"] == snp])) == 1:\n",
    "      aucs.append(list(set(ref[\"Class\"][ref[\"SNP ID\"] == snp]))[0])\n",
    "  else:\n",
    "      fpr, tpr, thresholds = sklearn.metrics.roc_curve(ref[\"Class\"][ref[\"SNP ID\"] == snp], -ref[\"For-SNP rank\"][ref[\"SNP ID\"] == snp], pos_label = 1)\n",
    "      aucs.append(sklearn.metrics.auc(fpr, tpr))\n",
    "print(sum(aucs)/len(aucs))"
   ]
  },
  {
   "cell_type": "code",
   "execution_count": null,
   "metadata": {},
   "outputs": [],
   "source": [
    "# Calculate hits @1\n",
    "sum(ref[\"Class\"][(ref[\"Class\"] == 1) & (ref[\"For-SNP rank\"] == 1)])"
   ]
  },
  {
   "cell_type": "code",
   "execution_count": null,
   "metadata": {},
   "outputs": [],
   "source": [
    "# Calculate hits @3\n",
    "sum(ref[\"Class\"][(ref[\"Class\"] == 1) & (ref[\"For-SNP rank\"] <= 3)])"
   ]
  },
  {
   "cell_type": "code",
   "execution_count": null,
   "metadata": {},
   "outputs": [],
   "source": [
    "# Calculate hits @5\n",
    "sum(ref[\"Class\"][(ref[\"Class\"] == 1) & (ref[\"For-SNP rank\"] <= 5)])"
   ]
  },
  {
   "cell_type": "code",
   "execution_count": null,
   "metadata": {},
   "outputs": [],
   "source": [
    "# Calculate hits @10\n",
    "sum(ref[\"Class\"][(ref[\"Class\"] == 1) & (ref[\"For-SNP rank\"] <= 10)])"
   ]
  },
  {
   "cell_type": "code",
   "execution_count": null,
   "metadata": {},
   "outputs": [],
   "source": [
    "ref[\"For-SNP rank\"][(ref[\"Class\"] == 1)].mean()"
   ]
  },
  {
   "cell_type": "code",
   "execution_count": null,
   "metadata": {},
   "outputs": [],
   "source": [
    "ref[\"For-SNP rank\"][ref[\"Class\"] == 1].quantile(q = [0,0.25,0.5,0.75,1])"
   ]
  }
 ],
 "metadata": {
  "kernelspec": {
   "display_name": "Python 3",
   "language": "python",
   "name": "python3"
  },
  "language_info": {
   "codemirror_mode": {
    "name": "ipython",
    "version": 3
   },
   "file_extension": ".py",
   "mimetype": "text/x-python",
   "name": "python",
   "nbconvert_exporter": "python",
   "pygments_lexer": "ipython3",
   "version": "3.7.9"
  }
 },
 "nbformat": 4,
 "nbformat_minor": 4
}
